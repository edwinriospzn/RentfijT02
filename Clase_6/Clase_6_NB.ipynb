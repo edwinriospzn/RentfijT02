{
 "cells": [
  {
   "cell_type": "markdown",
   "metadata": {},
   "source": [
    "\"\"\"\\\n",
    "Clase 6: Python matricial para Renta Fija Local + SQL 2022\\\n",
    "\"\"\""
   ]
  },
  {
   "cell_type": "code",
   "execution_count": 2,
   "metadata": {},
   "outputs": [
    {
     "data": {
      "text/plain": [
       "'Calculos de riesgo'"
      ]
     },
     "execution_count": 2,
     "metadata": {},
     "output_type": "execute_result"
    }
   ],
   "source": [
    "\"\"\"Calculos de riesgo\"\"\""
   ]
  },
  {
   "cell_type": "code",
   "execution_count": 3,
   "metadata": {},
   "outputs": [],
   "source": [
    "\n",
    "import Funciones as funciones\n",
    "from Funciones import DB_class\n",
    "import pandas as pd\n",
    "import numpy as np\n",
    "import scipy.optimize as opt"
   ]
  },
  {
   "cell_type": "code",
   "execution_count": 4,
   "metadata": {},
   "outputs": [],
   "source": [
    "\n",
    "def Macaulay_duration_mat(parametros,prices):\n",
    "    \"\"\"\n",
    "    Calcula la duracion de Macaulay de manera matricial y simultanea para un\n",
    "    numero de titulos\n",
    "    :return: Vector con duracion de Macaulay para cada titulo\n",
    "    \"\"\"\n",
    "    try:\n",
    "        coupon_dict = parametros['cpn_dict']\n",
    "        cpn_m = coupon_dict['coupon_matrix']\n",
    "        delta_t = parametros['delta_t']\n",
    "        delta_t = delta_t.reshape(delta_t.size,1)\n",
    "        discount_factors = parametros['discount_factors']\n",
    "        ### Calculo de los cupones ponderados\n",
    "        cpn_pond = np.multiply(cpn_m,delta_t)\n",
    "        price_pond = np.multiply(cpn_pond,discount_factors).sum(axis=0)\n",
    "        mac_dur = price_pond/prices\n",
    "    except TypeError as ty:\n",
    "        print('Hubo un error en el calculo de la funcion Macaulay_duration_mat')\n",
    "        print(ty)\n",
    "        raise TypeError\n",
    "    except AttributeError as t:\n",
    "        print('Hubo un error en el calculo de la funcion Macaulay_duration_mat')\n",
    "        print(t)\n",
    "        raise AttributeError\n",
    "    except ValueError as v:\n",
    "        print('Hubo un error en el calculo de la funcion Macaulay_duration_mat')\n",
    "        print(v)\n",
    "        raise ValueError\n",
    "    except Exception as e: \n",
    "        print('Hubo un error en el calculo de la funcion Macaulay_duration_mat')\n",
    "        print(e)\n",
    "        raise Exception \n",
    "    return mac_dur"
   ]
  },
  {
   "cell_type": "code",
   "execution_count": 5,
   "metadata": {},
   "outputs": [],
   "source": [
    "\n",
    "def Modified_duration_mat(parametros,prices):\n",
    "    \"\"\"\n",
    "    Calcula la duracion de modificada de manera matricial y simultanea para un\n",
    "    numero de titulos, utilizando la funcion Macaulay_duration_mat \n",
    "    :return: Vector con duracion de modificada para cada titulo\n",
    "    \"\"\"\n",
    "    try:\n",
    "        discount_rates = np.array(parametros['discount_rates'])\n",
    "        discount_tirs = 1/(1+discount_rates/100)\n",
    "        #Calcularse con otra funcion\n",
    "        mac_dur = Macaulay_duration_mat(parametros,prices)\n",
    "        mod_dur = np.multiply(mac_dur,discount_tirs)\n",
    "    except TypeError as ty:\n",
    "        print('Hubo un error en el calculo de la funcion Modified_duration_mat')\n",
    "        print(ty)\n",
    "        raise TypeError\n",
    "    except AttributeError as t:\n",
    "        print('Hubo un error en el calculo de la funcion Modified_duration_mat')\n",
    "        print(t)\n",
    "        raise AttributeError\n",
    "    except ValueError as v:\n",
    "        print('Hubo un error en el calculo de la funcion Modified_duration_mat')\n",
    "        print(v)\n",
    "        raise ValueError\n",
    "    except Exception as e: \n",
    "        print('Hubo un error en el calculo de la funcion Modified_duration_mat')\n",
    "        print(e)\n",
    "        raise Exception \n",
    "    return mod_dur"
   ]
  },
  {
   "cell_type": "code",
   "execution_count": 6,
   "metadata": {},
   "outputs": [],
   "source": [
    "\n",
    "def Modified_duration_mat_2(parametros,prices,macaulay_duration):\n",
    "    \"\"\"\n",
    "    Calcula la duracion de modificada de manera matricial y simultanea para un\n",
    "    numero de titulos, utilizando el insumo de duracion de macaulay \n",
    "    :return: Vector con duracion de modificada para cada titulo\n",
    "    \"\"\"\n",
    "    try:\n",
    "        discount_rates = np.array(parametros['discount_rates'])\n",
    "        discount_tirs = 1/(1+discount_rates/100)\n",
    "        #Calcularse con otra funcion\n",
    "        mod_dur = np.multiply(macaulay_duration,discount_tirs)\n",
    "    except TypeError as ty:\n",
    "        print('Hubo un error en el calculo de la funcion Modified_duration_mat_2')\n",
    "        print(ty)\n",
    "        raise TypeError\n",
    "    except AttributeError as t:\n",
    "        print('Hubo un error en el calculo de la funcion Modified_duration_mat_2')\n",
    "        print(t)\n",
    "        raise AttributeError\n",
    "    except ValueError as v:\n",
    "        print('Hubo un error en el calculo de la funcion Modified_duration_mat_2')\n",
    "        print(v)\n",
    "        raise ValueError\n",
    "    except Exception as e: \n",
    "        print('Hubo un error en el calculo de la funcion Modified_duration_mat_2')\n",
    "        print(e)\n",
    "        raise Exception \n",
    "    return mod_dur\n"
   ]
  },
  {
   "cell_type": "code",
   "execution_count": 7,
   "metadata": {},
   "outputs": [],
   "source": [
    "\n",
    "def Convexity_mat(parametros,prices):\n",
    "    \"\"\"\n",
    "    Calcula la convexidad de manera matricial y simultanea para un\n",
    "    numero de titulos\n",
    "    :return: Vector con convexidad para cada titulo\n",
    "    \"\"\"\n",
    "    try:\n",
    "        coupon_dict = parametros['cpn_dict']\n",
    "        cpn_m = coupon_dict['coupon_matrix']\n",
    "        delta_t = parametros['delta_t']\n",
    "        delta_t = delta_t.reshape(delta_t.size,1)\n",
    "        discount_rates = np.array(parametros['discount_rates'])\n",
    "        discount_factors = parametros['discount_factors']\n",
    "        ### Calculo de denominadores\n",
    "        tir_discount = 1/(1+discount_rates/100)**2\n",
    "        price_denom = 1/prices\n",
    "        ### Calculo de los cupones ponderados\n",
    "        time_pond = np.multiply(delta_t,delta_t+1)\n",
    "        cpn_pond = np.multiply(cpn_m,time_pond)\n",
    "        price_pond = np.multiply(cpn_pond,discount_factors).sum(axis=0)\n",
    "        conv = price_denom*tir_discount*price_pond\n",
    "    except TypeError as ty:\n",
    "        print('Hubo un error en el calculo de la funcion Convexity_mat')\n",
    "        print(ty)\n",
    "        raise TypeError\n",
    "    except AttributeError as t:\n",
    "        print('Hubo un error en el calculo de la funcion Convexity_mat')\n",
    "        print(t)\n",
    "        raise AttributeError\n",
    "    except ValueError as v:\n",
    "        print('Hubo un error en el calculo de la funcion Convexity_mat')\n",
    "        print(v)\n",
    "        raise ValueError\n",
    "    except Exception as e: \n",
    "        print('Hubo un error en el calculo de la funcion Convexity_mat')\n",
    "        print(e)\n",
    "        raise Exception \n",
    "    return conv"
   ]
  },
  {
   "cell_type": "code",
   "execution_count": 8,
   "metadata": {},
   "outputs": [],
   "source": [
    "####### Funciones matriciales con Loop"
   ]
  },
  {
   "cell_type": "code",
   "execution_count": 9,
   "metadata": {},
   "outputs": [],
   "source": [
    "\n",
    "def Macaulay_duration_mat_loop(parametros,prices):\n",
    "    \"\"\"\n",
    "    Calcula la duracion de Macaulay de manera vectorizada y a traves de un loop para un\n",
    "    numero de titulos\n",
    "    :return: Vector con duracion de Macaulay para cada titulo\n",
    "    \"\"\"\n",
    "    try:\n",
    "        coupon_dict = parametros['cpn_dict']\n",
    "        cpn_m = coupon_dict['coupon_matrix']\n",
    "        delta_t = parametros['delta_t']\n",
    "        delta_t = delta_t.reshape(delta_t.size,1)\n",
    "        discount_factors = parametros['discount_factors']\n",
    "        mac_dur = []\n",
    "        for j in range(len(prices)):\n",
    "            ### Calculo de los cupones ponderados\n",
    "            cpn_pond = np.multiply(cpn_m[:,j].reshape(delta_t.size,1),delta_t)\n",
    "            price_pond = np.multiply(cpn_pond,discount_factors[:,j].reshape(cpn_pond.size,1)).sum(axis=0)\n",
    "            mac_dur_j = price_pond[0]/prices[j]\n",
    "            mac_dur.append(mac_dur_j)\n",
    "    except TypeError as ty:\n",
    "        print('Hubo un error en el calculo de la funcion Macaulay_duration_mat_loop')\n",
    "        print(ty)\n",
    "        raise TypeError\n",
    "    except AttributeError as t:\n",
    "        print('Hubo un error en el calculo de la funcion Macaulay_duration_mat_loop')\n",
    "        print(t)\n",
    "        raise AttributeError\n",
    "    except ValueError as v:\n",
    "        print('Hubo un error en el calculo de la funcion Macaulay_duration_mat_loop')\n",
    "        print(v)\n",
    "        raise ValueError\n",
    "    except Exception as e: \n",
    "        print('Hubo un error en el calculo de la funcion Macaulay_duration_mat_loop')\n",
    "        print(e)\n",
    "        raise Exception \n",
    "    return np.array(mac_dur)"
   ]
  },
  {
   "cell_type": "code",
   "execution_count": 10,
   "metadata": {},
   "outputs": [],
   "source": [
    "\n",
    "def Modified_duration_mat_loop(parametros,prices):\n",
    "    \"\"\"\n",
    "    Calcula la duracion de modificada de manera vectorizada  y a traves de un loop  para un\n",
    "    numero de titulos, utilizando la funcion Macaulay_duration_mat_loop \n",
    "    :return: Vector con duracion de modificada para cada titulo\n",
    "    \"\"\"\n",
    "    try:\n",
    "        discount_rates = np.array(parametros['discount_rates'])\n",
    "        discount_tirs = 1/(1+discount_rates/100)\n",
    "        #Calcularse con otra funcion\n",
    "        mac_dur = Macaulay_duration_mat_loop(parametros,prices)\n",
    "        mod_dur = []\n",
    "        for j in range(len(prices)):\n",
    "            mod_dur_j = np.multiply(mac_dur[j],discount_tirs[j])\n",
    "            mod_dur.append(mod_dur_j)\n",
    "    except TypeError as ty:\n",
    "        print('Hubo un error en el calculo de la funcion Modified_duration_mat_loop')\n",
    "        print(ty)\n",
    "        raise TypeError\n",
    "    except AttributeError as t:\n",
    "        print('Hubo un error en el calculo de la funcion Modified_duration_mat_loop')\n",
    "        print(t)\n",
    "        raise AttributeError\n",
    "    except ValueError as v:\n",
    "        print('Hubo un error en el calculo de la funcion Modified_duration_mat_loop')\n",
    "        print(v)\n",
    "        raise ValueError\n",
    "    except Exception as e: \n",
    "        print('Hubo un error en el calculo de la funcion Modified_duration_mat_loop')\n",
    "        print(e)\n",
    "        raise Exception \n",
    "    return np.array(mod_dur)"
   ]
  },
  {
   "cell_type": "code",
   "execution_count": 11,
   "metadata": {},
   "outputs": [],
   "source": [
    "\n",
    "def Modified_duration_mat_loop_2(parametros,prices,macaulay_duration):\n",
    "    \"\"\"\n",
    "    Calcula la duracion de modificada de manera matricial y a traves de un loop para un\n",
    "    numero de titulos, utilizando el insumo de duracion de macaulay \n",
    "    :return: Vector con duracion de modificada para cada titulo\n",
    "    \"\"\"\n",
    "    try:\n",
    "        discount_rates = np.array(parametros['discount_rates'])\n",
    "        discount_tirs = 1/(1+discount_rates/100)\n",
    "        #Calcularse con otra funcion\n",
    "        mod_dur = []\n",
    "        for j in range(len(prices)):\n",
    "            mod_dur_j = np.multiply(macaulay_duration[j],discount_tirs[j])\n",
    "            mod_dur.append(mod_dur_j)\n",
    "    except TypeError as ty:\n",
    "        print('Hubo un error en el calculo de la funcion Modified_duration_mat_loop_2')\n",
    "        print(ty)\n",
    "        raise TypeError\n",
    "    except AttributeError as t:\n",
    "        print('Hubo un error en el calculo de la funcion Modified_duration_mat_loop_2')\n",
    "        print(t)\n",
    "        raise AttributeError\n",
    "    except ValueError as v:\n",
    "        print('Hubo un error en el calculo de la funcion Modified_duration_mat_loop_2')\n",
    "        print(v)\n",
    "        raise ValueError\n",
    "    except Exception as e: \n",
    "        print('Hubo un error en el calculo de la funcion Modified_duration_mat_loop_2')\n",
    "        print(e)\n",
    "        raise Exception \n",
    "    return np.array(mod_dur)"
   ]
  },
  {
   "cell_type": "code",
   "execution_count": 12,
   "metadata": {},
   "outputs": [],
   "source": [
    "\n",
    "def Convexity_mat_loop(parametros,prices):\n",
    "    \"\"\"\n",
    "    Calcula la convexidad de manera vectorizada y a traves de un loop para un\n",
    "    numero de titulos\n",
    "    :return: Vector con duracion de Macaulay para cada titulo\n",
    "    \"\"\"\n",
    "    try:\n",
    "        coupon_dict = parametros['cpn_dict']\n",
    "        cpn_m = coupon_dict['coupon_matrix']\n",
    "        delta_t = parametros['delta_t']\n",
    "        delta_t = delta_t.reshape(delta_t.size,1)\n",
    "        discount_rates = np.array(parametros['discount_rates'])\n",
    "        discount_factors = parametros['discount_factors']\n",
    "        ### Calculo de denominadores\n",
    "        tir_discount = 1/(1+discount_rates/100)**2\n",
    "        price_denom = 1/prices\n",
    "        ### Calculo de los cupones ponderados\n",
    "        time_pond = np.multiply(delta_t,delta_t+1)\n",
    "        conv = []\n",
    "        for j in range(len(prices)):\n",
    "            cpn_pond = np.multiply(cpn_m[:,j].reshape(time_pond.size,1),time_pond)\n",
    "            price_pond = np.multiply(cpn_pond,discount_factors[:,j].reshape(cpn_pond.size,1)).sum(axis=0)\n",
    "            conv_j = price_denom[j]*tir_discount[j]*price_pond[0]\n",
    "            conv.append(conv_j)\n",
    "    except TypeError as ty:\n",
    "        print('Hubo un error en el calculo de la funcion Convexity_mat_loop')\n",
    "        print(ty)\n",
    "        raise TypeError\n",
    "    except AttributeError as t:\n",
    "        print('Hubo un error en el calculo de la funcion Convexity_mat_loop')\n",
    "        print(t)\n",
    "        raise AttributeError\n",
    "    except ValueError as v:\n",
    "        print('Hubo un error en el calculo de la funcion Convexity_mat_loop')\n",
    "        print(v)\n",
    "        raise ValueError\n",
    "    except Exception as e: \n",
    "        print('Hubo un error en el calculo de la funcion Convexity_mat_loop')\n",
    "        print(e)\n",
    "        raise Exception \n",
    "    return np.array(conv)"
   ]
  },
  {
   "cell_type": "code",
   "execution_count": 13,
   "metadata": {},
   "outputs": [],
   "source": [
    "### Calculos"
   ]
  },
  {
   "cell_type": "code",
   "execution_count": 14,
   "metadata": {},
   "outputs": [
    {
     "name": "stderr",
     "output_type": "stream",
     "text": [
      "C:\\Users\\Edwin\\AppData\\Roaming\\Python\\Python39\\site-packages\\pandas\\io\\sql.py:762: UserWarning: pandas only support SQLAlchemy connectable(engine/connection) ordatabase string URI or sqlite3 DBAPI2 connectionother DBAPI2 objects are not tested, please consider using SQLAlchemy\n",
      "  warnings.warn(\n"
     ]
    }
   ],
   "source": [
    "\n",
    "db_object = DB_class(host=\"localhost\",user=\"root\",password=\"root\",database=\"trabajo_1\")\n",
    "class6_db = db_object.open_db()\n",
    "mi_cursor = class6_db.cursor()\n",
    "query = (\"SELECT * FROM tabla_trabajo_1 order by fecha_vencimiento\")\n",
    "tes_faciales = pd.read_sql(query, con=class6_db)\n",
    "\n",
    "val_date= tes_faciales.fecha_valoracion.drop_duplicates()[0]\n",
    "ini_date = tes_faciales.fecha_emision\n",
    "fin_date = tes_faciales.fecha_vencimiento\n",
    "cpn =  tes_faciales.cupon\n",
    "discount_rates = tes_faciales.tir\n"
   ]
  },
  {
   "cell_type": "code",
   "execution_count": 15,
   "metadata": {},
   "outputs": [],
   "source": [
    "\n",
    "### titulos\n",
    "mul_inst = 1 #intentar 1, 100 y 10000\n",
    "parametros = dict({\n",
    "        'val_date':val_date, \n",
    "        'ini_date':np.tile(ini_date,mul_inst), \n",
    "        'fin_date':np.tile(fin_date,mul_inst), \n",
    "        'coupon':np.tile(cpn,mul_inst),\n",
    "        'discount_rates':np.tile(discount_rates,mul_inst),\n",
    "        'limits':np.array([-20,20])\n",
    "        })"
   ]
  },
  {
   "cell_type": "code",
   "execution_count": 16,
   "metadata": {},
   "outputs": [],
   "source": [
    "n_inst = len(parametros['coupon'])\n",
    "## Funcion de matriz de cupones\n",
    "coupon_dict = funciones.coupon_m(parametros)\n",
    "parametros['cpn_dict'] = coupon_dict\n",
    "parametros['delta_t'] = coupon_dict['days_matrix']/365\n",
    "parametros['discount_factors'] = funciones.discount_factor_m(parametros)\n",
    "\n",
    "prices = funciones.dirty_price_m(parametros)"
   ]
  },
  {
   "cell_type": "code",
   "execution_count": 18,
   "metadata": {},
   "outputs": [],
   "source": [
    "### Competencia de ejecucion\n",
    "import time"
   ]
  },
  {
   "cell_type": "code",
   "execution_count": 19,
   "metadata": {},
   "outputs": [],
   "source": [
    "ini_0 = time.time()\n",
    "mac_dur_m = Macaulay_duration_mat(parametros,prices).round(15)\n",
    "ini_1 = time.time()\n",
    "mod_dur_m_2 = Modified_duration_mat_2(parametros,prices,mac_dur_m).round(15)\n",
    "fin_0 = time.time()\n",
    "conv_m = Convexity_mat(parametros,prices).round(15)"
   ]
  },
  {
   "cell_type": "code",
   "execution_count": 20,
   "metadata": {},
   "outputs": [],
   "source": [
    "ini_2 = time.time()\n",
    "mac_dur_m_loop = Macaulay_duration_mat_loop(parametros,prices).round(15)\n",
    "ini_3 = time.time()\n",
    "mod_dur_m_loop_2 = Modified_duration_mat_loop_2(parametros,prices,mac_dur_m_loop).round(15)\n",
    "ini_4 = time.time()\n",
    "conv_m_loop = Convexity_mat_loop(parametros,prices).round(15)\n",
    "fin_1 = time.time()"
   ]
  },
  {
   "cell_type": "code",
   "execution_count": 21,
   "metadata": {},
   "outputs": [
    {
     "data": {
      "text/plain": [
       "False"
      ]
     },
     "execution_count": 21,
     "metadata": {},
     "output_type": "execute_result"
    }
   ],
   "source": [
    "(mac_dur_m==mac_dur_m_loop).all()\n",
    "(mod_dur_m_2 == mod_dur_m_loop_2).all()\n",
    "(conv_m == conv_m_loop).all()"
   ]
  },
  {
   "cell_type": "code",
   "execution_count": 22,
   "metadata": {},
   "outputs": [
    {
     "name": "stdout",
     "output_type": "stream",
     "text": [
      "El calculo de duracion macaulay matricial para 120 titulos, tardo 0.00 segundos\n",
      "El calculo de duracion macaulay vect en loop para  120 titulos, tardo 0.01 segundos\n",
      "El calculo de duracion modificada matricial para 120 titulos,  tardo 0.00 segundos\n",
      "El calculo de duracion modificada vect en loop para 120 titulos, tardo 0.00 segundos\n",
      "El calculo de la convexidad matricial para 120 titulos, tardo 2.08 segundos\n",
      "El calculo de la convexidad vect en loop para 120 titulos, tardo 0.00 segundos\n"
     ]
    }
   ],
   "source": [
    "print(f'El calculo de duracion macaulay matricial para {n_inst} titulos, tardo {(ini_1-ini_0):.2f} segundos')\n",
    "print(f'El calculo de duracion macaulay vect en loop para  {n_inst} titulos, tardo {(ini_3-ini_2):.2f} segundos')\n",
    "\n",
    "print(f'El calculo de duracion modificada matricial para {n_inst} titulos,  tardo {(fin_0-ini_1):.2f} segundos')\n",
    "print(f'El calculo de duracion modificada vect en loop para {n_inst} titulos, tardo {(ini_4-ini_3):.2f} segundos')\n",
    "\n",
    "print(f'El calculo de la convexidad matricial para {n_inst} titulos, tardo {(ini_2-fin_0):.2f} segundos')\n",
    "print(f'El calculo de la convexidad vect en loop para {n_inst} titulos, tardo {(fin_1-ini_4):.2f} segundos')\n",
    "\n"
   ]
  },
  {
   "cell_type": "code",
   "execution_count": 23,
   "metadata": {},
   "outputs": [],
   "source": [
    "\n",
    "### cada vez se cierra mas la diferencia entre los calculos. Como estos son titulos \n",
    "#sencillos, y no tienen tantos plazos al vencimiento, el tiempo se mantiene\n",
    "#llegara un punto donde es mas eficiente el calculo por loop que el matricial"
   ]
  },
  {
   "cell_type": "code",
   "execution_count": 25,
   "metadata": {},
   "outputs": [],
   "source": [
    "###############--------------- Calculo de precio \n",
    "import matplotlib.pyplot as plt\n",
    "import os\n",
    "cwd = os.getcwd()"
   ]
  },
  {
   "cell_type": "code",
   "execution_count": 26,
   "metadata": {},
   "outputs": [],
   "source": [
    "def objetive_function_prices(betas,parametros):\n",
    "    \"\"\"\n",
    "    Suma de los errores cuadraticos entre los precios de mercado y los precios provenientes\n",
    "        del descuento con una curva generada por el modelo de Nelson & Siegel\n",
    "    :param betas: (array) parametros del modelo\n",
    "    :param parametros: Diccionario de parametros\n",
    "    :return: (float) Diferencia\n",
    "    \"\"\"\n",
    "    try:\n",
    "        mkt_prices = parametros['mkt_prices']\n",
    "        mkt_prices = mkt_prices.reshape(mkt_prices.size,1)\n",
    "        prices = funciones.dirty_price_m_ns(betas,parametros) \n",
    "        diff = ((mkt_prices-prices)**2).sum()            \n",
    "    except AttributeError as t:\n",
    "        print('Hubo un error en el calculo de la funcion dirty_price_m_ns')\n",
    "        print(t)\n",
    "        raise AttributeError\n",
    "    except ValueError as v:\n",
    "        print('Hubo un error en el calculo de la funcion dirty_price_m_ns')\n",
    "        print(v)\n",
    "        raise ValueError\n",
    "    except Exception as e: \n",
    "        print('Hubo un error en el calculo de la funcion dirty_price_m_ns')\n",
    "        print(e)\n",
    "        raise Exception                                          \n",
    "    return diff\n"
   ]
  },
  {
   "cell_type": "code",
   "execution_count": 27,
   "metadata": {},
   "outputs": [],
   "source": [
    "def betas_optimization_bound_prices(parametros): \n",
    "    \"\"\"\n",
    "    Optimizacion por TIRs con un descuento con el modelo de Nelson & Siegel, a traves de\n",
    "        scipy.optimize.brute.\n",
    "    :param parametros: Diccionario de parametros\n",
    "    :return: Los parametros optimos del modelo\n",
    "    \"\"\"\n",
    "    try:\n",
    "        up_limit = parametros['limits'][1]\n",
    "        dw_limit = parametros['limits'][0]\n",
    "        bnds = [(dw_limit, up_limit)]*4\n",
    "        optimiz_result = opt.brute(objetive_function_prices,bnds,args=(parametros,))\n",
    "    except AttributeError as t:\n",
    "        print('Hubo un error en el calculo de la funcion betas_optimization_bound')\n",
    "        print(t)\n",
    "        raise AttributeError\n",
    "    except ValueError as v:\n",
    "        print('Hubo un error en el calculo de la funcion betas_optimization_bound')\n",
    "        print(v)\n",
    "        raise ValueError\n",
    "    except Exception as e: \n",
    "        print('Hubo un error en el calculo de la funcion betas_optimization_bound')\n",
    "        print(e)\n",
    "        raise Exception \n",
    "    return optimiz_result"
   ]
  },
  {
   "cell_type": "code",
   "execution_count": null,
   "metadata": {},
   "outputs": [],
   "source": [
    "### Calculos"
   ]
  },
  {
   "cell_type": "code",
   "execution_count": 28,
   "metadata": {},
   "outputs": [
    {
     "name": "stderr",
     "output_type": "stream",
     "text": [
      "C:\\Users\\Edwin\\AppData\\Roaming\\Python\\Python39\\site-packages\\pandas\\io\\sql.py:762: UserWarning: pandas only support SQLAlchemy connectable(engine/connection) ordatabase string URI or sqlite3 DBAPI2 connectionother DBAPI2 objects are not tested, please consider using SQLAlchemy\n",
      "  warnings.warn(\n"
     ]
    }
   ],
   "source": [
    "db_object = DB_class(host=\"localhost\",user=\"root\",password=\"root\",database=\"trabajo_1\")\n",
    "class6_db = db_object.open_db()\n",
    "mi_cursor = class6_db.cursor()\n",
    "query = (\"SELECT * FROM tabla_trabajo_1 order by fecha_vencimiento\")\n",
    "tes_faciales = pd.read_sql(query, con=class6_db)\n",
    "\n",
    "val_date= tes_faciales.fecha_valoracion.drop_duplicates()[0]\n",
    "ini_date = tes_faciales.fecha_emision\n",
    "fin_date = tes_faciales.fecha_vencimiento\n",
    "cpn =  tes_faciales.cupon\n",
    "discount_rates = tes_faciales.tir\n"
   ]
  },
  {
   "cell_type": "code",
   "execution_count": 29,
   "metadata": {},
   "outputs": [],
   "source": [
    "parametros = dict({\n",
    "        'val_date':val_date, \n",
    "        'ini_date':ini_date, \n",
    "        'fin_date':fin_date, \n",
    "        'coupon':cpn,\n",
    "        'discount_rates': discount_rates,\n",
    "        'limits':np.array([0,200])\n",
    "        })\n"
   ]
  },
  {
   "cell_type": "code",
   "execution_count": 30,
   "metadata": {},
   "outputs": [],
   "source": [
    "\n",
    "## Funcion de matriz de cupones\n",
    "coupon_dict = funciones.coupon_m(parametros)\n",
    "parametros['cpn_dict'] = coupon_dict\n",
    "parametros['delta_t'] = coupon_dict['days_matrix']/365\n",
    "parametros['mkt_prices'] = funciones.dirty_price_m(parametros)\n",
    "\n",
    "##### Calcular los betas\n",
    "venc = coupon_dict['days_matrix']/365\n"
   ]
  },
  {
   "cell_type": "code",
   "execution_count": 31,
   "metadata": {},
   "outputs": [
    {
     "name": "stderr",
     "output_type": "stream",
     "text": [
      "d:\\cursos\\Maestria finanzas\\S3_PySql rent fij\\Trabajo02\\Clase_6\\Funciones.py:89: RuntimeWarning: invalid value encountered in power\n",
      "  disc = (1/(1+d_r/100)**delta_t).T\n"
     ]
    },
    {
     "name": "stdout",
     "output_type": "stream",
     "text": [
      "El algortimo de optimizacion por minimize en TIR tarda 2157.17 segundos, 35.95 minutos\n"
     ]
    }
   ],
   "source": [
    "\n",
    "#### Optimizacion por TIRes\n",
    "import time\n",
    "parametros['limits'] = np.array([-20,20])\n",
    "ini = time.time()\n",
    "optimiz_result_2 = funciones.betas_optimization(parametros) #Calculo con ytm_mult, para que sea mas estable.\n",
    "#optimiz_result_2 = funciones.betas_optimization_bound(parametros) # La optimizacion por fuerza bruta y tir matricial, se demora horas en ejecutar (24h y contando)\n",
    "fin = time.time()\n",
    "#betas_opt_2 = optimiz_result_2.copy()\n",
    "betas_opt_2 = optimiz_result_2.x\n",
    "#np.array([ 0.08195372, -0.06309197,  0.07327265, 10.11351967]) #Solucion de fuerza bruta\n",
    "curva_2 = funciones.NelsonSiegel_m(betas_opt_2, venc)\n",
    "#print(f'El algortimo de optimizacion por fuerza bruta en TIR tarda {(fin-ini):.2f} segundos, {((fin-ini)/60):.2f} minutos')\n",
    "print(f'El algortimo de optimizacion por minimize en TIR tarda {(fin-ini):.2f} segundos, {((fin-ini)/60):.2f} minutos')\n"
   ]
  },
  {
   "cell_type": "code",
   "execution_count": 32,
   "metadata": {},
   "outputs": [
    {
     "data": {
      "text/plain": [
       "9127.81602898467"
      ]
     },
     "execution_count": 32,
     "metadata": {},
     "output_type": "execute_result"
    }
   ],
   "source": [
    "#Evaluar los precios, las TIRs y la funcion objetivo \n",
    "prices_opt_2 = funciones.dirty_price_m_ns(betas_opt_2,parametros)\n",
    "tirs_opt_2 = funciones.find_ytm_loop(parametros,prices_opt_2)\n",
    "funciones.find_ytm_m(parametros,prices_opt_2)\n",
    "objetive_function_prices(betas_opt_2,parametros)\n",
    "funciones.objetive_function(betas_opt_2,parametros)\n"
   ]
  },
  {
   "cell_type": "code",
   "execution_count": 34,
   "metadata": {},
   "outputs": [
    {
     "data": {
      "image/png": "[encoded data removed]",
      "text/plain": [
       "<Figure size 432x288 with 1 Axes>"
      ]
     },
     "metadata": {
      "needs_background": "light"
     },
     "output_type": "display_data"
    }
   ],
   "source": [
    "###Grafica\n",
    "y_term = [(fin_date[k]-val_date).days/365 for k in range(len(fin_date))]\n",
    "plt.plot(venc.T, curva_2*100,'r')\n",
    "plt.plot(np.array(y_term), np.array(discount_rates),'bo')\n",
    "plt.grid(True)\n",
    "plt.ylabel('Tasa %')\n",
    "plt.xlabel('Plazo (años)')\n",
    "plt.suptitle('Curva Cero Cupón por TIR-100 Pseudo TES')\n",
    "#plt.savefig(cwd+'\\\\Clase_6\\\\N&S-TIR_Opt_minimize.png')\n",
    "plt.show()"
   ]
  },
  {
   "cell_type": "code",
   "execution_count": 35,
   "metadata": {},
   "outputs": [
    {
     "name": "stderr",
     "output_type": "stream",
     "text": [
      "d:\\cursos\\Maestria finanzas\\S3_PySql rent fij\\Trabajo02\\Clase_6\\Funciones.py:234: RuntimeWarning: divide by zero encountered in true_divide\n",
      "  y = beta_0+params[1]*((1-np.exp(-ven/params[3]))/(ven/params[3]))+\\\n",
      "d:\\cursos\\Maestria finanzas\\S3_PySql rent fij\\Trabajo02\\Clase_6\\Funciones.py:235: RuntimeWarning: divide by zero encountered in true_divide\n",
      "  params[2]*((1-np.exp(-ven/params[3]))/(ven/params[3])- \\\n",
      "d:\\cursos\\Maestria finanzas\\S3_PySql rent fij\\Trabajo02\\Clase_6\\Funciones.py:236: RuntimeWarning: divide by zero encountered in true_divide\n",
      "  np.exp(-ven/params[3]))\n"
     ]
    },
    {
     "name": "stdout",
     "output_type": "stream",
     "text": [
      "El algortimo de optimizacion por fuerza bruta en Precio tarda 31.24 segundos\n"
     ]
    },
    {
     "name": "stderr",
     "output_type": "stream",
     "text": [
      "d:\\cursos\\Maestria finanzas\\S3_PySql rent fij\\Trabajo02\\Clase_6\\Funciones.py:271: RuntimeWarning: overflow encountered in exp\n",
      "  disc_factors = np.exp(np.multiply(-model_curve.T, venc)).T\n",
      "d:\\cursos\\Maestria finanzas\\S3_PySql rent fij\\Trabajo02\\Clase_6\\Funciones.py:273: RuntimeWarning: invalid value encountered in matmul\n",
      "  dirty_prices = np.matmul(cpn_m.T,disc_factors)\n"
     ]
    }
   ],
   "source": [
    "################ Optimizacion por precios\n",
    "import time\n",
    "parametros['limits'] = np.array([0,200])\n",
    "ini = time.time()\n",
    "optimiz_result = betas_optimization_bound_prices(parametros)\n",
    "fin = time.time()\n",
    "betas_opt = optimiz_result.copy()\n",
    "curva = funciones.NelsonSiegel_m(betas_opt, venc)\n",
    "print(f'El algortimo de optimizacion por fuerza bruta en Precio tarda {(fin-ini):.2f} segundos')\n",
    "#se demora menos de un min"
   ]
  },
  {
   "cell_type": "code",
   "execution_count": 36,
   "metadata": {},
   "outputs": [
    {
     "name": "stderr",
     "output_type": "stream",
     "text": [
      "d:\\cursos\\Maestria finanzas\\S3_PySql rent fij\\Trabajo02\\Clase_6\\Funciones.py:89: RuntimeWarning: invalid value encountered in power\n",
      "  disc = (1/(1+d_r/100)**delta_t).T\n"
     ]
    },
    {
     "data": {
      "text/plain": [
       "1361.6505285466742"
      ]
     },
     "execution_count": 36,
     "metadata": {},
     "output_type": "execute_result"
    }
   ],
   "source": [
    "\n",
    "#Evaluar los precios, las TIRs y la funcion objetivo \n",
    "prices_opt = funciones.dirty_price_m_ns(betas_opt,parametros)\n",
    "tirs_opt = funciones.find_ytm_loop(parametros,prices_opt)\n",
    "funciones.find_ytm_loop(parametros,prices_opt)\n",
    "objetive_function_prices(betas_opt,parametros)\n",
    "funciones.objetive_function(betas_opt,parametros)\n"
   ]
  },
  {
   "cell_type": "code",
   "execution_count": 37,
   "metadata": {},
   "outputs": [
    {
     "data": {
      "image/png": "[encoded data removed]",
      "text/plain": [
       "<Figure size 432x288 with 1 Axes>"
      ]
     },
     "metadata": {
      "needs_background": "light"
     },
     "output_type": "display_data"
    }
   ],
   "source": [
    "###Grafica\n",
    "y_term = [(fin_date[k]-val_date).days/365 for k in range(len(fin_date))]\n",
    "plt.plot(venc.T, curva*100,'r')\n",
    "plt.plot(np.array(y_term), np.array(discount_rates),'bo')\n",
    "plt.grid(True)\n",
    "plt.ylabel('Tasa %')\n",
    "plt.xlabel('Plazo (años)')\n",
    "plt.suptitle('Curva Cero Cupón por Precio- 100 Pseudo TES')\n",
    "#plt.savefig(cwd+'\\\\Clase_6\\\\N&S-Price_Opt.png')\n",
    "plt.show()"
   ]
  },
  {
   "cell_type": "code",
   "execution_count": null,
   "metadata": {},
   "outputs": [],
   "source": []
  },
  {
   "cell_type": "code",
   "execution_count": null,
   "metadata": {},
   "outputs": [],
   "source": []
  },
  {
   "cell_type": "code",
   "execution_count": null,
   "metadata": {},
   "outputs": [],
   "source": []
  },
  {
   "cell_type": "code",
   "execution_count": null,
   "metadata": {},
   "outputs": [],
   "source": []
  },
  {
   "cell_type": "code",
   "execution_count": null,
   "metadata": {},
   "outputs": [],
   "source": []
  },
  {
   "cell_type": "code",
   "execution_count": null,
   "metadata": {},
   "outputs": [],
   "source": []
  },
  {
   "cell_type": "code",
   "execution_count": null,
   "metadata": {},
   "outputs": [],
   "source": []
  }
 ],
 "metadata": {
  "kernelspec": {
   "display_name": "Python 3.9.12 ('base')",
   "language": "python",
   "name": "python3"
  },
  "language_info": {
   "codemirror_mode": {
    "name": "ipython",
    "version": 3
   },
   "file_extension": ".py",
   "mimetype": "text/x-python",
   "name": "python",
   "nbconvert_exporter": "python",
   "pygments_lexer": "ipython3",
   "version": "3.9.12"
  },
  "orig_nbformat": 4,
  "vscode": {
   "interpreter": {
    "hash": "ad2bdc8ecc057115af97d19610ffacc2b4e99fae6737bb82f5d7fb13d2f2c186"
   }
  }
 },
 "nbformat": 4,
 "nbformat_minor": 2
}
