{
 "cells": [
  {
   "cell_type": "markdown",
   "metadata": {},
   "source": [
    "## Trabajo 02 Renta fija Sql y python - Laura Rojas - Edwin Rios"
   ]
  },
  {
   "cell_type": "markdown",
   "metadata": {},
   "source": [
    "#### Librerias"
   ]
  },
  {
   "cell_type": "code",
   "execution_count": 1,
   "metadata": {},
   "outputs": [],
   "source": [
    "import mysql.connector\n",
    "import datetime as dt\n",
    "import numpy as np\n",
    "import pandas as pd\n",
    "from dateutil.relativedelta import relativedelta\n",
    "import matplotlib.pyplot as plt\n",
    "\n",
    "import time\n"
   ]
  },
  {
   "cell_type": "code",
   "execution_count": 2,
   "metadata": {},
   "outputs": [],
   "source": [
    "import os\n",
    "import sys\n",
    "import inspect"
   ]
  },
  {
   "cell_type": "code",
   "execution_count": 5,
   "metadata": {},
   "outputs": [],
   "source": [
    "import Clase_6.Funciones as funciones\n",
    "from Clase_6.Funciones import DB_class\n",
    "import Clase_6.Clase_6Fun as clase_6Fun"
   ]
  },
  {
   "cell_type": "markdown",
   "metadata": {},
   "source": [
    "--funciones\\\n",
    "    |-DB_class\\\n",
    "    |-coupon_m(parametros)\\\n",
    "    |-discount_factor_m(parametros)\\\n",
    "    |-dirty_price_m(parametros)\\\n",
    "    |-dirty_price_1i(parametros,inst_pos)\\\n",
    "    |-ytm_1d_obj_func(x,i,params,prices)\\\n",
    "    |-find_ytm_loop(parametros,prices)\\\n",
    "    |-ytm_obj_func(x,params,prices)\\\n",
    "    |-find_ytm_m(parametros,prices)\\\n",
    "    |-NelsonSiegel_1d(params, ven)\\\n",
    "    |-NelsonSiegel_m(params, ven)\\\n",
    "    |-dirty_price_m_ns(betas,parametros)\\\n",
    "    |-objetive_function(betas,parametros)\\\n",
    "    |-betas_optimization(parametros)\\\n",
    "    |-betas_optimization_bound(parametros)\\"
   ]
  },
  {
   "cell_type": "markdown",
   "metadata": {},
   "source": [
    "--Clase_6Fun\\\n",
    "    |-Macaulay_duration_mat(parametros,prices)\\\n",
    "    |-Modified_duration_mat(parametros,prices)\\\n",
    "    |-Modified_duration_mat_2(parametros,prices,macaulay_duration)\\\n",
    "    |-Convexity_mat(parametros,prices)\\\n",
    "    |-Macaulay_duration_mat_loop(parametros,prices)\\\n",
    "    |-Modified_duration_mat_loop(parametros,prices)\\\n",
    "    |-Modified_duration_mat_loop_2(parametros,prices,macaulay_duration)\\\n",
    "    |-Convexity_mat_loop(parametros,prices)\\\n",
    "    |-objetive_function_prices(betas,parametros)\\\n",
    "    |-betas_optimization_bound_prices(parametros)\\"
   ]
  },
  {
   "cell_type": "code",
   "execution_count": 3,
   "metadata": {},
   "outputs": [],
   "source": [
    "import itertools\n",
    "import importlib"
   ]
  },
  {
   "cell_type": "markdown",
   "metadata": {},
   "source": [
    "## Cargue base de datos TES"
   ]
  },
  {
   "cell_type": "code",
   "execution_count": 297,
   "metadata": {},
   "outputs": [
    {
     "name": "stderr",
     "output_type": "stream",
     "text": [
      "C:\\Users\\Edwin\\AppData\\Roaming\\Python\\Python39\\site-packages\\pandas\\io\\sql.py:762: UserWarning: pandas only support SQLAlchemy connectable(engine/connection) ordatabase string URI or sqlite3 DBAPI2 connectionother DBAPI2 objects are not tested, please consider using SQLAlchemy\n",
      "  warnings.warn(\n"
     ]
    },
    {
     "data": {
      "text/html": [
       "<div>\n",
       "<style scoped>\n",
       "    .dataframe tbody tr th:only-of-type {\n",
       "        vertical-align: middle;\n",
       "    }\n",
       "\n",
       "    .dataframe tbody tr th {\n",
       "        vertical-align: top;\n",
       "    }\n",
       "\n",
       "    .dataframe thead th {\n",
       "        text-align: right;\n",
       "    }\n",
       "</style>\n",
       "<table border=\"1\" class=\"dataframe\">\n",
       "  <thead>\n",
       "    <tr style=\"text-align: right;\">\n",
       "      <th></th>\n",
       "      <th>Tipo</th>\n",
       "      <th>Indice_tipo</th>\n",
       "      <th>fecha_valoracion</th>\n",
       "      <th>nemotecnico</th>\n",
       "      <th>fecha_emision</th>\n",
       "      <th>fecha_vencimiento</th>\n",
       "      <th>cupon</th>\n",
       "      <th>tir</th>\n",
       "      <th>frecuencia_pago</th>\n",
       "      <th>Indicador_indexado</th>\n",
       "      <th>conteo_dias</th>\n",
       "      <th>Indice_c</th>\n",
       "      <th>fecha_indice</th>\n",
       "      <th>valor</th>\n",
       "    </tr>\n",
       "  </thead>\n",
       "  <tbody>\n",
       "    <tr>\n",
       "      <th>0</th>\n",
       "      <td>T1</td>\n",
       "      <td>1</td>\n",
       "      <td>2022-09-18</td>\n",
       "      <td>CDTOCSS6V</td>\n",
       "      <td>2012-04-12</td>\n",
       "      <td>2023-04-12</td>\n",
       "      <td>6.0</td>\n",
       "      <td>4.021916</td>\n",
       "      <td>6</td>\n",
       "      <td>No</td>\n",
       "      <td>REAL/365</td>\n",
       "      <td>No</td>\n",
       "      <td>2022-09-18</td>\n",
       "      <td>0.0</td>\n",
       "    </tr>\n",
       "    <tr>\n",
       "      <th>1</th>\n",
       "      <td>T1</td>\n",
       "      <td>2</td>\n",
       "      <td>2022-09-18</td>\n",
       "      <td>CDTGEDS6V</td>\n",
       "      <td>2012-08-26</td>\n",
       "      <td>2023-08-26</td>\n",
       "      <td>6.0</td>\n",
       "      <td>4.760056</td>\n",
       "      <td>6</td>\n",
       "      <td>No</td>\n",
       "      <td>REAL/365</td>\n",
       "      <td>No</td>\n",
       "      <td>2022-09-18</td>\n",
       "      <td>0.0</td>\n",
       "    </tr>\n",
       "    <tr>\n",
       "      <th>2</th>\n",
       "      <td>T1</td>\n",
       "      <td>3</td>\n",
       "      <td>2022-09-18</td>\n",
       "      <td>CDTDXAS6V</td>\n",
       "      <td>2012-05-15</td>\n",
       "      <td>2024-05-15</td>\n",
       "      <td>6.0</td>\n",
       "      <td>5.905344</td>\n",
       "      <td>6</td>\n",
       "      <td>No</td>\n",
       "      <td>REAL/365</td>\n",
       "      <td>No</td>\n",
       "      <td>2022-09-18</td>\n",
       "      <td>0.0</td>\n",
       "    </tr>\n",
       "    <tr>\n",
       "      <th>3</th>\n",
       "      <td>T1</td>\n",
       "      <td>4</td>\n",
       "      <td>2022-09-18</td>\n",
       "      <td>CDTVFTS6V</td>\n",
       "      <td>2012-07-24</td>\n",
       "      <td>2024-07-24</td>\n",
       "      <td>7.0</td>\n",
       "      <td>6.157886</td>\n",
       "      <td>6</td>\n",
       "      <td>No</td>\n",
       "      <td>REAL/365</td>\n",
       "      <td>No</td>\n",
       "      <td>2022-09-18</td>\n",
       "      <td>0.0</td>\n",
       "    </tr>\n",
       "    <tr>\n",
       "      <th>4</th>\n",
       "      <td>T1</td>\n",
       "      <td>5</td>\n",
       "      <td>2022-09-18</td>\n",
       "      <td>CDTAOFS6V</td>\n",
       "      <td>2014-12-20</td>\n",
       "      <td>2024-12-20</td>\n",
       "      <td>5.0</td>\n",
       "      <td>6.634711</td>\n",
       "      <td>6</td>\n",
       "      <td>No</td>\n",
       "      <td>REAL/365</td>\n",
       "      <td>No</td>\n",
       "      <td>2022-09-18</td>\n",
       "      <td>0.0</td>\n",
       "    </tr>\n",
       "    <tr>\n",
       "      <th>...</th>\n",
       "      <td>...</td>\n",
       "      <td>...</td>\n",
       "      <td>...</td>\n",
       "      <td>...</td>\n",
       "      <td>...</td>\n",
       "      <td>...</td>\n",
       "      <td>...</td>\n",
       "      <td>...</td>\n",
       "      <td>...</td>\n",
       "      <td>...</td>\n",
       "      <td>...</td>\n",
       "      <td>...</td>\n",
       "      <td>...</td>\n",
       "      <td>...</td>\n",
       "    </tr>\n",
       "    <tr>\n",
       "      <th>495</th>\n",
       "      <td>T5</td>\n",
       "      <td>96</td>\n",
       "      <td>2022-09-18</td>\n",
       "      <td>TUVTZT360</td>\n",
       "      <td>2021-02-13</td>\n",
       "      <td>2050-02-13</td>\n",
       "      <td>3.0</td>\n",
       "      <td>9.828134</td>\n",
       "      <td>12</td>\n",
       "      <td>No</td>\n",
       "      <td>REAL/360</td>\n",
       "      <td>No</td>\n",
       "      <td>2022-09-18</td>\n",
       "      <td>0.0</td>\n",
       "    </tr>\n",
       "    <tr>\n",
       "      <th>496</th>\n",
       "      <td>T5</td>\n",
       "      <td>97</td>\n",
       "      <td>2022-09-18</td>\n",
       "      <td>TUVTYO360</td>\n",
       "      <td>2017-09-04</td>\n",
       "      <td>2050-09-04</td>\n",
       "      <td>3.0</td>\n",
       "      <td>9.843179</td>\n",
       "      <td>12</td>\n",
       "      <td>No</td>\n",
       "      <td>REAL/360</td>\n",
       "      <td>No</td>\n",
       "      <td>2022-09-18</td>\n",
       "      <td>0.0</td>\n",
       "    </tr>\n",
       "    <tr>\n",
       "      <th>497</th>\n",
       "      <td>T5</td>\n",
       "      <td>98</td>\n",
       "      <td>2022-09-18</td>\n",
       "      <td>TUVTXV360</td>\n",
       "      <td>2015-06-16</td>\n",
       "      <td>2050-06-16</td>\n",
       "      <td>5.0</td>\n",
       "      <td>9.837320</td>\n",
       "      <td>12</td>\n",
       "      <td>No</td>\n",
       "      <td>REAL/360</td>\n",
       "      <td>No</td>\n",
       "      <td>2022-09-18</td>\n",
       "      <td>0.0</td>\n",
       "    </tr>\n",
       "    <tr>\n",
       "      <th>498</th>\n",
       "      <td>T5</td>\n",
       "      <td>99</td>\n",
       "      <td>2022-09-18</td>\n",
       "      <td>TUVTHB360</td>\n",
       "      <td>2020-11-19</td>\n",
       "      <td>2050-11-19</td>\n",
       "      <td>5.0</td>\n",
       "      <td>9.848664</td>\n",
       "      <td>12</td>\n",
       "      <td>No</td>\n",
       "      <td>REAL/360</td>\n",
       "      <td>No</td>\n",
       "      <td>2022-09-18</td>\n",
       "      <td>0.0</td>\n",
       "    </tr>\n",
       "    <tr>\n",
       "      <th>499</th>\n",
       "      <td>T5</td>\n",
       "      <td>100</td>\n",
       "      <td>2022-09-18</td>\n",
       "      <td>TUVTPX360</td>\n",
       "      <td>2012-12-10</td>\n",
       "      <td>2050-12-10</td>\n",
       "      <td>3.0</td>\n",
       "      <td>9.850165</td>\n",
       "      <td>12</td>\n",
       "      <td>No</td>\n",
       "      <td>REAL/360</td>\n",
       "      <td>No</td>\n",
       "      <td>2022-09-18</td>\n",
       "      <td>0.0</td>\n",
       "    </tr>\n",
       "  </tbody>\n",
       "</table>\n",
       "<p>500 rows × 14 columns</p>\n",
       "</div>"
      ],
      "text/plain": [
       "    Tipo  Indice_tipo fecha_valoracion nemotecnico fecha_emision  \\\n",
       "0     T1            1       2022-09-18   CDTOCSS6V    2012-04-12   \n",
       "1     T1            2       2022-09-18   CDTGEDS6V    2012-08-26   \n",
       "2     T1            3       2022-09-18   CDTDXAS6V    2012-05-15   \n",
       "3     T1            4       2022-09-18   CDTVFTS6V    2012-07-24   \n",
       "4     T1            5       2022-09-18   CDTAOFS6V    2014-12-20   \n",
       "..   ...          ...              ...         ...           ...   \n",
       "495   T5           96       2022-09-18   TUVTZT360    2021-02-13   \n",
       "496   T5           97       2022-09-18   TUVTYO360    2017-09-04   \n",
       "497   T5           98       2022-09-18   TUVTXV360    2015-06-16   \n",
       "498   T5           99       2022-09-18   TUVTHB360    2020-11-19   \n",
       "499   T5          100       2022-09-18   TUVTPX360    2012-12-10   \n",
       "\n",
       "    fecha_vencimiento  cupon       tir  frecuencia_pago Indicador_indexado  \\\n",
       "0          2023-04-12    6.0  4.021916                6                 No   \n",
       "1          2023-08-26    6.0  4.760056                6                 No   \n",
       "2          2024-05-15    6.0  5.905344                6                 No   \n",
       "3          2024-07-24    7.0  6.157886                6                 No   \n",
       "4          2024-12-20    5.0  6.634711                6                 No   \n",
       "..                ...    ...       ...              ...                ...   \n",
       "495        2050-02-13    3.0  9.828134               12                 No   \n",
       "496        2050-09-04    3.0  9.843179               12                 No   \n",
       "497        2050-06-16    5.0  9.837320               12                 No   \n",
       "498        2050-11-19    5.0  9.848664               12                 No   \n",
       "499        2050-12-10    3.0  9.850165               12                 No   \n",
       "\n",
       "    conteo_dias Indice_c fecha_indice  valor  \n",
       "0      REAL/365       No   2022-09-18    0.0  \n",
       "1      REAL/365       No   2022-09-18    0.0  \n",
       "2      REAL/365       No   2022-09-18    0.0  \n",
       "3      REAL/365       No   2022-09-18    0.0  \n",
       "4      REAL/365       No   2022-09-18    0.0  \n",
       "..          ...      ...          ...    ...  \n",
       "495    REAL/360       No   2022-09-18    0.0  \n",
       "496    REAL/360       No   2022-09-18    0.0  \n",
       "497    REAL/360       No   2022-09-18    0.0  \n",
       "498    REAL/360       No   2022-09-18    0.0  \n",
       "499    REAL/360       No   2022-09-18    0.0  \n",
       "\n",
       "[500 rows x 14 columns]"
      ]
     },
     "metadata": {},
     "output_type": "display_data"
    }
   ],
   "source": [
    "db_object = DB_class(host=\"localhost\",user=\"root\",password=\"root\",database=\"trabajo_1\")\n",
    "class2_db = db_object.open_db()\n",
    "mi_cursor = class2_db.cursor()\n",
    "query = (\n",
    "'SELECT '+\\\n",
    "'trabajo_2.tabla_precios.Tipo,'+\\\n",
    "'trabajo_2.tabla_precios.Indice_tipo,'+\\\n",
    "'trabajo_2.tabla_precios.fecha_valoracion,'+\\\n",
    "'trabajo_2.tabla_precios.nemotecnico,'+\\\n",
    "'trabajo_2.tabla_precios.fecha_emision,'+\\\n",
    "'trabajo_2.tabla_precios.fecha_vencimiento,'+\\\n",
    "'trabajo_2.tabla_precios.cupon,'+\\\n",
    "'trabajo_2.tabla_precios.tir,'+\\\n",
    "'trabajo_2.tabla_precios.frecuencia_pago,'+\\\n",
    "'trabajo_2.tabla_precios.Indicador_indexado,'+\\\n",
    "'trabajo_2.tabla_precios.conteo_dias,'+\\\n",
    "'trabajo_2.tabla_indices.Indice_c,'+\\\n",
    "'trabajo_2.tabla_indices.fecha_indice,'+\\\n",
    "'trabajo_2.tabla_indices.valor '+\\\n",
    "'FROM trabajo_2.tabla_precios '+\\\n",
    "'left join trabajo_2.tabla_indices '+\\\n",
    "'on '+\\\n",
    "'concat(trabajo_2.tabla_indices.Indice_c,trabajo_2.tabla_indices.fecha_indice) ='+\\\n",
    "'concat(trabajo_2.tabla_precios.Indicador_indexado,trabajo_2.tabla_precios.fecha_valoracion) '+\\\n",
    "'where '+\\\n",
    "'trabajo_2.tabla_precios.Tipo in (\\'T1\\',\\'T2\\',\\'T3\\',\\'T4\\',\\'T5\\') '+\\\n",
    "'order by trabajo_2.tabla_precios.Tipo, trabajo_2.tabla_precios.Indice_tipo'\n",
    ")\n",
    "tes_faciales_500 = pd.read_sql(query, con=class2_db)\n",
    "display(tes_faciales_500)"
   ]
  },
  {
   "cell_type": "markdown",
   "metadata": {},
   "source": [
    "## Calculo precio sucio para todos los 500 titulos"
   ]
  },
  {
   "cell_type": "code",
   "execution_count": 298,
   "metadata": {},
   "outputs": [],
   "source": [
    "val_date= tes_faciales_500.fecha_valoracion.drop_duplicates()[0]\n",
    "ini_date = tes_faciales_500.fecha_emision\n",
    "fin_date = tes_faciales_500.fecha_vencimiento\n",
    "cpn =  tes_faciales_500.cupon\n",
    "discount_rates = tes_faciales_500.tir.copy()\n",
    "frec_pag=tes_faciales_500.frecuencia_pago\n",
    "indicador=tes_faciales_500.valor\n",
    "conteo_dias=tes_faciales_500.conteo_dias\n",
    "discount_rates_ind=((1+discount_rates/100)*(1+indicador/100)-1)*100\n",
    "\n",
    "discount_rates_consol=tes_faciales_500.tir.copy()\n",
    "for i in range(len(discount_rates)):\n",
    "    if indicador[i]==0:\n",
    "        discount_rates_consol[i]=discount_rates[i]\n",
    "    else:\n",
    "        discount_rates_consol[i]=discount_rates_ind[i]\n"
   ]
  },
  {
   "cell_type": "code",
   "execution_count": 301,
   "metadata": {},
   "outputs": [],
   "source": [
    "### titulos\n",
    "#mul_inst = 1 #intentar 1, 100 y 10000\n",
    "#parametros = dict({\n",
    "#        'val_date':val_date, \n",
    "#        'ini_date':np.tile(ini_date,mul_inst), \n",
    "#        'fin_date':np.tile(fin_date,mul_inst), \n",
    "#        'coupon':np.tile(cpn,mul_inst),\n",
    "#        'discount_rates':np.tile(discount_rates_consol,mul_inst),\n",
    "#        'conteo_dias':np.tile(conteo_dias,mul_inst),\n",
    "#        'frec_pag':np.tile(frec_pag,mul_inst),\n",
    "#        'indicador':np.tile(indicador,mul_inst),\n",
    "#        'limits':np.array([-20,20])\n",
    "#        })"
   ]
  },
  {
   "cell_type": "code",
   "execution_count": 305,
   "metadata": {},
   "outputs": [],
   "source": [
    "parametros_500 = dict({\n",
    "        'val_date':val_date, \n",
    "        'ini_date':ini_date, \n",
    "        'fin_date':fin_date, \n",
    "        'coupon':cpn,\n",
    "        'discount_rates':discount_rates_consol,\n",
    "        'conteo_dias':conteo_dias,\n",
    "        'frec_pag':frec_pag,\n",
    "        'indicador':indicador,\n",
    "        'limits':np.array([-20,20])\n",
    "        })"
   ]
  },
  {
   "cell_type": "code",
   "execution_count": 306,
   "metadata": {},
   "outputs": [
    {
     "data": {
      "text/plain": [
       "<module 'Clase_6.Funciones' from 'd:\\\\cursos\\\\Maestria finanzas\\\\S3_PySql rent fij\\\\Trabajo02\\\\Clase_6\\\\Funciones.py'>"
      ]
     },
     "execution_count": 306,
     "metadata": {},
     "output_type": "execute_result"
    }
   ],
   "source": [
    "importlib.reload(funciones)"
   ]
  },
  {
   "cell_type": "code",
   "execution_count": 316,
   "metadata": {},
   "outputs": [],
   "source": [
    "n_inst = len(parametros_500['coupon'])\n",
    "## Funcion de matriz de cupones\n",
    "coupon_dict = funciones.coupon_mGen(parametros_500)\n",
    "parametros_500['cpn_dict'] = coupon_dict\n",
    "\n",
    "parametros_500['delta_t'] = coupon_dict['days_matrix']\n",
    "parametros_500['discount_factors'] = funciones.discount_factor_m(parametros_500)\n",
    "\n",
    "prices = funciones.dirty_price_m(parametros_500)\n",
    "parametros_500['mkt_prices'] = prices\n"
   ]
  },
  {
   "cell_type": "code",
   "execution_count": 12,
   "metadata": {},
   "outputs": [],
   "source": [
    "os.getcwd()"
   ]
  },
  {
   "cell_type": "code",
   "execution_count": 14,
   "metadata": {},
   "outputs": [],
   "source": [
    "Df_resultadoPrice=tes_faciales_500\n",
    "Df_resultadoPrice['priceC']=prices\n",
    "Df_resultadoPrice.to_excel (r'd:/cursos/Maestria finanzas/S3_PySql rent fij/Trabajo02/calculoprecio.xlsx', index = False, header=True)\n"
   ]
  },
  {
   "cell_type": "markdown",
   "metadata": {},
   "source": [
    "## 5 Optimizacion y curvas para cada tipo de titulo"
   ]
  },
  {
   "cell_type": "markdown",
   "metadata": {},
   "source": [
    "### Curva para titulos T1"
   ]
  },
  {
   "cell_type": "code",
   "execution_count": 237,
   "metadata": {},
   "outputs": [
    {
     "name": "stderr",
     "output_type": "stream",
     "text": [
      "C:\\Users\\Edwin\\AppData\\Roaming\\Python\\Python39\\site-packages\\pandas\\io\\sql.py:762: UserWarning: pandas only support SQLAlchemy connectable(engine/connection) ordatabase string URI or sqlite3 DBAPI2 connectionother DBAPI2 objects are not tested, please consider using SQLAlchemy\n",
      "  warnings.warn(\n"
     ]
    }
   ],
   "source": [
    "db_object = DB_class(host=\"localhost\",user=\"root\",password=\"root\",database=\"trabajo_1\")\n",
    "class6_db = db_object.open_db()\n",
    "mi_cursor = class6_db.cursor()\n",
    "query = (\n",
    "'SELECT '+\\\n",
    "'trabajo_2.tabla_precios.Tipo,'+\\\n",
    "'trabajo_2.tabla_precios.Indice_tipo,'+\\\n",
    "'trabajo_2.tabla_precios.fecha_valoracion,'+\\\n",
    "'trabajo_2.tabla_precios.nemotecnico,'+\\\n",
    "'trabajo_2.tabla_precios.fecha_emision,'+\\\n",
    "'trabajo_2.tabla_precios.fecha_vencimiento,'+\\\n",
    "'trabajo_2.tabla_precios.cupon,'+\\\n",
    "'trabajo_2.tabla_precios.tir,'+\\\n",
    "'trabajo_2.tabla_precios.frecuencia_pago,'+\\\n",
    "'trabajo_2.tabla_precios.Indicador_indexado,'+\\\n",
    "'trabajo_2.tabla_precios.conteo_dias,'+\\\n",
    "'trabajo_2.tabla_indices.Indice_c,'+\\\n",
    "'trabajo_2.tabla_indices.fecha_indice,'+\\\n",
    "'trabajo_2.tabla_indices.valor '+\\\n",
    "'FROM trabajo_2.tabla_precios '+\\\n",
    "'left join trabajo_2.tabla_indices '+\\\n",
    "'on '+\\\n",
    "'concat(trabajo_2.tabla_indices.Indice_c,trabajo_2.tabla_indices.fecha_indice) ='+\\\n",
    "'concat(trabajo_2.tabla_precios.Indicador_indexado,trabajo_2.tabla_precios.fecha_valoracion) '+\\\n",
    "'where '+\\\n",
    "'trabajo_2.tabla_precios.Tipo in (\\'T1\\') '+\\\n",
    "'order by trabajo_2.tabla_precios.Tipo, trabajo_2.tabla_precios.Indice_tipo'\n",
    ")\n",
    "tes_faciales = pd.read_sql(query, con=class6_db)"
   ]
  },
  {
   "cell_type": "code",
   "execution_count": 241,
   "metadata": {},
   "outputs": [],
   "source": [
    "val_date= tes_faciales.fecha_valoracion.drop_duplicates()[0]\n",
    "ini_date = tes_faciales.fecha_emision\n",
    "fin_date = tes_faciales.fecha_vencimiento\n",
    "cpn =  tes_faciales.cupon\n",
    "discount_rates = tes_faciales.tir\n",
    "frec_pag=tes_faciales.frecuencia_pago"
   ]
  },
  {
   "cell_type": "code",
   "execution_count": 242,
   "metadata": {},
   "outputs": [],
   "source": [
    "parametros = dict({\n",
    "        'val_date':val_date, \n",
    "        'ini_date':ini_date, \n",
    "        'fin_date':fin_date,\n",
    "        'frec_pag':frec_pag, \n",
    "        'coupon':cpn,\n",
    "        'discount_rates': discount_rates,\n",
    "        'limits':np.array([0,200])\n",
    "        })\n"
   ]
  },
  {
   "cell_type": "code",
   "execution_count": 243,
   "metadata": {},
   "outputs": [],
   "source": [
    "## Funcion de matriz de cupones\n",
    "coupon_dict = funciones.coupon_m365(parametros)\n",
    "parametros['cpn_dict'] = coupon_dict\n",
    "parametros['delta_t'] = coupon_dict['days_matrix']/365\n",
    "prices_01= funciones.dirty_price_m(parametros)\n",
    "\n",
    "parametros['mkt_prices'] = funciones.dirty_price_m(parametros)\n",
    "\n",
    "##### Calcular los betas\n",
    "venc = coupon_dict['days_matrix']/365"
   ]
  },
  {
   "cell_type": "code",
   "execution_count": 244,
   "metadata": {},
   "outputs": [
    {
     "name": "stderr",
     "output_type": "stream",
     "text": [
      "d:\\cursos\\Maestria finanzas\\S3_PySql rent fij\\Trabajo02\\Clase_6\\Funciones.py:584: RuntimeWarning: divide by zero encountered in true_divide\n",
      "  y = beta_0+params[1]*((1-np.exp(-ven/params[3]))/(ven/params[3]))+\\\n",
      "d:\\cursos\\Maestria finanzas\\S3_PySql rent fij\\Trabajo02\\Clase_6\\Funciones.py:585: RuntimeWarning: divide by zero encountered in true_divide\n",
      "  params[2]*((1-np.exp(-ven/params[3]))/(ven/params[3])- \\\n",
      "d:\\cursos\\Maestria finanzas\\S3_PySql rent fij\\Trabajo02\\Clase_6\\Funciones.py:586: RuntimeWarning: divide by zero encountered in true_divide\n",
      "  np.exp(-ven/params[3]))\n"
     ]
    },
    {
     "name": "stdout",
     "output_type": "stream",
     "text": [
      "El algortimo de optimizacion por fuerza bruta en Precio tarda 91.84 segundos\n"
     ]
    },
    {
     "name": "stderr",
     "output_type": "stream",
     "text": [
      "d:\\cursos\\Maestria finanzas\\S3_PySql rent fij\\Trabajo02\\Clase_6\\Funciones.py:621: RuntimeWarning: overflow encountered in exp\n",
      "  disc_factors = np.exp(np.multiply(-model_curve.T, venc)).T\n",
      "d:\\cursos\\Maestria finanzas\\S3_PySql rent fij\\Trabajo02\\Clase_6\\Funciones.py:623: RuntimeWarning: invalid value encountered in matmul\n",
      "  dirty_prices = np.matmul(cpn_m.T,disc_factors)\n"
     ]
    }
   ],
   "source": [
    "################ Optimizacion por precios\n",
    "parametros['limits'] = np.array([0,200])\n",
    "ini = time.time()\n",
    "optimiz_result = clase_6Fun.betas_optimization_bound_prices(parametros)\n",
    "fin = time.time()\n",
    "betas_opt = optimiz_result.copy()\n",
    "curva = funciones.NelsonSiegel_m(betas_opt, venc)\n",
    "print(f'El algortimo de optimizacion por fuerza bruta en Precio tarda {(fin-ini):.2f} segundos')\n",
    "#se demora menos de un min"
   ]
  },
  {
   "cell_type": "code",
   "execution_count": 245,
   "metadata": {},
   "outputs": [
    {
     "data": {
      "text/plain": [
       "45.67289064076184"
      ]
     },
     "execution_count": 245,
     "metadata": {},
     "output_type": "execute_result"
    }
   ],
   "source": [
    "#Evaluar los precios, las TIRs y la funcion objetivo \n",
    "prices_opt = funciones.dirty_price_m_ns(betas_opt,parametros)\n",
    "tirs_opt = funciones.find_ytm_loop(parametros,prices_opt)\n",
    "funciones.find_ytm_loop(parametros,prices_opt)\n",
    "clase_6Fun.objetive_function_prices(betas_opt,parametros)\n",
    "funciones.objetive_function(betas_opt,parametros)"
   ]
  },
  {
   "cell_type": "code",
   "execution_count": 246,
   "metadata": {},
   "outputs": [
    {
     "data": {
      "image/png": "[encoded data removed]",
      "text/plain": [
       "<Figure size 432x288 with 1 Axes>"
      ]
     },
     "metadata": {
      "needs_background": "light"
     },
     "output_type": "display_data"
    }
   ],
   "source": [
    "###Grafica\n",
    "y_term = [(fin_date[k]-val_date).days/365 for k in range(len(fin_date))]\n",
    "plt.plot(venc.T, curva*100,'r')\n",
    "plt.plot(np.array(y_term), np.array(discount_rates),'bo')\n",
    "plt.grid(True)\n",
    "plt.ylabel('Tasa %')\n",
    "plt.xlabel('Plazo (años)')\n",
    "plt.suptitle('Curva Cero Cupón por Precio- 100 Pseudo TES')\n",
    "#plt.savefig(cwd+'\\\\Clase_6\\\\N&S-Price_Opt.png')\n",
    "plt.show()"
   ]
  },
  {
   "cell_type": "markdown",
   "metadata": {},
   "source": [
    "### Curva para titulos T2"
   ]
  },
  {
   "cell_type": "code",
   "execution_count": 247,
   "metadata": {},
   "outputs": [
    {
     "name": "stderr",
     "output_type": "stream",
     "text": [
      "C:\\Users\\Edwin\\AppData\\Roaming\\Python\\Python39\\site-packages\\pandas\\io\\sql.py:762: UserWarning: pandas only support SQLAlchemy connectable(engine/connection) ordatabase string URI or sqlite3 DBAPI2 connectionother DBAPI2 objects are not tested, please consider using SQLAlchemy\n",
      "  warnings.warn(\n"
     ]
    }
   ],
   "source": [
    "db_object = DB_class(host=\"localhost\",user=\"root\",password=\"root\",database=\"trabajo_1\")\n",
    "class6_db = db_object.open_db()\n",
    "mi_cursor = class6_db.cursor()\n",
    "query = (\n",
    "'SELECT '+\\\n",
    "'trabajo_2.tabla_precios.Tipo,'+\\\n",
    "'trabajo_2.tabla_precios.Indice_tipo,'+\\\n",
    "'trabajo_2.tabla_precios.fecha_valoracion,'+\\\n",
    "'trabajo_2.tabla_precios.nemotecnico,'+\\\n",
    "'trabajo_2.tabla_precios.fecha_emision,'+\\\n",
    "'trabajo_2.tabla_precios.fecha_vencimiento,'+\\\n",
    "'trabajo_2.tabla_precios.cupon,'+\\\n",
    "'trabajo_2.tabla_precios.tir,'+\\\n",
    "'trabajo_2.tabla_precios.frecuencia_pago,'+\\\n",
    "'trabajo_2.tabla_precios.Indicador_indexado,'+\\\n",
    "'trabajo_2.tabla_precios.conteo_dias,'+\\\n",
    "'trabajo_2.tabla_indices.Indice_c,'+\\\n",
    "'trabajo_2.tabla_indices.fecha_indice,'+\\\n",
    "'trabajo_2.tabla_indices.valor '+\\\n",
    "'FROM trabajo_2.tabla_precios '+\\\n",
    "'left join trabajo_2.tabla_indices '+\\\n",
    "'on '+\\\n",
    "'concat(trabajo_2.tabla_indices.Indice_c,trabajo_2.tabla_indices.fecha_indice) ='+\\\n",
    "'concat(trabajo_2.tabla_precios.Indicador_indexado,trabajo_2.tabla_precios.fecha_valoracion) '+\\\n",
    "'where '+\\\n",
    "'trabajo_2.tabla_precios.Tipo in (\\'T2\\') '+\\\n",
    "'order by trabajo_2.tabla_precios.Tipo, trabajo_2.tabla_precios.Indice_tipo'\n",
    ")\n",
    "tes_faciales = pd.read_sql(query, con=class6_db)"
   ]
  },
  {
   "cell_type": "code",
   "execution_count": 248,
   "metadata": {},
   "outputs": [],
   "source": [
    "val_date= tes_faciales.fecha_valoracion.drop_duplicates()[0]\n",
    "ini_date = tes_faciales.fecha_emision\n",
    "fin_date = tes_faciales.fecha_vencimiento\n",
    "cpn =  tes_faciales.cupon\n",
    "discount_rates = tes_faciales.tir.copy()\n",
    "frec_pag=tes_faciales.frecuencia_pago\n",
    "indicador=tes_faciales.valor\n",
    "conteo_dias=tes_faciales.conteo_dias\n",
    "discount_rates_ind=((1+discount_rates/100)*(1+indicador/100)-1)*100\n",
    "\n",
    "discount_rates_consol=tes_faciales.tir.copy()\n",
    "for i in range(len(discount_rates)):\n",
    "    if indicador[i]==0:\n",
    "        discount_rates_consol[i]=discount_rates[i]\n",
    "    else:\n",
    "        discount_rates_consol[i]=discount_rates_ind[i]"
   ]
  },
  {
   "cell_type": "code",
   "execution_count": 249,
   "metadata": {},
   "outputs": [],
   "source": [
    "parametros = dict({\n",
    "        'val_date':val_date, \n",
    "        'ini_date':ini_date, \n",
    "        'fin_date':fin_date,\n",
    "        'coupon':cpn,\n",
    "        'discount_rates': discount_rates,\n",
    "        'conteo_dias': conteo_dias,\n",
    "        'frec_pag':frec_pag, \n",
    "        'indicador':indicador,\n",
    "        'limits':np.array([0,200])\n",
    "        })\n"
   ]
  },
  {
   "cell_type": "code",
   "execution_count": 250,
   "metadata": {},
   "outputs": [],
   "source": [
    "## Funcion de matriz de cupones\n",
    "coupon_dict = funciones.coupon_m365ind(parametros)\n",
    "parametros['cpn_dict'] = coupon_dict\n",
    "parametros['delta_t'] = coupon_dict['days_matrix']/365\n",
    "prices_01= funciones.dirty_price_m(parametros)\n",
    "\n",
    "parametros['mkt_prices'] = funciones.dirty_price_m(parametros)\n",
    "\n",
    "##### Calcular los betas\n",
    "venc = coupon_dict['days_matrix']/365"
   ]
  },
  {
   "cell_type": "code",
   "execution_count": 251,
   "metadata": {},
   "outputs": [
    {
     "name": "stderr",
     "output_type": "stream",
     "text": [
      "d:\\cursos\\Maestria finanzas\\S3_PySql rent fij\\Trabajo02\\Clase_6\\Funciones.py:584: RuntimeWarning: divide by zero encountered in true_divide\n",
      "  y = beta_0+params[1]*((1-np.exp(-ven/params[3]))/(ven/params[3]))+\\\n",
      "d:\\cursos\\Maestria finanzas\\S3_PySql rent fij\\Trabajo02\\Clase_6\\Funciones.py:585: RuntimeWarning: divide by zero encountered in true_divide\n",
      "  params[2]*((1-np.exp(-ven/params[3]))/(ven/params[3])- \\\n",
      "d:\\cursos\\Maestria finanzas\\S3_PySql rent fij\\Trabajo02\\Clase_6\\Funciones.py:586: RuntimeWarning: divide by zero encountered in true_divide\n",
      "  np.exp(-ven/params[3]))\n"
     ]
    },
    {
     "name": "stdout",
     "output_type": "stream",
     "text": [
      "El algortimo de optimizacion por fuerza bruta en Precio tarda 47.28 segundos\n"
     ]
    },
    {
     "name": "stderr",
     "output_type": "stream",
     "text": [
      "d:\\cursos\\Maestria finanzas\\S3_PySql rent fij\\Trabajo02\\Clase_6\\Funciones.py:621: RuntimeWarning: overflow encountered in exp\n",
      "  disc_factors = np.exp(np.multiply(-model_curve.T, venc)).T\n"
     ]
    }
   ],
   "source": [
    "################ Optimizacion por precios\n",
    "parametros['limits'] = np.array([0,200])\n",
    "ini = time.time()\n",
    "optimiz_result = clase_6Fun.betas_optimization_bound_prices(parametros)\n",
    "fin = time.time()\n",
    "betas_opt = optimiz_result.copy()\n",
    "curva = funciones.NelsonSiegel_m(betas_opt, venc)\n",
    "print(f'El algortimo de optimizacion por fuerza bruta en Precio tarda {(fin-ini):.2f} segundos')\n",
    "#se demora menos de un min"
   ]
  },
  {
   "cell_type": "code",
   "execution_count": 252,
   "metadata": {},
   "outputs": [
    {
     "name": "stderr",
     "output_type": "stream",
     "text": [
      "d:\\cursos\\Maestria finanzas\\S3_PySql rent fij\\Trabajo02\\Clase_6\\Funciones.py:439: RuntimeWarning: invalid value encountered in power\n",
      "  disc = (1/(1+d_r/100)**delta_t).T\n"
     ]
    },
    {
     "data": {
      "text/plain": [
       "9372.115445664724"
      ]
     },
     "execution_count": 252,
     "metadata": {},
     "output_type": "execute_result"
    }
   ],
   "source": [
    "#Evaluar los precios, las TIRs y la funcion objetivo \n",
    "prices_opt = funciones.dirty_price_m_ns(betas_opt,parametros)\n",
    "tirs_opt = funciones.find_ytm_loop(parametros,prices_opt)\n",
    "funciones.find_ytm_loop(parametros,prices_opt)\n",
    "clase_6Fun.objetive_function_prices(betas_opt,parametros)\n",
    "funciones.objetive_function(betas_opt,parametros)"
   ]
  },
  {
   "cell_type": "code",
   "execution_count": 253,
   "metadata": {},
   "outputs": [
    {
     "data": {
      "image/png": "[encoded data removed]",
      "text/plain": [
       "<Figure size 432x288 with 1 Axes>"
      ]
     },
     "metadata": {
      "needs_background": "light"
     },
     "output_type": "display_data"
    }
   ],
   "source": [
    "###Grafica\n",
    "y_term = [(fin_date[k]-val_date).days/365 for k in range(len(fin_date))]\n",
    "plt.plot(venc.T, curva*100,'r')\n",
    "plt.plot(np.array(y_term), np.array(discount_rates),'bo')\n",
    "plt.grid(True)\n",
    "plt.ylabel('Tasa %')\n",
    "plt.xlabel('Plazo (años)')\n",
    "plt.suptitle('Curva Cero Cupón por Precio- 100 Pseudo TES')\n",
    "#plt.savefig(cwd+'\\\\Clase_6\\\\N&S-Price_Opt.png')\n",
    "plt.show()"
   ]
  },
  {
   "cell_type": "markdown",
   "metadata": {},
   "source": [
    "### Curva para titulos T3"
   ]
  },
  {
   "cell_type": "code",
   "execution_count": 254,
   "metadata": {},
   "outputs": [
    {
     "name": "stderr",
     "output_type": "stream",
     "text": [
      "C:\\Users\\Edwin\\AppData\\Roaming\\Python\\Python39\\site-packages\\pandas\\io\\sql.py:762: UserWarning: pandas only support SQLAlchemy connectable(engine/connection) ordatabase string URI or sqlite3 DBAPI2 connectionother DBAPI2 objects are not tested, please consider using SQLAlchemy\n",
      "  warnings.warn(\n"
     ]
    }
   ],
   "source": [
    "db_object = DB_class(host=\"localhost\",user=\"root\",password=\"root\",database=\"trabajo_1\")\n",
    "class6_db = db_object.open_db()\n",
    "mi_cursor = class6_db.cursor()\n",
    "query = (\n",
    "'SELECT '+\\\n",
    "'trabajo_2.tabla_precios.Tipo,'+\\\n",
    "'trabajo_2.tabla_precios.Indice_tipo,'+\\\n",
    "'trabajo_2.tabla_precios.fecha_valoracion,'+\\\n",
    "'trabajo_2.tabla_precios.nemotecnico,'+\\\n",
    "'trabajo_2.tabla_precios.fecha_emision,'+\\\n",
    "'trabajo_2.tabla_precios.fecha_vencimiento,'+\\\n",
    "'trabajo_2.tabla_precios.cupon,'+\\\n",
    "'trabajo_2.tabla_precios.tir,'+\\\n",
    "'trabajo_2.tabla_precios.frecuencia_pago,'+\\\n",
    "'trabajo_2.tabla_precios.Indicador_indexado,'+\\\n",
    "'trabajo_2.tabla_precios.conteo_dias,'+\\\n",
    "'trabajo_2.tabla_indices.Indice_c,'+\\\n",
    "'trabajo_2.tabla_indices.fecha_indice,'+\\\n",
    "'trabajo_2.tabla_indices.valor '+\\\n",
    "'FROM trabajo_2.tabla_precios '+\\\n",
    "'left join trabajo_2.tabla_indices '+\\\n",
    "'on '+\\\n",
    "'concat(trabajo_2.tabla_indices.Indice_c,trabajo_2.tabla_indices.fecha_indice) ='+\\\n",
    "'concat(trabajo_2.tabla_precios.Indicador_indexado,trabajo_2.tabla_precios.fecha_valoracion) '+\\\n",
    "'where '+\\\n",
    "'trabajo_2.tabla_precios.Tipo in (\\'T3\\') '+\\\n",
    "'order by trabajo_2.tabla_precios.Tipo, trabajo_2.tabla_precios.Indice_tipo'\n",
    ")\n",
    "tes_faciales = pd.read_sql(query, con=class6_db)"
   ]
  },
  {
   "cell_type": "code",
   "execution_count": 255,
   "metadata": {},
   "outputs": [],
   "source": [
    "val_date= tes_faciales.fecha_valoracion.drop_duplicates()[0]\n",
    "ini_date = tes_faciales.fecha_emision\n",
    "fin_date = tes_faciales.fecha_vencimiento\n",
    "cpn =  tes_faciales.cupon\n",
    "discount_rates = tes_faciales.tir.copy()\n",
    "frec_pag=tes_faciales.frecuencia_pago\n",
    "indicador=tes_faciales.valor\n",
    "conteo_dias=tes_faciales.conteo_dias\n",
    "discount_rates_ind=((1+discount_rates/100)*(1+indicador/100)-1)*100\n",
    "\n",
    "discount_rates_consol=tes_faciales.tir.copy()\n",
    "for i in range(len(discount_rates)):\n",
    "    if indicador[i]==0:\n",
    "        discount_rates_consol[i]=discount_rates[i]\n",
    "    else:\n",
    "        discount_rates_consol[i]=discount_rates_ind[i]"
   ]
  },
  {
   "cell_type": "code",
   "execution_count": 261,
   "metadata": {},
   "outputs": [],
   "source": [
    "parametros = dict({\n",
    "        'val_date':val_date, \n",
    "        'ini_date':ini_date, \n",
    "        'fin_date':fin_date,\n",
    "        'coupon':cpn,\n",
    "        'discount_rates': discount_rates,\n",
    "        'conteo_dias': conteo_dias,\n",
    "        'frec_pag':frec_pag, \n",
    "        'indicador':indicador,\n",
    "        'limits':np.array([0,100])\n",
    "        })"
   ]
  },
  {
   "cell_type": "code",
   "execution_count": 262,
   "metadata": {},
   "outputs": [],
   "source": [
    "## Funcion de matriz de cupones\n",
    "coupon_dict = funciones.coupon_m365(parametros)\n",
    "parametros['cpn_dict'] = coupon_dict\n",
    "parametros['delta_t'] = coupon_dict['days_matrix']/365\n",
    "prices_01= funciones.dirty_price_m(parametros)\n",
    "\n",
    "parametros['mkt_prices'] = funciones.dirty_price_m(parametros)\n",
    "\n",
    "##### Calcular los betas\n",
    "venc = coupon_dict['days_matrix']/365"
   ]
  },
  {
   "cell_type": "code",
   "execution_count": 263,
   "metadata": {},
   "outputs": [
    {
     "name": "stderr",
     "output_type": "stream",
     "text": [
      "d:\\cursos\\Maestria finanzas\\S3_PySql rent fij\\Trabajo02\\Clase_6\\Funciones.py:584: RuntimeWarning: divide by zero encountered in true_divide\n",
      "  y = beta_0+params[1]*((1-np.exp(-ven/params[3]))/(ven/params[3]))+\\\n",
      "d:\\cursos\\Maestria finanzas\\S3_PySql rent fij\\Trabajo02\\Clase_6\\Funciones.py:585: RuntimeWarning: divide by zero encountered in true_divide\n",
      "  params[2]*((1-np.exp(-ven/params[3]))/(ven/params[3])- \\\n",
      "d:\\cursos\\Maestria finanzas\\S3_PySql rent fij\\Trabajo02\\Clase_6\\Funciones.py:586: RuntimeWarning: divide by zero encountered in true_divide\n",
      "  np.exp(-ven/params[3]))\n"
     ]
    },
    {
     "name": "stdout",
     "output_type": "stream",
     "text": [
      "El algortimo de optimizacion por fuerza bruta en Precio tarda 24.15 segundos\n"
     ]
    }
   ],
   "source": [
    "################ Optimizacion por precios\n",
    "parametros['limits'] = np.array([0,100])\n",
    "ini = time.time()\n",
    "optimiz_result = clase_6Fun.betas_optimization_bound_prices(parametros)\n",
    "fin = time.time()\n",
    "betas_opt = optimiz_result.copy()\n",
    "curva = funciones.NelsonSiegel_m(betas_opt, venc)\n",
    "print(f'El algortimo de optimizacion por fuerza bruta en Precio tarda {(fin-ini):.2f} segundos')\n",
    "#se demora menos de un min"
   ]
  },
  {
   "cell_type": "code",
   "execution_count": 264,
   "metadata": {},
   "outputs": [
    {
     "name": "stderr",
     "output_type": "stream",
     "text": [
      "d:\\cursos\\Maestria finanzas\\S3_PySql rent fij\\Trabajo02\\Clase_6\\Funciones.py:439: RuntimeWarning: invalid value encountered in power\n",
      "  disc = (1/(1+d_r/100)**delta_t).T\n"
     ]
    },
    {
     "data": {
      "text/plain": [
       "10291.958255162534"
      ]
     },
     "execution_count": 264,
     "metadata": {},
     "output_type": "execute_result"
    }
   ],
   "source": [
    "#Evaluar los precios, las TIRs y la funcion objetivo \n",
    "prices_opt = funciones.dirty_price_m_ns(betas_opt,parametros)\n",
    "tirs_opt = funciones.find_ytm_loop(parametros,prices_opt)\n",
    "funciones.find_ytm_loop(parametros,prices_opt)\n",
    "clase_6Fun.objetive_function_prices(betas_opt,parametros)\n",
    "funciones.objetive_function(betas_opt,parametros)"
   ]
  },
  {
   "cell_type": "code",
   "execution_count": 265,
   "metadata": {},
   "outputs": [
    {
     "data": {
      "image/png": "[encoded data removed]",
      "text/plain": [
       "<Figure size 432x288 with 1 Axes>"
      ]
     },
     "metadata": {
      "needs_background": "light"
     },
     "output_type": "display_data"
    }
   ],
   "source": [
    "###Grafica\n",
    "y_term = [(fin_date[k]-val_date).days/365 for k in range(len(fin_date))]\n",
    "plt.plot(venc.T, curva*100,'r')\n",
    "plt.plot(np.array(y_term), np.array(discount_rates),'bo')\n",
    "plt.grid(True)\n",
    "plt.ylabel('Tasa %')\n",
    "plt.xlabel('Plazo (años)')\n",
    "plt.suptitle('Curva Cero Cupón por Precio- 100 Pseudo TES')\n",
    "#plt.savefig(cwd+'\\\\Clase_6\\\\N&S-Price_Opt.png')\n",
    "plt.show()"
   ]
  },
  {
   "cell_type": "markdown",
   "metadata": {},
   "source": [
    "### Curva para titulos T4"
   ]
  },
  {
   "cell_type": "code",
   "execution_count": 266,
   "metadata": {},
   "outputs": [
    {
     "name": "stderr",
     "output_type": "stream",
     "text": [
      "C:\\Users\\Edwin\\AppData\\Roaming\\Python\\Python39\\site-packages\\pandas\\io\\sql.py:762: UserWarning: pandas only support SQLAlchemy connectable(engine/connection) ordatabase string URI or sqlite3 DBAPI2 connectionother DBAPI2 objects are not tested, please consider using SQLAlchemy\n",
      "  warnings.warn(\n"
     ]
    }
   ],
   "source": [
    "db_object = DB_class(host=\"localhost\",user=\"root\",password=\"root\",database=\"trabajo_1\")\n",
    "class6_db = db_object.open_db()\n",
    "mi_cursor = class6_db.cursor()\n",
    "query = (\n",
    "'SELECT '+\\\n",
    "'trabajo_2.tabla_precios.Tipo,'+\\\n",
    "'trabajo_2.tabla_precios.Indice_tipo,'+\\\n",
    "'trabajo_2.tabla_precios.fecha_valoracion,'+\\\n",
    "'trabajo_2.tabla_precios.nemotecnico,'+\\\n",
    "'trabajo_2.tabla_precios.fecha_emision,'+\\\n",
    "'trabajo_2.tabla_precios.fecha_vencimiento,'+\\\n",
    "'trabajo_2.tabla_precios.cupon,'+\\\n",
    "'trabajo_2.tabla_precios.tir,'+\\\n",
    "'trabajo_2.tabla_precios.frecuencia_pago,'+\\\n",
    "'trabajo_2.tabla_precios.Indicador_indexado,'+\\\n",
    "'trabajo_2.tabla_precios.conteo_dias,'+\\\n",
    "'trabajo_2.tabla_indices.Indice_c,'+\\\n",
    "'trabajo_2.tabla_indices.fecha_indice,'+\\\n",
    "'trabajo_2.tabla_indices.valor '+\\\n",
    "'FROM trabajo_2.tabla_precios '+\\\n",
    "'left join trabajo_2.tabla_indices '+\\\n",
    "'on '+\\\n",
    "'concat(trabajo_2.tabla_indices.Indice_c,trabajo_2.tabla_indices.fecha_indice) ='+\\\n",
    "'concat(trabajo_2.tabla_precios.Indicador_indexado,trabajo_2.tabla_precios.fecha_valoracion) '+\\\n",
    "'where '+\\\n",
    "'trabajo_2.tabla_precios.Tipo in (\\'T4\\') '+\\\n",
    "'order by trabajo_2.tabla_precios.Tipo, trabajo_2.tabla_precios.Indice_tipo'\n",
    ")\n",
    "tes_faciales = pd.read_sql(query, con=class6_db)"
   ]
  },
  {
   "cell_type": "code",
   "execution_count": 267,
   "metadata": {},
   "outputs": [],
   "source": [
    "val_date= tes_faciales.fecha_valoracion.drop_duplicates()[0]\n",
    "ini_date = tes_faciales.fecha_emision\n",
    "fin_date = tes_faciales.fecha_vencimiento\n",
    "cpn =  tes_faciales.cupon\n",
    "discount_rates = tes_faciales.tir.copy()\n",
    "frec_pag=tes_faciales.frecuencia_pago\n",
    "indicador=tes_faciales.valor\n",
    "conteo_dias=tes_faciales.conteo_dias\n",
    "discount_rates_ind=((1+discount_rates/100)*(1+indicador/100)-1)*100\n",
    "\n",
    "discount_rates_consol=tes_faciales.tir.copy()\n",
    "for i in range(len(discount_rates)):\n",
    "    if indicador[i]==0:\n",
    "        discount_rates_consol[i]=discount_rates[i]\n",
    "    else:\n",
    "        discount_rates_consol[i]=discount_rates_ind[i]"
   ]
  },
  {
   "cell_type": "code",
   "execution_count": 268,
   "metadata": {},
   "outputs": [],
   "source": [
    "parametros = dict({\n",
    "        'val_date':val_date, \n",
    "        'ini_date':ini_date, \n",
    "        'fin_date':fin_date,\n",
    "        'coupon':cpn,\n",
    "        'discount_rates': discount_rates,\n",
    "        'conteo_dias': conteo_dias,\n",
    "        'frec_pag':frec_pag, \n",
    "        'indicador':indicador,\n",
    "        'limits':np.array([0,100])\n",
    "        })"
   ]
  },
  {
   "cell_type": "code",
   "execution_count": 269,
   "metadata": {},
   "outputs": [],
   "source": [
    "## Funcion de matriz de cupones\n",
    "coupon_dict = funciones.coupon_m365(parametros)\n",
    "parametros['cpn_dict'] = coupon_dict\n",
    "parametros['delta_t'] = coupon_dict['days_matrix']/365\n",
    "prices_01= funciones.dirty_price_m(parametros)\n",
    "\n",
    "parametros['mkt_prices'] = funciones.dirty_price_m(parametros)\n",
    "\n",
    "##### Calcular los betas\n",
    "venc = coupon_dict['days_matrix']/365"
   ]
  },
  {
   "cell_type": "code",
   "execution_count": 279,
   "metadata": {},
   "outputs": [
    {
     "name": "stderr",
     "output_type": "stream",
     "text": [
      "d:\\cursos\\Maestria finanzas\\S3_PySql rent fij\\Trabajo02\\Clase_6\\Funciones.py:584: RuntimeWarning: divide by zero encountered in true_divide\n",
      "  y = beta_0+params[1]*((1-np.exp(-ven/params[3]))/(ven/params[3]))+\\\n",
      "d:\\cursos\\Maestria finanzas\\S3_PySql rent fij\\Trabajo02\\Clase_6\\Funciones.py:585: RuntimeWarning: divide by zero encountered in true_divide\n",
      "  params[2]*((1-np.exp(-ven/params[3]))/(ven/params[3])- \\\n",
      "d:\\cursos\\Maestria finanzas\\S3_PySql rent fij\\Trabajo02\\Clase_6\\Funciones.py:586: RuntimeWarning: divide by zero encountered in true_divide\n",
      "  np.exp(-ven/params[3]))\n"
     ]
    },
    {
     "name": "stdout",
     "output_type": "stream",
     "text": [
      "El algortimo de optimizacion por fuerza bruta en Precio tarda 25.40 segundos\n"
     ]
    },
    {
     "name": "stderr",
     "output_type": "stream",
     "text": [
      "d:\\cursos\\Maestria finanzas\\S3_PySql rent fij\\Trabajo02\\Clase_6\\Funciones.py:621: RuntimeWarning: overflow encountered in exp\n",
      "  disc_factors = np.exp(np.multiply(-model_curve.T, venc)).T\n"
     ]
    }
   ],
   "source": [
    "################ Optimizacion por precios\n",
    "parametros['limits'] = np.array([0,150])\n",
    "ini = time.time()\n",
    "optimiz_result = clase_6Fun.betas_optimization_bound_prices(parametros)\n",
    "fin = time.time()\n",
    "betas_opt = optimiz_result.copy()\n",
    "curva = funciones.NelsonSiegel_m(betas_opt, venc)\n",
    "print(f'El algortimo de optimizacion por fuerza bruta en Precio tarda {(fin-ini):.2f} segundos')\n",
    "#se demora menos de un min"
   ]
  },
  {
   "cell_type": "code",
   "execution_count": 280,
   "metadata": {},
   "outputs": [
    {
     "data": {
      "text/plain": [
       "7770.444957521277"
      ]
     },
     "execution_count": 280,
     "metadata": {},
     "output_type": "execute_result"
    }
   ],
   "source": [
    "#Evaluar los precios, las TIRs y la funcion objetivo \n",
    "prices_opt = funciones.dirty_price_m_ns(betas_opt,parametros)\n",
    "tirs_opt = funciones.find_ytm_loop(parametros,prices_opt)\n",
    "funciones.find_ytm_loop(parametros,prices_opt)\n",
    "clase_6Fun.objetive_function_prices(betas_opt,parametros)\n",
    "funciones.objetive_function(betas_opt,parametros)"
   ]
  },
  {
   "cell_type": "code",
   "execution_count": 281,
   "metadata": {},
   "outputs": [
    {
     "data": {
      "image/png": "[encoded data removed]",
      "text/plain": [
       "<Figure size 432x288 with 1 Axes>"
      ]
     },
     "metadata": {
      "needs_background": "light"
     },
     "output_type": "display_data"
    }
   ],
   "source": [
    "###Grafica\n",
    "y_term = [(fin_date[k]-val_date).days/365 for k in range(len(fin_date))]\n",
    "plt.plot(venc.T, curva*100,'r')\n",
    "plt.plot(np.array(y_term), np.array(discount_rates),'bo')\n",
    "plt.grid(True)\n",
    "plt.ylabel('Tasa %')\n",
    "plt.xlabel('Plazo (años)')\n",
    "plt.suptitle('Curva Cero Cupón por Precio- 100 Pseudo TES')\n",
    "#plt.savefig(cwd+'\\\\Clase_6\\\\N&S-Price_Opt.png')\n",
    "plt.show()"
   ]
  },
  {
   "cell_type": "markdown",
   "metadata": {},
   "source": [
    "### Curva para titulos T5"
   ]
  },
  {
   "cell_type": "code",
   "execution_count": 325,
   "metadata": {},
   "outputs": [
    {
     "name": "stderr",
     "output_type": "stream",
     "text": [
      "C:\\Users\\Edwin\\AppData\\Roaming\\Python\\Python39\\site-packages\\pandas\\io\\sql.py:762: UserWarning: pandas only support SQLAlchemy connectable(engine/connection) ordatabase string URI or sqlite3 DBAPI2 connectionother DBAPI2 objects are not tested, please consider using SQLAlchemy\n",
      "  warnings.warn(\n"
     ]
    }
   ],
   "source": [
    "db_object = DB_class(host=\"localhost\",user=\"root\",password=\"root\",database=\"trabajo_1\")\n",
    "class6_db = db_object.open_db()\n",
    "mi_cursor = class6_db.cursor()\n",
    "query = (\n",
    "'SELECT '+\\\n",
    "'trabajo_2.tabla_precios.Tipo,'+\\\n",
    "'trabajo_2.tabla_precios.Indice_tipo,'+\\\n",
    "'trabajo_2.tabla_precios.fecha_valoracion,'+\\\n",
    "'trabajo_2.tabla_precios.nemotecnico,'+\\\n",
    "'trabajo_2.tabla_precios.fecha_emision,'+\\\n",
    "'trabajo_2.tabla_precios.fecha_vencimiento,'+\\\n",
    "'trabajo_2.tabla_precios.cupon,'+\\\n",
    "'trabajo_2.tabla_precios.tir,'+\\\n",
    "'trabajo_2.tabla_precios.frecuencia_pago,'+\\\n",
    "'trabajo_2.tabla_precios.Indicador_indexado,'+\\\n",
    "'trabajo_2.tabla_precios.conteo_dias,'+\\\n",
    "'trabajo_2.tabla_indices.Indice_c,'+\\\n",
    "'trabajo_2.tabla_indices.fecha_indice,'+\\\n",
    "'trabajo_2.tabla_indices.valor '+\\\n",
    "'FROM trabajo_2.tabla_precios '+\\\n",
    "'left join trabajo_2.tabla_indices '+\\\n",
    "'on '+\\\n",
    "'concat(trabajo_2.tabla_indices.Indice_c,trabajo_2.tabla_indices.fecha_indice) ='+\\\n",
    "'concat(trabajo_2.tabla_precios.Indicador_indexado,trabajo_2.tabla_precios.fecha_valoracion) '+\\\n",
    "'where '+\\\n",
    "'trabajo_2.tabla_precios.Tipo in (\\'T5\\') '+\\\n",
    "'order by trabajo_2.tabla_precios.Tipo, trabajo_2.tabla_precios.Indice_tipo'\n",
    ")\n",
    "tes_faciales = pd.read_sql(query, con=class6_db)\n",
    "\n"
   ]
  },
  {
   "cell_type": "code",
   "execution_count": 326,
   "metadata": {},
   "outputs": [],
   "source": [
    "val_date= tes_faciales.fecha_valoracion.drop_duplicates()[0]\n",
    "ini_date = tes_faciales.fecha_emision\n",
    "fin_date = tes_faciales.fecha_vencimiento\n",
    "cpn =  tes_faciales.cupon\n",
    "discount_rates = tes_faciales.tir.copy()\n",
    "frec_pag=tes_faciales.frecuencia_pago\n",
    "indicador=tes_faciales.valor\n",
    "conteo_dias=tes_faciales.conteo_dias\n",
    "discount_rates_ind=((1+discount_rates/100)*(1+indicador/100)-1)*100\n",
    "\n",
    "discount_rates_consol=tes_faciales.tir.copy()\n",
    "for i in range(len(discount_rates)):\n",
    "    if indicador[i]==0:\n",
    "        discount_rates_consol[i]=discount_rates[i]\n",
    "    else:\n",
    "        discount_rates_consol[i]=discount_rates_ind[i]"
   ]
  },
  {
   "cell_type": "code",
   "execution_count": 327,
   "metadata": {},
   "outputs": [],
   "source": [
    "parametros = dict({\n",
    "        'val_date':val_date, \n",
    "        'ini_date':ini_date, \n",
    "        'fin_date':fin_date,\n",
    "        'coupon':cpn,\n",
    "        'discount_rates': discount_rates,\n",
    "        'conteo_dias': conteo_dias,\n",
    "        'frec_pag':frec_pag, \n",
    "        'indicador':indicador,\n",
    "        'limits':np.array([0,100])\n",
    "        })\n"
   ]
  },
  {
   "cell_type": "code",
   "execution_count": 328,
   "metadata": {},
   "outputs": [],
   "source": [
    "## Funcion de matriz de cupones\n",
    "coupon_dict = funciones.coupon_m360(parametros)\n",
    "parametros['cpn_dict'] = coupon_dict\n",
    "parametros['delta_t'] = coupon_dict['days_matrix']/360\n",
    "prices_01= funciones.dirty_price_m(parametros)\n",
    "\n",
    "parametros['mkt_prices'] = funciones.dirty_price_m(parametros)\n",
    "\n",
    "##### Calcular los betas\n",
    "venc = coupon_dict['days_matrix']/360"
   ]
  },
  {
   "cell_type": "code",
   "execution_count": 224,
   "metadata": {},
   "outputs": [],
   "source": [
    "Df_resultadoPrice=tes_faciales\n",
    "Df_resultadoPrice['priceC']=prices_01\n",
    "Df_resultadoPrice.to_excel (r'd:/cursos/Maestria finanzas/S3_PySql rent fij/Trabajo02/calculoprecioT5.xlsx', index = False, header=True)\n"
   ]
  },
  {
   "cell_type": "code",
   "execution_count": 329,
   "metadata": {},
   "outputs": [
    {
     "name": "stderr",
     "output_type": "stream",
     "text": [
      "d:\\cursos\\Maestria finanzas\\S3_PySql rent fij\\Trabajo02\\Clase_6\\Clase_6Fun.py:306: RuntimeWarning: overflow encountered in square\n",
      "  diff = ((mkt_prices-prices)**2).sum()\n",
      "d:\\cursos\\Maestria finanzas\\S3_PySql rent fij\\Trabajo02\\Clase_6\\Funciones.py:621: RuntimeWarning: overflow encountered in exp\n",
      "  disc_factors = np.exp(np.multiply(-model_curve.T, venc)).T\n",
      "d:\\cursos\\Maestria finanzas\\S3_PySql rent fij\\Trabajo02\\Clase_6\\Funciones.py:623: RuntimeWarning: invalid value encountered in matmul\n",
      "  dirty_prices = np.matmul(cpn_m.T,disc_factors)\n",
      "d:\\cursos\\Maestria finanzas\\S3_PySql rent fij\\Trabajo02\\Clase_6\\Funciones.py:623: RuntimeWarning: overflow encountered in matmul\n",
      "  dirty_prices = np.matmul(cpn_m.T,disc_factors)\n"
     ]
    },
    {
     "name": "stdout",
     "output_type": "stream",
     "text": [
      "El algortimo de optimizacion por fuerza bruta en Precio tarda 35.69 segundos\n"
     ]
    }
   ],
   "source": [
    "################ Optimizacion por precios\n",
    "parametros['limits'] = np.array([-10,150])\n",
    "ini = time.time()\n",
    "optimiz_result = clase_6Fun.betas_optimization_bound_prices(parametros)\n",
    "fin = time.time()\n",
    "betas_opt = optimiz_result.copy()\n",
    "curva = funciones.NelsonSiegel_m(betas_opt, venc)\n",
    "print(f'El algortimo de optimizacion por fuerza bruta en Precio tarda {(fin-ini):.2f} segundos')\n",
    "#se demora menos de un min"
   ]
  },
  {
   "cell_type": "code",
   "execution_count": 330,
   "metadata": {},
   "outputs": [
    {
     "name": "stderr",
     "output_type": "stream",
     "text": [
      "d:\\cursos\\Maestria finanzas\\S3_PySql rent fij\\Trabajo02\\Clase_6\\Funciones.py:621: RuntimeWarning: overflow encountered in exp\n",
      "  disc_factors = np.exp(np.multiply(-model_curve.T, venc)).T\n"
     ]
    },
    {
     "ename": "ValueError",
     "evalue": "cannot convert float NaN to integer",
     "output_type": "error",
     "traceback": [
      "\u001b[1;31m---------------------------------------------------------------------------\u001b[0m",
      "\u001b[1;31mValueError\u001b[0m                                Traceback (most recent call last)",
      "\u001b[1;32md:\\cursos\\Maestria finanzas\\S3_PySql rent fij\\Trabajo02\\Trabajo02_Laura_Edwin.ipynb Celda 59\u001b[0m in \u001b[0;36m<cell line: 3>\u001b[1;34m()\u001b[0m\n\u001b[0;32m      <a href='vscode-notebook-cell:/d%3A/cursos/Maestria%20finanzas/S3_PySql%20rent%20fij/Trabajo02/Trabajo02_Laura_Edwin.ipynb#X35sZmlsZQ%3D%3D?line=0'>1</a>\u001b[0m \u001b[39m#Evaluar los precios, las TIRs y la funcion objetivo \u001b[39;00m\n\u001b[0;32m      <a href='vscode-notebook-cell:/d%3A/cursos/Maestria%20finanzas/S3_PySql%20rent%20fij/Trabajo02/Trabajo02_Laura_Edwin.ipynb#X35sZmlsZQ%3D%3D?line=1'>2</a>\u001b[0m prices_opt \u001b[39m=\u001b[39m funciones\u001b[39m.\u001b[39mdirty_price_m_ns(betas_opt,parametros)\n\u001b[1;32m----> <a href='vscode-notebook-cell:/d%3A/cursos/Maestria%20finanzas/S3_PySql%20rent%20fij/Trabajo02/Trabajo02_Laura_Edwin.ipynb#X35sZmlsZQ%3D%3D?line=2'>3</a>\u001b[0m tirs_opt \u001b[39m=\u001b[39m funciones\u001b[39m.\u001b[39;49mfind_ytm_loop(parametros,prices_opt)\n\u001b[0;32m      <a href='vscode-notebook-cell:/d%3A/cursos/Maestria%20finanzas/S3_PySql%20rent%20fij/Trabajo02/Trabajo02_Laura_Edwin.ipynb#X35sZmlsZQ%3D%3D?line=3'>4</a>\u001b[0m funciones\u001b[39m.\u001b[39mfind_ytm_loop(parametros,prices_opt)\n\u001b[0;32m      <a href='vscode-notebook-cell:/d%3A/cursos/Maestria%20finanzas/S3_PySql%20rent%20fij/Trabajo02/Trabajo02_Laura_Edwin.ipynb#X35sZmlsZQ%3D%3D?line=4'>5</a>\u001b[0m clase_6Fun\u001b[39m.\u001b[39mobjetive_function_prices(betas_opt,parametros)\n",
      "File \u001b[1;32md:\\cursos\\Maestria finanzas\\S3_PySql rent fij\\Trabajo02\\Clase_6\\Funciones.py:505\u001b[0m, in \u001b[0;36mfind_ytm_loop\u001b[1;34m(parametros, prices)\u001b[0m\n\u001b[0;32m    503\u001b[0m ytm_total \u001b[39m=\u001b[39m np\u001b[39m.\u001b[39mzeros(inst)\n\u001b[0;32m    504\u001b[0m \u001b[39mfor\u001b[39;00m i \u001b[39min\u001b[39;00m \u001b[39mrange\u001b[39m(\u001b[39m0\u001b[39m,\u001b[39mlen\u001b[39m(prices)):    \n\u001b[1;32m--> 505\u001b[0m     \u001b[39mif\u001b[39;00m np\u001b[39m.\u001b[39;49mint(np\u001b[39m.\u001b[39;49msign(ytm_1d_obj_func(dw_limit,i,params,prices))\u001b[39m*\u001b[39;49mnp\u001b[39m.\u001b[39;49msign(ytm_1d_obj_func(up_limit,i,params,prices))) \u001b[39m==\u001b[39m\u001b[39m1\u001b[39m:\n\u001b[0;32m    506\u001b[0m         \u001b[39mcontinue\u001b[39;00m\n\u001b[0;32m    507\u001b[0m     ytm_total[i] \u001b[39m=\u001b[39m opt\u001b[39m.\u001b[39mbrentq(ytm_1d_obj_func, dw_limit,up_limit,args \u001b[39m=\u001b[39m (i, params,prices))\n",
      "\u001b[1;31mValueError\u001b[0m: cannot convert float NaN to integer"
     ]
    }
   ],
   "source": [
    "#Evaluar los precios, las TIRs y la funcion objetivo \n",
    "prices_opt = funciones.dirty_price_m_ns(betas_opt,parametros)\n",
    "tirs_opt = funciones.find_ytm_loop(parametros,prices_opt)\n",
    "funciones.find_ytm_loop(parametros,prices_opt)\n",
    "clase_6Fun.objetive_function_prices(betas_opt,parametros)\n",
    "funciones.objetive_function(betas_opt,parametros)"
   ]
  },
  {
   "cell_type": "code",
   "execution_count": 296,
   "metadata": {},
   "outputs": [
    {
     "data": {
      "image/png": "[encoded data removed]",
      "text/plain": [
       "<Figure size 432x288 with 1 Axes>"
      ]
     },
     "metadata": {
      "needs_background": "light"
     },
     "output_type": "display_data"
    }
   ],
   "source": [
    "###Grafica\n",
    "y_term = [(fin_date[k]-val_date).days/365 for k in range(len(fin_date))]\n",
    "plt.plot(venc.T, curva*100,'r')\n",
    "plt.plot(np.array(y_term), np.array(discount_rates),'bo')\n",
    "plt.grid(True)\n",
    "plt.ylabel('Tasa %')\n",
    "plt.xlabel('Plazo (años)')\n",
    "plt.suptitle('Curva Cero Cupón por Precio- 100 Pseudo TES')\n",
    "#plt.savefig(cwd+'\\\\Clase_6\\\\N&S-Price_Opt.png')\n",
    "plt.show()"
   ]
  },
  {
   "cell_type": "code",
   "execution_count": 320,
   "metadata": {},
   "outputs": [
    {
     "data": {
      "text/plain": [
       "(1142, 1)"
      ]
     },
     "execution_count": 320,
     "metadata": {},
     "output_type": "execute_result"
    }
   ],
   "source": [
    "curva.shape"
   ]
  },
  {
   "cell_type": "code",
   "execution_count": 318,
   "metadata": {},
   "outputs": [
    {
     "data": {
      "text/plain": [
       "array([ 4.021916,  4.760056,  5.905344,  6.157886,  6.634711,  6.865697,\n",
       "        7.377591,  7.473473,  7.582053,  7.954766,  8.028757,  8.1193  ,\n",
       "        8.269908,  8.468115,  8.484705,  8.500059,  8.525407,  8.64144 ,\n",
       "        8.704365,  8.791399,  8.864943,  8.892531,  9.021882,  9.117184,\n",
       "        9.145689,  9.147319,  9.174879,  9.199291,  9.378476,  9.38174 ,\n",
       "        9.390775,  9.40236 ,  9.410583,  9.449675,  9.492575,  9.508332,\n",
       "        9.51287 ,  9.519339,  9.619408,  9.625303,  9.632031,  9.633977,\n",
       "        9.639187,  9.646038,  9.657851,  9.687208,  9.712545,  9.715503,\n",
       "        9.719451,  9.722196,  9.724455,  9.739313,  9.746419,  9.749254,\n",
       "        9.76    ,  9.761555,  9.764181,  9.764219,  9.775716,  9.778708,\n",
       "        9.782218,  9.783726,  9.785366,  9.787522,  9.790714,  9.791929,\n",
       "        9.794201,  9.797024,  9.77    ,  9.797812, 10.097947, 10.10672 ,\n",
       "       10.108163, 10.108984, 10.111124, 10.115259, 10.116685, 10.109272,\n",
       "       10.110935, 10.112105, 10.11653 , 10.117937, 10.120832, 10.123697,\n",
       "       10.124348, 10.127062, 10.128291, 10.128851, 10.130036, 10.131428,\n",
       "       10.133964, 10.13524 , 10.136986, 10.137508, 10.137905, 10.146316,\n",
       "       10.147287, 10.148684, 10.148864, 10.149715,  2.160716,  2.53397 ,\n",
       "        2.747923,  2.770512,  2.770512,  2.770512,  2.770512,  4.472876,\n",
       "        4.476557,  4.476557,  4.480234,  4.6     ,  5.734831,  5.737082,\n",
       "        5.73933 ,  5.752767,  6.252723,  6.254394,  6.254394,  6.359094,\n",
       "        6.363746,  6.365293,  6.366839,  6.990265,  6.991125,  6.992841,\n",
       "        6.994553,  7.465458,  7.465818,  7.466177,  7.467253,  7.480596,\n",
       "        7.500655,  7.579029,  7.580017,  7.58051 ,  7.581492,  7.585624,\n",
       "        7.586346,  7.587066,  7.587306,  7.59158 ,  7.591815,  7.594853,\n",
       "        7.595549,  7.667112,  7.672155,  7.672955,  7.673114,  7.677991,\n",
       "        7.687644,  7.694253,  7.734392,  7.736508,  7.737241,  7.766871,\n",
       "        7.766952,  7.767033,  7.767517,  7.787213,  7.793346,  7.793407,\n",
       "        7.793592,  7.804467,  7.811439,  7.811439,  7.82024 ,  7.820904,\n",
       "        7.82108 ,  7.821343,  7.823755,  7.823967,  7.830621,  7.830659,\n",
       "        7.831766,  7.831879,  7.836483,  7.836976,  7.84066 ,  7.851889,\n",
       "        7.851944,  7.852027,  7.852634,  7.852908,  7.856746,  7.856798,\n",
       "        7.857155,  7.860087,  7.860858,  7.860906,  7.86093 ,  7.875916,\n",
       "        7.877221,  7.877364,  7.877844,  7.884695,  7.885051,  7.885482,\n",
       "        7.887171,  7.88729 , 11.022023, 11.072297, 11.108168, 11.108168,\n",
       "       11.157236, 11.253321, 11.326201, 11.331346, 11.331346, 11.331346,\n",
       "       11.447472, 11.447472, 11.447472, 11.464779, 11.59277 , 11.611631,\n",
       "       11.665197, 11.665197, 11.672113, 11.744873, 11.744873, 11.767237,\n",
       "       11.809245, 11.809245, 11.809245, 11.857107, 11.874307, 11.874307,\n",
       "       11.910497, 11.910497, 11.910497, 11.964915, 11.964915, 12.034412,\n",
       "       12.064483, 12.064483, 12.064483, 12.094199, 12.094199, 12.202074,\n",
       "       12.202074, 12.283537, 12.296237, 12.296237, 12.332135, 12.332135,\n",
       "       12.353402, 12.353402, 12.379702, 12.379702, 12.403968, 12.403968,\n",
       "       12.403968, 12.45338 , 12.508238, 12.508238, 12.508238, 12.564865,\n",
       "       12.564865, 12.64613 , 12.659856, 12.709346, 12.822644, 12.84473 ,\n",
       "       12.873289, 12.905344, 12.905344, 12.906667, 12.948422, 12.948422,\n",
       "       12.949709, 12.985344, 13.002862, 13.055448, 13.055448, 13.072178,\n",
       "       13.103914, 13.129265, 13.259858, 13.292585, 13.314594, 13.314594,\n",
       "       13.326434, 13.326434, 13.35073 , 13.389518, 13.433303, 13.443982,\n",
       "       13.632453, 13.656924, 13.677949, 13.685527, 13.686897, 13.688266,\n",
       "       13.697103, 13.702494, 13.705175, 13.706513, 13.706513, 14.      ,\n",
       "        4.538834,  4.54011 ,  4.54011 ,  4.541385,  4.541385,  4.542661,\n",
       "        4.543935,  4.543935,  4.546484,  4.547757,  4.547757,  4.547757,\n",
       "        4.55539 ,  4.55539 ,  4.55539 ,  4.67174 ,  4.67174 ,  4.67174 ,\n",
       "        4.672972,  4.672972,  4.727957,  4.730381,  4.730381,  4.738854,\n",
       "        4.738854,  4.772545,  4.772545,  4.774939,  4.815396,  4.816579,\n",
       "        4.816579,  4.817761,  4.842501,  4.842501,  4.894926,  4.894926,\n",
       "        4.927145,  4.927145,  4.947696,  4.980543,  4.980543,  4.98167 ,\n",
       "        4.98167 ,  4.985048,  4.985048,  5.025321,  5.034204,  5.049691,\n",
       "        5.049691,  5.091356,  5.091356,  5.091356,  5.094623,  5.095711,\n",
       "        5.096799,  5.097886,  5.104402,  5.12495 ,  5.126028,  5.127105,\n",
       "        5.148576,  5.150715,  5.154989,  5.156057,  5.158191,  5.184743,\n",
       "        5.1858  ,  5.1858  ,  5.186857,  5.187914,  5.192137,  5.193192,\n",
       "        5.229887,  5.231971,  5.253763,  5.267176,  5.2754  ,  5.277453,\n",
       "        5.280529,  5.296882,  5.299939,  5.308074,  5.337377,  5.344407,\n",
       "        5.34541 ,  5.34541 ,  5.346413,  5.443989,  5.443989,  5.489169,\n",
       "        5.492029,  5.502488,  5.531752,  5.543932,  5.56813 ,  5.606767,\n",
       "        5.614064,  5.691255,  5.691255,  5.735101,  6.224317,  6.368231,\n",
       "        6.519757,  6.736134,  6.914768,  6.919659,  6.94108 ,  6.94883 ,\n",
       "        7.078303,  7.226391,  7.227264,  7.245512,  7.25243 ,  7.276492,\n",
       "        7.420162,  7.569978,  7.637631,  7.679669,  7.693974,  7.779844,\n",
       "        7.828473,  7.889556,  8.064079,  8.129831,  8.259834,  8.260879,\n",
       "        8.265052,  8.291397,  8.327844,  8.36246 ,  8.392942,  8.428887,\n",
       "        8.463041,  8.499495,  8.530672,  8.544492,  8.578006,  8.599194,\n",
       "        8.778395,  8.848976,  8.869782,  8.869782,  8.960554,  8.964439,\n",
       "        9.013585,  9.066497,  9.173318,  9.191355,  9.255867,  9.257574,\n",
       "        9.268993,  9.304252,  9.310829,  9.324585,  9.345493,  9.363037,\n",
       "        9.398412,  9.406756,  9.429003,  9.450507,  9.455491,  9.476121,\n",
       "        9.490206,  9.506772,  9.508389,  9.53212 ,  9.557071,  9.56364 ,\n",
       "        9.571972,  9.592452,  9.620272,  9.639103,  9.64633 ,  9.651316,\n",
       "        9.654352,  9.654464,  9.657925,  9.666638,  9.669798,  9.68802 ,\n",
       "        9.691251,  9.724127,  9.729989,  9.736717,  9.740277,  9.749601,\n",
       "        9.757567,  9.757746,  9.760606,  9.761229,  9.769595,  9.777544,\n",
       "        9.781632,  9.809411,  9.823574,  9.828134,  9.843179,  9.83732 ,\n",
       "        9.848664,  9.850165])"
      ]
     },
     "execution_count": 318,
     "metadata": {},
     "output_type": "execute_result"
    }
   ],
   "source": [
    "np.array(discount_rates)"
   ]
  },
  {
   "cell_type": "code",
   "execution_count": 317,
   "metadata": {},
   "outputs": [
    {
     "data": {
      "text/plain": [
       "[0.4328767123287671,\n",
       " 0.7643835616438356,\n",
       " 1.1287671232876713,\n",
       " 1.6794520547945206,\n",
       " 2.164383561643836,\n",
       " 2.1780821917808217,\n",
       " 2.2383561643835614,\n",
       " 2.26027397260274,\n",
       " 2.6356164383561644,\n",
       " 3.0876712328767124,\n",
       " 3.0904109589041098,\n",
       " 3.147945205479452,\n",
       " 3.16986301369863,\n",
       " 3.2465753424657535,\n",
       " 3.7205479452054795,\n",
       " 4.2465753424657535,\n",
       " 4.495890410958904,\n",
       " 4.654794520547945,\n",
       " 4.7095890410958905,\n",
       " 5.046575342465753,\n",
       " 5.243835616438356,\n",
       " 5.498630136986302,\n",
       " 6.273972602739726,\n",
       " 6.586301369863014,\n",
       " 7.241095890410959,\n",
       " 7.2465753424657535,\n",
       " 7.2684931506849315,\n",
       " 7.4082191780821915,\n",
       " 7.605479452054794,\n",
       " 7.7972602739726025,\n",
       " 7.96986301369863,\n",
       " 8.178082191780822,\n",
       " 8.38082191780822,\n",
       " 8.602739726027398,\n",
       " 8.797260273972602,\n",
       " 8.884931506849314,\n",
       " 9.101369863013698,\n",
       " 9.241095890410959,\n",
       " 10.523287671232877,\n",
       " 11.084931506849315,\n",
       " 11.257534246575343,\n",
       " 11.257534246575343,\n",
       " 12.052054794520547,\n",
       " 12.087671232876712,\n",
       " 12.550684931506849,\n",
       " 13.076712328767123,\n",
       " 14.238356164383562,\n",
       " 14.449315068493151,\n",
       " 15.243835616438357,\n",
       " 15.265753424657534,\n",
       " 15.413698630136986,\n",
       " 15.884931506849314,\n",
       " 15.975342465753425,\n",
       " 16.167123287671235,\n",
       " 16.465753424657535,\n",
       " 16.723287671232878,\n",
       " 17.263013698630136,\n",
       " 17.394520547945206,\n",
       " 17.753424657534246,\n",
       " 18.112328767123287,\n",
       " 18.197260273972603,\n",
       " 18.556164383561644,\n",
       " 18.80821917808219,\n",
       " 19.112328767123287,\n",
       " 19.14246575342466,\n",
       " 19.594520547945205,\n",
       " 20.09041095890411,\n",
       " 20.224657534246575,\n",
       " 20.397260273972602,\n",
       " 20.832876712328765,\n",
       " 21.45205479452055,\n",
       " 21.89041095890411,\n",
       " 22.063013698630137,\n",
       " 22.183561643835617,\n",
       " 22.257534246575343,\n",
       " 22.26027397260274,\n",
       " 22.345205479452055,\n",
       " 22.561643835616437,\n",
       " 22.64109589041096,\n",
       " 23.10958904109589,\n",
       " 23.194520547945206,\n",
       " 24.09315068493151,\n",
       " 24.26027397260274,\n",
       " 24.454794520547946,\n",
       " 24.55890410958904,\n",
       " 24.835616438356166,\n",
       " 25.076712328767123,\n",
       " 25.08219178082192,\n",
       " 25.16986301369863,\n",
       " 25.18904109589041,\n",
       " 25.44931506849315,\n",
       " 25.7013698630137,\n",
       " 25.832876712328765,\n",
       " 26.76164383561644,\n",
       " 27.26027397260274,\n",
       " 27.424657534246574,\n",
       " 27.980821917808218,\n",
       " 27.76164383561644,\n",
       " 28.18904109589041,\n",
       " 28.246575342465754]"
      ]
     },
     "execution_count": 317,
     "metadata": {},
     "output_type": "execute_result"
    }
   ],
   "source": [
    "y_term"
   ]
  },
  {
   "cell_type": "markdown",
   "metadata": {},
   "source": [
    "### Pruebas FALLIDAS optimizacion"
   ]
  },
  {
   "cell_type": "code",
   "execution_count": 230,
   "metadata": {},
   "outputs": [
    {
     "name": "stderr",
     "output_type": "stream",
     "text": [
      "C:\\Users\\Edwin\\AppData\\Roaming\\Python\\Python39\\site-packages\\pandas\\io\\sql.py:762: UserWarning: pandas only support SQLAlchemy connectable(engine/connection) ordatabase string URI or sqlite3 DBAPI2 connectionother DBAPI2 objects are not tested, please consider using SQLAlchemy\n",
      "  warnings.warn(\n"
     ]
    },
    {
     "data": {
      "text/html": [
       "<div>\n",
       "<style scoped>\n",
       "    .dataframe tbody tr th:only-of-type {\n",
       "        vertical-align: middle;\n",
       "    }\n",
       "\n",
       "    .dataframe tbody tr th {\n",
       "        vertical-align: top;\n",
       "    }\n",
       "\n",
       "    .dataframe thead th {\n",
       "        text-align: right;\n",
       "    }\n",
       "</style>\n",
       "<table border=\"1\" class=\"dataframe\">\n",
       "  <thead>\n",
       "    <tr style=\"text-align: right;\">\n",
       "      <th></th>\n",
       "      <th>Tipo</th>\n",
       "      <th>Indice_tipo</th>\n",
       "      <th>fecha_valoracion</th>\n",
       "      <th>nemotecnico</th>\n",
       "      <th>fecha_emision</th>\n",
       "      <th>fecha_vencimiento</th>\n",
       "      <th>cupon</th>\n",
       "      <th>tir</th>\n",
       "      <th>frecuencia_pago</th>\n",
       "      <th>Indicador_indexado</th>\n",
       "      <th>conteo_dias</th>\n",
       "      <th>Indice_c</th>\n",
       "      <th>fecha_indice</th>\n",
       "      <th>valor</th>\n",
       "    </tr>\n",
       "  </thead>\n",
       "  <tbody>\n",
       "    <tr>\n",
       "      <th>0</th>\n",
       "      <td>T5</td>\n",
       "      <td>1</td>\n",
       "      <td>2022-09-18</td>\n",
       "      <td>TUVTKQ360</td>\n",
       "      <td>2018-02-23</td>\n",
       "      <td>2023-02-23</td>\n",
       "      <td>4.0</td>\n",
       "      <td>6.224317</td>\n",
       "      <td>12</td>\n",
       "      <td>No</td>\n",
       "      <td>REAL/360</td>\n",
       "      <td>No</td>\n",
       "      <td>2022-09-18</td>\n",
       "      <td>0.0</td>\n",
       "    </tr>\n",
       "    <tr>\n",
       "      <th>1</th>\n",
       "      <td>T5</td>\n",
       "      <td>2</td>\n",
       "      <td>2022-09-18</td>\n",
       "      <td>TUVATFJ360</td>\n",
       "      <td>2012-06-24</td>\n",
       "      <td>2023-06-24</td>\n",
       "      <td>3.0</td>\n",
       "      <td>6.368231</td>\n",
       "      <td>12</td>\n",
       "      <td>No</td>\n",
       "      <td>REAL/360</td>\n",
       "      <td>No</td>\n",
       "      <td>2022-09-18</td>\n",
       "      <td>0.0</td>\n",
       "    </tr>\n",
       "    <tr>\n",
       "      <th>2</th>\n",
       "      <td>T5</td>\n",
       "      <td>3</td>\n",
       "      <td>2022-09-18</td>\n",
       "      <td>TUVTRE360</td>\n",
       "      <td>2015-11-04</td>\n",
       "      <td>2023-11-04</td>\n",
       "      <td>3.0</td>\n",
       "      <td>6.519757</td>\n",
       "      <td>12</td>\n",
       "      <td>No</td>\n",
       "      <td>REAL/360</td>\n",
       "      <td>No</td>\n",
       "      <td>2022-09-18</td>\n",
       "      <td>0.0</td>\n",
       "    </tr>\n",
       "    <tr>\n",
       "      <th>3</th>\n",
       "      <td>T5</td>\n",
       "      <td>4</td>\n",
       "      <td>2022-09-18</td>\n",
       "      <td>TUVTAF360</td>\n",
       "      <td>2018-05-23</td>\n",
       "      <td>2024-05-23</td>\n",
       "      <td>4.0</td>\n",
       "      <td>6.736134</td>\n",
       "      <td>12</td>\n",
       "      <td>No</td>\n",
       "      <td>REAL/360</td>\n",
       "      <td>No</td>\n",
       "      <td>2022-09-18</td>\n",
       "      <td>0.0</td>\n",
       "    </tr>\n",
       "    <tr>\n",
       "      <th>4</th>\n",
       "      <td>T5</td>\n",
       "      <td>5</td>\n",
       "      <td>2022-09-18</td>\n",
       "      <td>TUVTXA360</td>\n",
       "      <td>2014-11-16</td>\n",
       "      <td>2024-11-16</td>\n",
       "      <td>4.0</td>\n",
       "      <td>6.914768</td>\n",
       "      <td>12</td>\n",
       "      <td>No</td>\n",
       "      <td>REAL/360</td>\n",
       "      <td>No</td>\n",
       "      <td>2022-09-18</td>\n",
       "      <td>0.0</td>\n",
       "    </tr>\n",
       "    <tr>\n",
       "      <th>...</th>\n",
       "      <td>...</td>\n",
       "      <td>...</td>\n",
       "      <td>...</td>\n",
       "      <td>...</td>\n",
       "      <td>...</td>\n",
       "      <td>...</td>\n",
       "      <td>...</td>\n",
       "      <td>...</td>\n",
       "      <td>...</td>\n",
       "      <td>...</td>\n",
       "      <td>...</td>\n",
       "      <td>...</td>\n",
       "      <td>...</td>\n",
       "      <td>...</td>\n",
       "    </tr>\n",
       "    <tr>\n",
       "      <th>95</th>\n",
       "      <td>T5</td>\n",
       "      <td>96</td>\n",
       "      <td>2022-09-18</td>\n",
       "      <td>TUVTZT360</td>\n",
       "      <td>2021-02-13</td>\n",
       "      <td>2050-02-13</td>\n",
       "      <td>3.0</td>\n",
       "      <td>9.828134</td>\n",
       "      <td>12</td>\n",
       "      <td>No</td>\n",
       "      <td>REAL/360</td>\n",
       "      <td>No</td>\n",
       "      <td>2022-09-18</td>\n",
       "      <td>0.0</td>\n",
       "    </tr>\n",
       "    <tr>\n",
       "      <th>96</th>\n",
       "      <td>T5</td>\n",
       "      <td>97</td>\n",
       "      <td>2022-09-18</td>\n",
       "      <td>TUVTYO360</td>\n",
       "      <td>2017-09-04</td>\n",
       "      <td>2050-09-04</td>\n",
       "      <td>3.0</td>\n",
       "      <td>9.843179</td>\n",
       "      <td>12</td>\n",
       "      <td>No</td>\n",
       "      <td>REAL/360</td>\n",
       "      <td>No</td>\n",
       "      <td>2022-09-18</td>\n",
       "      <td>0.0</td>\n",
       "    </tr>\n",
       "    <tr>\n",
       "      <th>97</th>\n",
       "      <td>T5</td>\n",
       "      <td>98</td>\n",
       "      <td>2022-09-18</td>\n",
       "      <td>TUVTXV360</td>\n",
       "      <td>2015-06-16</td>\n",
       "      <td>2050-06-16</td>\n",
       "      <td>5.0</td>\n",
       "      <td>9.837320</td>\n",
       "      <td>12</td>\n",
       "      <td>No</td>\n",
       "      <td>REAL/360</td>\n",
       "      <td>No</td>\n",
       "      <td>2022-09-18</td>\n",
       "      <td>0.0</td>\n",
       "    </tr>\n",
       "    <tr>\n",
       "      <th>98</th>\n",
       "      <td>T5</td>\n",
       "      <td>99</td>\n",
       "      <td>2022-09-18</td>\n",
       "      <td>TUVTHB360</td>\n",
       "      <td>2020-11-19</td>\n",
       "      <td>2050-11-19</td>\n",
       "      <td>5.0</td>\n",
       "      <td>9.848664</td>\n",
       "      <td>12</td>\n",
       "      <td>No</td>\n",
       "      <td>REAL/360</td>\n",
       "      <td>No</td>\n",
       "      <td>2022-09-18</td>\n",
       "      <td>0.0</td>\n",
       "    </tr>\n",
       "    <tr>\n",
       "      <th>99</th>\n",
       "      <td>T5</td>\n",
       "      <td>100</td>\n",
       "      <td>2022-09-18</td>\n",
       "      <td>TUVTPX360</td>\n",
       "      <td>2012-12-10</td>\n",
       "      <td>2050-12-10</td>\n",
       "      <td>3.0</td>\n",
       "      <td>9.850165</td>\n",
       "      <td>12</td>\n",
       "      <td>No</td>\n",
       "      <td>REAL/360</td>\n",
       "      <td>No</td>\n",
       "      <td>2022-09-18</td>\n",
       "      <td>0.0</td>\n",
       "    </tr>\n",
       "  </tbody>\n",
       "</table>\n",
       "<p>100 rows × 14 columns</p>\n",
       "</div>"
      ],
      "text/plain": [
       "   Tipo  Indice_tipo fecha_valoracion nemotecnico fecha_emision  \\\n",
       "0    T5            1       2022-09-18   TUVTKQ360    2018-02-23   \n",
       "1    T5            2       2022-09-18  TUVATFJ360    2012-06-24   \n",
       "2    T5            3       2022-09-18   TUVTRE360    2015-11-04   \n",
       "3    T5            4       2022-09-18   TUVTAF360    2018-05-23   \n",
       "4    T5            5       2022-09-18   TUVTXA360    2014-11-16   \n",
       "..  ...          ...              ...         ...           ...   \n",
       "95   T5           96       2022-09-18   TUVTZT360    2021-02-13   \n",
       "96   T5           97       2022-09-18   TUVTYO360    2017-09-04   \n",
       "97   T5           98       2022-09-18   TUVTXV360    2015-06-16   \n",
       "98   T5           99       2022-09-18   TUVTHB360    2020-11-19   \n",
       "99   T5          100       2022-09-18   TUVTPX360    2012-12-10   \n",
       "\n",
       "   fecha_vencimiento  cupon       tir  frecuencia_pago Indicador_indexado  \\\n",
       "0         2023-02-23    4.0  6.224317               12                 No   \n",
       "1         2023-06-24    3.0  6.368231               12                 No   \n",
       "2         2023-11-04    3.0  6.519757               12                 No   \n",
       "3         2024-05-23    4.0  6.736134               12                 No   \n",
       "4         2024-11-16    4.0  6.914768               12                 No   \n",
       "..               ...    ...       ...              ...                ...   \n",
       "95        2050-02-13    3.0  9.828134               12                 No   \n",
       "96        2050-09-04    3.0  9.843179               12                 No   \n",
       "97        2050-06-16    5.0  9.837320               12                 No   \n",
       "98        2050-11-19    5.0  9.848664               12                 No   \n",
       "99        2050-12-10    3.0  9.850165               12                 No   \n",
       "\n",
       "   conteo_dias Indice_c fecha_indice  valor  \n",
       "0     REAL/360       No   2022-09-18    0.0  \n",
       "1     REAL/360       No   2022-09-18    0.0  \n",
       "2     REAL/360       No   2022-09-18    0.0  \n",
       "3     REAL/360       No   2022-09-18    0.0  \n",
       "4     REAL/360       No   2022-09-18    0.0  \n",
       "..         ...      ...          ...    ...  \n",
       "95    REAL/360       No   2022-09-18    0.0  \n",
       "96    REAL/360       No   2022-09-18    0.0  \n",
       "97    REAL/360       No   2022-09-18    0.0  \n",
       "98    REAL/360       No   2022-09-18    0.0  \n",
       "99    REAL/360       No   2022-09-18    0.0  \n",
       "\n",
       "[100 rows x 14 columns]"
      ]
     },
     "metadata": {},
     "output_type": "display_data"
    }
   ],
   "source": [
    "db_object = DB_class(host=\"localhost\",user=\"root\",password=\"root\",database=\"trabajo_1\")\n",
    "class2_db = db_object.open_db()\n",
    "mi_cursor = class2_db.cursor()\n",
    "query = (\n",
    "'SELECT '+\\\n",
    "'trabajo_2.tabla_precios.Tipo,'+\\\n",
    "'trabajo_2.tabla_precios.Indice_tipo,'+\\\n",
    "'trabajo_2.tabla_precios.fecha_valoracion,'+\\\n",
    "'trabajo_2.tabla_precios.nemotecnico,'+\\\n",
    "'trabajo_2.tabla_precios.fecha_emision,'+\\\n",
    "'trabajo_2.tabla_precios.fecha_vencimiento,'+\\\n",
    "'trabajo_2.tabla_precios.cupon,'+\\\n",
    "'trabajo_2.tabla_precios.tir,'+\\\n",
    "'trabajo_2.tabla_precios.frecuencia_pago,'+\\\n",
    "'trabajo_2.tabla_precios.Indicador_indexado,'+\\\n",
    "'trabajo_2.tabla_precios.conteo_dias,'+\\\n",
    "'trabajo_2.tabla_indices.Indice_c,'+\\\n",
    "'trabajo_2.tabla_indices.fecha_indice,'+\\\n",
    "'trabajo_2.tabla_indices.valor '+\\\n",
    "'FROM trabajo_2.tabla_precios '+\\\n",
    "'left join trabajo_2.tabla_indices '+\\\n",
    "'on '+\\\n",
    "'concat(trabajo_2.tabla_indices.Indice_c,trabajo_2.tabla_indices.fecha_indice) ='+\\\n",
    "'concat(trabajo_2.tabla_precios.Indicador_indexado,trabajo_2.tabla_precios.fecha_valoracion) '+\\\n",
    "'where '+\\\n",
    "'trabajo_2.tabla_precios.Tipo in (\\'T5\\') '+\\\n",
    "'order by trabajo_2.tabla_precios.Tipo, trabajo_2.tabla_precios.Indice_tipo'\n",
    ")\n",
    "tes_faciales = pd.read_sql(query, con=class2_db)\n",
    "display(tes_faciales)"
   ]
  },
  {
   "cell_type": "code",
   "execution_count": 231,
   "metadata": {},
   "outputs": [],
   "source": [
    "val_date= tes_faciales.fecha_valoracion.drop_duplicates()[0]\n",
    "ini_date = tes_faciales.fecha_emision\n",
    "fin_date = tes_faciales.fecha_vencimiento\n",
    "cpn =  tes_faciales.cupon\n",
    "discount_rates = tes_faciales.tir.copy()\n",
    "frec_pag=tes_faciales.frecuencia_pago\n",
    "indicador=tes_faciales.valor\n",
    "conteo_dias=tes_faciales.conteo_dias\n",
    "discount_rates_ind=((1+discount_rates/100)*(1+indicador/100)-1)*100\n",
    "\n",
    "discount_rates_consol=tes_faciales.tir.copy()\n",
    "for i in range(len(discount_rates)):\n",
    "    if indicador[i]==0:\n",
    "        discount_rates_consol[i]=discount_rates[i]\n",
    "    else:\n",
    "        discount_rates_consol[i]=discount_rates_ind[i]"
   ]
  },
  {
   "cell_type": "code",
   "execution_count": 232,
   "metadata": {},
   "outputs": [],
   "source": [
    "mul_inst = 1 #intentar 1, 100 y 10000\n",
    "parametros = dict({\n",
    "        'val_date':val_date, \n",
    "        'ini_date':np.tile(ini_date,mul_inst), \n",
    "        'fin_date':np.tile(fin_date,mul_inst), \n",
    "        'coupon':np.tile(cpn,mul_inst),\n",
    "        'discount_rates':np.tile(discount_rates_consol,mul_inst),\n",
    "        'conteo_dias':np.tile(conteo_dias,mul_inst),\n",
    "        'frec_pag':np.tile(frec_pag,mul_inst),\n",
    "        'indicador':np.tile(indicador,mul_inst),\n",
    "        'limits':np.array([0,200])\n",
    "        })"
   ]
  },
  {
   "cell_type": "code",
   "execution_count": 233,
   "metadata": {},
   "outputs": [],
   "source": [
    "n_inst = len(parametros['coupon'])\n",
    "## Funcion de matriz de cupones\n",
    "coupon_dict = funciones.coupon_mGen(parametros)\n",
    "parametros['cpn_dict'] = coupon_dict\n",
    "\n",
    "parametros['delta_t'] = coupon_dict['days_matrix']\n",
    "parametros['discount_factors'] = funciones.discount_factor_m(parametros)\n",
    "parametros['mkt_prices']  = funciones.dirty_price_m(parametros)\n",
    "\n",
    "##### Calcular los betas\n",
    "venc = coupon_dict['days_matrix']"
   ]
  },
  {
   "cell_type": "code",
   "execution_count": 234,
   "metadata": {},
   "outputs": [
    {
     "name": "stderr",
     "output_type": "stream",
     "text": [
      "d:\\cursos\\Maestria finanzas\\S3_PySql rent fij\\Trabajo02\\Clase_6\\Funciones.py:584: RuntimeWarning: divide by zero encountered in true_divide\n",
      "  y = beta_0+params[1]*((1-np.exp(-ven/params[3]))/(ven/params[3]))+\\\n",
      "d:\\cursos\\Maestria finanzas\\S3_PySql rent fij\\Trabajo02\\Clase_6\\Funciones.py:585: RuntimeWarning: divide by zero encountered in true_divide\n",
      "  params[2]*((1-np.exp(-ven/params[3]))/(ven/params[3])- \\\n",
      "d:\\cursos\\Maestria finanzas\\S3_PySql rent fij\\Trabajo02\\Clase_6\\Funciones.py:586: RuntimeWarning: divide by zero encountered in true_divide\n",
      "  np.exp(-ven/params[3]))\n"
     ]
    },
    {
     "name": "stdout",
     "output_type": "stream",
     "text": [
      "El algortimo de optimizacion por fuerza bruta en Precio tarda 49.63 segundos\n"
     ]
    }
   ],
   "source": [
    "################ Optimizacion por precios}\n",
    "#T1 [5000,11000] \n",
    "#T2 [10,150] 1398.433544436016\n",
    "#T3 [50,130] 9181.385117817237\n",
    "#T4 [-16.2,1] 9774.326487644583\n",
    "\n",
    "parametros['limits'] = np.array([0,200])\n",
    "ini = time.time()\n",
    "optimiz_result = clase_6Fun.betas_optimization_bound_prices(parametros)\n",
    "fin = time.time()\n",
    "betas_opt = optimiz_result.copy()\n",
    "curva = funciones.NelsonSiegel_m(betas_opt, venc)\n",
    "print(f'El algortimo de optimizacion por fuerza bruta en Precio tarda {(fin-ini):.2f} segundos')\n",
    "#se demora menos de un min"
   ]
  },
  {
   "cell_type": "code",
   "execution_count": 235,
   "metadata": {},
   "outputs": [
    {
     "data": {
      "text/plain": [
       "6.495992266195993"
      ]
     },
     "execution_count": 235,
     "metadata": {},
     "output_type": "execute_result"
    }
   ],
   "source": [
    "#Evaluar los precios, las TIRs y la funcion objetivo \n",
    "prices_opt = funciones.dirty_price_m_ns(betas_opt,parametros)\n",
    "tirs_opt = funciones.find_ytm_loop(parametros,prices_opt)\n",
    "funciones.find_ytm_loop(parametros,prices_opt)\n",
    "clase_6Fun.objetive_function_prices(betas_opt,parametros)\n",
    "funciones.objetive_function(betas_opt,parametros)"
   ]
  },
  {
   "cell_type": "code",
   "execution_count": 236,
   "metadata": {},
   "outputs": [
    {
     "data": {
      "image/png": "[encoded data removed]",
      "text/plain": [
       "<Figure size 432x288 with 1 Axes>"
      ]
     },
     "metadata": {
      "needs_background": "light"
     },
     "output_type": "display_data"
    }
   ],
   "source": [
    "###Grafica\n",
    "y_term = [(fin_date[k]-val_date).days/365 for k in range(len(fin_date))]\n",
    "\n",
    "#axes = plt.axes()\n",
    "#axes.set_ylim([0, 3])\n",
    "plt.plot(venc.T, curva*100,'r')\n",
    "plt.plot(np.array(y_term), np.array(discount_rates),'bo')\n",
    "plt.grid(True)\n",
    "plt.ylabel('Tasa %')\n",
    "plt.xlabel('Plazo (años)')\n",
    "plt.suptitle('Curva Cero Cupón por Precio- 100 Pseudo TES')\n",
    "#plt.savefig(cwd+'\\\\Clase_6\\\\N&S-Price_Opt.png')\n",
    "#plt.ylim(-2, 2)\n",
    "plt.show()"
   ]
  },
  {
   "cell_type": "markdown",
   "metadata": {},
   "source": [
    "## 7 Calculo medidas de riesgo duraciones y convexidad"
   ]
  },
  {
   "cell_type": "code",
   "execution_count": 312,
   "metadata": {},
   "outputs": [],
   "source": [
    "import time\n",
    "ini_0 = time.time()\n",
    "mac_dur_m = clase_6Fun.Macaulay_duration_mat(parametros_500,prices).round(15)\n",
    "ini_1 = time.time()\n",
    "mod_dur_m_2 = clase_6Fun.Modified_duration_mat_2(parametros_500,prices,mac_dur_m).round(15)\n",
    "fin_0 = time.time()\n",
    "conv_m = clase_6Fun.Convexity_mat(parametros_500,prices).round(15)"
   ]
  },
  {
   "cell_type": "code",
   "execution_count": 313,
   "metadata": {},
   "outputs": [],
   "source": [
    "ini_2 = time.time()\n",
    "mac_dur_m_loop = clase_6Fun.Macaulay_duration_mat_loop(parametros_500,prices).round(15)\n",
    "ini_3 = time.time()\n",
    "mod_dur_m_loop_2 = clase_6Fun.Modified_duration_mat_loop_2(parametros_500,prices,mac_dur_m_loop).round(15)\n",
    "ini_4 = time.time()\n",
    "conv_m_loop = clase_6Fun.Convexity_mat_loop(parametros_500,prices).round(15)\n",
    "fin_1 = time.time()"
   ]
  },
  {
   "cell_type": "code",
   "execution_count": 314,
   "metadata": {},
   "outputs": [
    {
     "data": {
      "text/plain": [
       "False"
      ]
     },
     "execution_count": 314,
     "metadata": {},
     "output_type": "execute_result"
    }
   ],
   "source": [
    "(mac_dur_m==mac_dur_m_loop).all()\n",
    "(mod_dur_m_2 == mod_dur_m_loop_2).all()\n",
    "(conv_m == conv_m_loop).all()"
   ]
  },
  {
   "cell_type": "code",
   "execution_count": 315,
   "metadata": {},
   "outputs": [
    {
     "name": "stdout",
     "output_type": "stream",
     "text": [
      "El calculo de duracion macaulay matricial para 500 titulos, tardo 0.03 segundos\n",
      "El calculo de duracion macaulay vect en loop para  500 titulos, tardo 0.05 segundos\n",
      "El calculo de duracion modificada matricial para 500 titulos,  tardo 0.00 segundos\n",
      "El calculo de duracion modificada vect en loop para 500 titulos, tardo 0.00 segundos\n",
      "El calculo de la convexidad matricial para 500 titulos, tardo 1.99 segundos\n",
      "El calculo de la convexidad vect en loop para 500 titulos, tardo 0.04 segundos\n"
     ]
    }
   ],
   "source": [
    "print(f'El calculo de duracion macaulay matricial para {n_inst} titulos, tardo {(ini_1-ini_0):.2f} segundos')\n",
    "print(f'El calculo de duracion macaulay vect en loop para  {n_inst} titulos, tardo {(ini_3-ini_2):.2f} segundos')\n",
    "\n",
    "print(f'El calculo de duracion modificada matricial para {n_inst} titulos,  tardo {(fin_0-ini_1):.2f} segundos')\n",
    "print(f'El calculo de duracion modificada vect en loop para {n_inst} titulos, tardo {(ini_4-ini_3):.2f} segundos')\n",
    "\n",
    "print(f'El calculo de la convexidad matricial para {n_inst} titulos, tardo {(ini_2-fin_0):.2f} segundos')\n",
    "print(f'El calculo de la convexidad vect en loop para {n_inst} titulos, tardo {(fin_1-ini_4):.2f} segundos')\n"
   ]
  },
  {
   "cell_type": "code",
   "execution_count": null,
   "metadata": {},
   "outputs": [],
   "source": []
  },
  {
   "cell_type": "code",
   "execution_count": null,
   "metadata": {},
   "outputs": [],
   "source": []
  },
  {
   "cell_type": "code",
   "execution_count": null,
   "metadata": {},
   "outputs": [],
   "source": []
  },
  {
   "cell_type": "code",
   "execution_count": null,
   "metadata": {},
   "outputs": [],
   "source": []
  },
  {
   "cell_type": "code",
   "execution_count": 120,
   "metadata": {},
   "outputs": [
    {
     "name": "stdout",
     "output_type": "stream",
     "text": [
      "[datetime.date(2012, 9, 11) datetime.date(2012, 12, 11)\n",
      " datetime.date(2013, 3, 11) datetime.date(2013, 6, 11)\n",
      " datetime.date(2013, 9, 11) datetime.date(2013, 12, 11)\n",
      " datetime.date(2014, 3, 11) datetime.date(2014, 6, 11)\n",
      " datetime.date(2014, 9, 11) datetime.date(2014, 12, 11)]\n"
     ]
    }
   ],
   "source": [
    "tes_faciales.fecha_emision[0]\n",
    "issue=dt.datetime.strptime(str(tes_faciales.fecha_emision[0]),'%Y-%m-%d').date()\n",
    "periodos=10\n",
    "frecuencia_0=3\n",
    "years_0=0\n",
    "months_0=0\n",
    "arr = np.array([])\n",
    "for i in range(periodos):\n",
    "    if i==0:\n",
    "        years_0=0\n",
    "    elif (frecuencia_0*i)%12==0:\n",
    "        years_0=(frecuencia_0*i)/12\n",
    "    months_0=(frecuencia_0*i)%12\n",
    "    \n",
    "    respuesta=issue + relativedelta(years=years_0) +relativedelta(months=months_0) \n",
    "    arr = np.append(arr, respuesta)    \n",
    "    #print(years_0,' - ',months_0,' - ',respuesta)\n",
    "print(arr)"
   ]
  },
  {
   "cell_type": "code",
   "execution_count": null,
   "metadata": {},
   "outputs": [],
   "source": []
  }
 ],
 "metadata": {
  "kernelspec": {
   "display_name": "Python 3.9.12 ('base')",
   "language": "python",
   "name": "python3"
  },
  "language_info": {
   "codemirror_mode": {
    "name": "ipython",
    "version": 3
   },
   "file_extension": ".py",
   "mimetype": "text/x-python",
   "name": "python",
   "nbconvert_exporter": "python",
   "pygments_lexer": "ipython3",
   "version": "3.9.12"
  },
  "orig_nbformat": 4,
  "vscode": {
   "interpreter": {
    "hash": "ad2bdc8ecc057115af97d19610ffacc2b4e99fae6737bb82f5d7fb13d2f2c186"
   }
  }
 },
 "nbformat": 4,
 "nbformat_minor": 2
}
