{
 "cells": [
  {
   "cell_type": "markdown",
   "metadata": {},
   "source": [
    "## Trabajo 02 Renta fija Sql y python - Laura Rojas - Edwin Rios"
   ]
  },
  {
   "cell_type": "markdown",
   "metadata": {},
   "source": [
    "#### Librerias"
   ]
  },
  {
   "cell_type": "code",
   "execution_count": 331,
   "metadata": {},
   "outputs": [],
   "source": [
    "import mysql.connector\n",
    "import datetime as dt\n",
    "import numpy as np\n",
    "import pandas as pd\n",
    "from dateutil.relativedelta import relativedelta\n",
    "import matplotlib.pyplot as plt\n",
    "\n",
    "import time\n"
   ]
  },
  {
   "cell_type": "code",
   "execution_count": 332,
   "metadata": {},
   "outputs": [],
   "source": [
    "import os\n",
    "import sys\n",
    "import inspect"
   ]
  },
  {
   "cell_type": "code",
   "execution_count": 333,
   "metadata": {},
   "outputs": [],
   "source": [
    "import Clase_6.Funciones as funciones\n",
    "from Clase_6.Funciones import DB_class\n",
    "import Clase_6.Clase_6Fun as clase_6Fun"
   ]
  },
  {
   "cell_type": "markdown",
   "metadata": {},
   "source": [
    "--funciones\\\n",
    "    |-DB_class\\\n",
    "    |-coupon_m(parametros)\\\n",
    "    |-discount_factor_m(parametros)\\\n",
    "    |-dirty_price_m(parametros)\\\n",
    "    |-dirty_price_1i(parametros,inst_pos)\\\n",
    "    |-ytm_1d_obj_func(x,i,params,prices)\\\n",
    "    |-find_ytm_loop(parametros,prices)\\\n",
    "    |-ytm_obj_func(x,params,prices)\\\n",
    "    |-find_ytm_m(parametros,prices)\\\n",
    "    |-NelsonSiegel_1d(params, ven)\\\n",
    "    |-NelsonSiegel_m(params, ven)\\\n",
    "    |-dirty_price_m_ns(betas,parametros)\\\n",
    "    |-objetive_function(betas,parametros)\\\n",
    "    |-betas_optimization(parametros)\\\n",
    "    |-betas_optimization_bound(parametros)\\"
   ]
  },
  {
   "cell_type": "markdown",
   "metadata": {},
   "source": [
    "--Clase_6Fun\\\n",
    "    |-Macaulay_duration_mat(parametros,prices)\\\n",
    "    |-Modified_duration_mat(parametros,prices)\\\n",
    "    |-Modified_duration_mat_2(parametros,prices,macaulay_duration)\\\n",
    "    |-Convexity_mat(parametros,prices)\\\n",
    "    |-Macaulay_duration_mat_loop(parametros,prices)\\\n",
    "    |-Modified_duration_mat_loop(parametros,prices)\\\n",
    "    |-Modified_duration_mat_loop_2(parametros,prices,macaulay_duration)\\\n",
    "    |-Convexity_mat_loop(parametros,prices)\\\n",
    "    |-objetive_function_prices(betas,parametros)\\\n",
    "    |-betas_optimization_bound_prices(parametros)\\"
   ]
  },
  {
   "cell_type": "code",
   "execution_count": 334,
   "metadata": {},
   "outputs": [],
   "source": [
    "import itertools\n",
    "import importlib"
   ]
  },
  {
   "cell_type": "markdown",
   "metadata": {},
   "source": [
    "## Cargue base de datos TES"
   ]
  },
  {
   "cell_type": "code",
   "execution_count": 415,
   "metadata": {},
   "outputs": [
    {
     "name": "stderr",
     "output_type": "stream",
     "text": [
      "C:\\Users\\Edwin\\AppData\\Roaming\\Python\\Python39\\site-packages\\pandas\\io\\sql.py:762: UserWarning: pandas only support SQLAlchemy connectable(engine/connection) ordatabase string URI or sqlite3 DBAPI2 connectionother DBAPI2 objects are not tested, please consider using SQLAlchemy\n",
      "  warnings.warn(\n"
     ]
    },
    {
     "data": {
      "text/html": [
       "<div>\n",
       "<style scoped>\n",
       "    .dataframe tbody tr th:only-of-type {\n",
       "        vertical-align: middle;\n",
       "    }\n",
       "\n",
       "    .dataframe tbody tr th {\n",
       "        vertical-align: top;\n",
       "    }\n",
       "\n",
       "    .dataframe thead th {\n",
       "        text-align: right;\n",
       "    }\n",
       "</style>\n",
       "<table border=\"1\" class=\"dataframe\">\n",
       "  <thead>\n",
       "    <tr style=\"text-align: right;\">\n",
       "      <th></th>\n",
       "      <th>Tipo</th>\n",
       "      <th>Indice_tipo</th>\n",
       "      <th>fecha_valoracion</th>\n",
       "      <th>nemotecnico</th>\n",
       "      <th>fecha_emision</th>\n",
       "      <th>fecha_vencimiento</th>\n",
       "      <th>cupon</th>\n",
       "      <th>tir</th>\n",
       "      <th>frecuencia_pago</th>\n",
       "      <th>Indicador_indexado</th>\n",
       "      <th>conteo_dias</th>\n",
       "      <th>Indice_c</th>\n",
       "      <th>fecha_indice</th>\n",
       "      <th>valor</th>\n",
       "    </tr>\n",
       "  </thead>\n",
       "  <tbody>\n",
       "    <tr>\n",
       "      <th>0</th>\n",
       "      <td>T1</td>\n",
       "      <td>1</td>\n",
       "      <td>2022-09-18</td>\n",
       "      <td>CDTOCSS6V</td>\n",
       "      <td>2012-04-12</td>\n",
       "      <td>2023-04-12</td>\n",
       "      <td>6.0</td>\n",
       "      <td>4.021916</td>\n",
       "      <td>6</td>\n",
       "      <td>No</td>\n",
       "      <td>REAL/365</td>\n",
       "      <td>No</td>\n",
       "      <td>2022-09-18</td>\n",
       "      <td>0.0</td>\n",
       "    </tr>\n",
       "    <tr>\n",
       "      <th>1</th>\n",
       "      <td>T1</td>\n",
       "      <td>2</td>\n",
       "      <td>2022-09-18</td>\n",
       "      <td>CDTGEDS6V</td>\n",
       "      <td>2012-08-26</td>\n",
       "      <td>2023-08-26</td>\n",
       "      <td>6.0</td>\n",
       "      <td>4.760056</td>\n",
       "      <td>6</td>\n",
       "      <td>No</td>\n",
       "      <td>REAL/365</td>\n",
       "      <td>No</td>\n",
       "      <td>2022-09-18</td>\n",
       "      <td>0.0</td>\n",
       "    </tr>\n",
       "    <tr>\n",
       "      <th>2</th>\n",
       "      <td>T1</td>\n",
       "      <td>3</td>\n",
       "      <td>2022-09-18</td>\n",
       "      <td>CDTDXAS6V</td>\n",
       "      <td>2012-05-15</td>\n",
       "      <td>2024-05-15</td>\n",
       "      <td>6.0</td>\n",
       "      <td>5.905344</td>\n",
       "      <td>6</td>\n",
       "      <td>No</td>\n",
       "      <td>REAL/365</td>\n",
       "      <td>No</td>\n",
       "      <td>2022-09-18</td>\n",
       "      <td>0.0</td>\n",
       "    </tr>\n",
       "    <tr>\n",
       "      <th>3</th>\n",
       "      <td>T1</td>\n",
       "      <td>4</td>\n",
       "      <td>2022-09-18</td>\n",
       "      <td>CDTVFTS6V</td>\n",
       "      <td>2012-07-24</td>\n",
       "      <td>2024-07-24</td>\n",
       "      <td>7.0</td>\n",
       "      <td>6.157886</td>\n",
       "      <td>6</td>\n",
       "      <td>No</td>\n",
       "      <td>REAL/365</td>\n",
       "      <td>No</td>\n",
       "      <td>2022-09-18</td>\n",
       "      <td>0.0</td>\n",
       "    </tr>\n",
       "    <tr>\n",
       "      <th>4</th>\n",
       "      <td>T1</td>\n",
       "      <td>5</td>\n",
       "      <td>2022-09-18</td>\n",
       "      <td>CDTAOFS6V</td>\n",
       "      <td>2014-12-20</td>\n",
       "      <td>2024-12-20</td>\n",
       "      <td>5.0</td>\n",
       "      <td>6.634711</td>\n",
       "      <td>6</td>\n",
       "      <td>No</td>\n",
       "      <td>REAL/365</td>\n",
       "      <td>No</td>\n",
       "      <td>2022-09-18</td>\n",
       "      <td>0.0</td>\n",
       "    </tr>\n",
       "    <tr>\n",
       "      <th>...</th>\n",
       "      <td>...</td>\n",
       "      <td>...</td>\n",
       "      <td>...</td>\n",
       "      <td>...</td>\n",
       "      <td>...</td>\n",
       "      <td>...</td>\n",
       "      <td>...</td>\n",
       "      <td>...</td>\n",
       "      <td>...</td>\n",
       "      <td>...</td>\n",
       "      <td>...</td>\n",
       "      <td>...</td>\n",
       "      <td>...</td>\n",
       "      <td>...</td>\n",
       "    </tr>\n",
       "    <tr>\n",
       "      <th>495</th>\n",
       "      <td>T5</td>\n",
       "      <td>96</td>\n",
       "      <td>2022-09-18</td>\n",
       "      <td>TUVTZT360</td>\n",
       "      <td>2021-02-13</td>\n",
       "      <td>2050-02-13</td>\n",
       "      <td>3.0</td>\n",
       "      <td>9.828134</td>\n",
       "      <td>12</td>\n",
       "      <td>No</td>\n",
       "      <td>REAL/360</td>\n",
       "      <td>No</td>\n",
       "      <td>2022-09-18</td>\n",
       "      <td>0.0</td>\n",
       "    </tr>\n",
       "    <tr>\n",
       "      <th>496</th>\n",
       "      <td>T5</td>\n",
       "      <td>97</td>\n",
       "      <td>2022-09-18</td>\n",
       "      <td>TUVTYO360</td>\n",
       "      <td>2017-09-04</td>\n",
       "      <td>2050-09-04</td>\n",
       "      <td>3.0</td>\n",
       "      <td>9.843179</td>\n",
       "      <td>12</td>\n",
       "      <td>No</td>\n",
       "      <td>REAL/360</td>\n",
       "      <td>No</td>\n",
       "      <td>2022-09-18</td>\n",
       "      <td>0.0</td>\n",
       "    </tr>\n",
       "    <tr>\n",
       "      <th>497</th>\n",
       "      <td>T5</td>\n",
       "      <td>98</td>\n",
       "      <td>2022-09-18</td>\n",
       "      <td>TUVTXV360</td>\n",
       "      <td>2015-06-16</td>\n",
       "      <td>2050-06-16</td>\n",
       "      <td>5.0</td>\n",
       "      <td>9.837320</td>\n",
       "      <td>12</td>\n",
       "      <td>No</td>\n",
       "      <td>REAL/360</td>\n",
       "      <td>No</td>\n",
       "      <td>2022-09-18</td>\n",
       "      <td>0.0</td>\n",
       "    </tr>\n",
       "    <tr>\n",
       "      <th>498</th>\n",
       "      <td>T5</td>\n",
       "      <td>99</td>\n",
       "      <td>2022-09-18</td>\n",
       "      <td>TUVTHB360</td>\n",
       "      <td>2020-11-19</td>\n",
       "      <td>2050-11-19</td>\n",
       "      <td>5.0</td>\n",
       "      <td>9.848664</td>\n",
       "      <td>12</td>\n",
       "      <td>No</td>\n",
       "      <td>REAL/360</td>\n",
       "      <td>No</td>\n",
       "      <td>2022-09-18</td>\n",
       "      <td>0.0</td>\n",
       "    </tr>\n",
       "    <tr>\n",
       "      <th>499</th>\n",
       "      <td>T5</td>\n",
       "      <td>100</td>\n",
       "      <td>2022-09-18</td>\n",
       "      <td>TUVTPX360</td>\n",
       "      <td>2012-12-10</td>\n",
       "      <td>2050-12-10</td>\n",
       "      <td>3.0</td>\n",
       "      <td>9.850165</td>\n",
       "      <td>12</td>\n",
       "      <td>No</td>\n",
       "      <td>REAL/360</td>\n",
       "      <td>No</td>\n",
       "      <td>2022-09-18</td>\n",
       "      <td>0.0</td>\n",
       "    </tr>\n",
       "  </tbody>\n",
       "</table>\n",
       "<p>500 rows × 14 columns</p>\n",
       "</div>"
      ],
      "text/plain": [
       "    Tipo  Indice_tipo fecha_valoracion nemotecnico fecha_emision  \\\n",
       "0     T1            1       2022-09-18   CDTOCSS6V    2012-04-12   \n",
       "1     T1            2       2022-09-18   CDTGEDS6V    2012-08-26   \n",
       "2     T1            3       2022-09-18   CDTDXAS6V    2012-05-15   \n",
       "3     T1            4       2022-09-18   CDTVFTS6V    2012-07-24   \n",
       "4     T1            5       2022-09-18   CDTAOFS6V    2014-12-20   \n",
       "..   ...          ...              ...         ...           ...   \n",
       "495   T5           96       2022-09-18   TUVTZT360    2021-02-13   \n",
       "496   T5           97       2022-09-18   TUVTYO360    2017-09-04   \n",
       "497   T5           98       2022-09-18   TUVTXV360    2015-06-16   \n",
       "498   T5           99       2022-09-18   TUVTHB360    2020-11-19   \n",
       "499   T5          100       2022-09-18   TUVTPX360    2012-12-10   \n",
       "\n",
       "    fecha_vencimiento  cupon       tir  frecuencia_pago Indicador_indexado  \\\n",
       "0          2023-04-12    6.0  4.021916                6                 No   \n",
       "1          2023-08-26    6.0  4.760056                6                 No   \n",
       "2          2024-05-15    6.0  5.905344                6                 No   \n",
       "3          2024-07-24    7.0  6.157886                6                 No   \n",
       "4          2024-12-20    5.0  6.634711                6                 No   \n",
       "..                ...    ...       ...              ...                ...   \n",
       "495        2050-02-13    3.0  9.828134               12                 No   \n",
       "496        2050-09-04    3.0  9.843179               12                 No   \n",
       "497        2050-06-16    5.0  9.837320               12                 No   \n",
       "498        2050-11-19    5.0  9.848664               12                 No   \n",
       "499        2050-12-10    3.0  9.850165               12                 No   \n",
       "\n",
       "    conteo_dias Indice_c fecha_indice  valor  \n",
       "0      REAL/365       No   2022-09-18    0.0  \n",
       "1      REAL/365       No   2022-09-18    0.0  \n",
       "2      REAL/365       No   2022-09-18    0.0  \n",
       "3      REAL/365       No   2022-09-18    0.0  \n",
       "4      REAL/365       No   2022-09-18    0.0  \n",
       "..          ...      ...          ...    ...  \n",
       "495    REAL/360       No   2022-09-18    0.0  \n",
       "496    REAL/360       No   2022-09-18    0.0  \n",
       "497    REAL/360       No   2022-09-18    0.0  \n",
       "498    REAL/360       No   2022-09-18    0.0  \n",
       "499    REAL/360       No   2022-09-18    0.0  \n",
       "\n",
       "[500 rows x 14 columns]"
      ]
     },
     "metadata": {},
     "output_type": "display_data"
    }
   ],
   "source": [
    "db_object = DB_class(host=\"localhost\",user=\"root\",password=\"root\",database=\"trabajo_1\")\n",
    "class2_db = db_object.open_db()\n",
    "mi_cursor = class2_db.cursor()\n",
    "query = (\n",
    "'SELECT '+\\\n",
    "'trabajo_2.tabla_precios.Tipo,'+\\\n",
    "'trabajo_2.tabla_precios.Indice_tipo,'+\\\n",
    "'trabajo_2.tabla_precios.fecha_valoracion,'+\\\n",
    "'trabajo_2.tabla_precios.nemotecnico,'+\\\n",
    "'trabajo_2.tabla_precios.fecha_emision,'+\\\n",
    "'trabajo_2.tabla_precios.fecha_vencimiento,'+\\\n",
    "'trabajo_2.tabla_precios.cupon,'+\\\n",
    "'trabajo_2.tabla_precios.tir,'+\\\n",
    "'trabajo_2.tabla_precios.frecuencia_pago,'+\\\n",
    "'trabajo_2.tabla_precios.Indicador_indexado,'+\\\n",
    "'trabajo_2.tabla_precios.conteo_dias,'+\\\n",
    "'trabajo_2.tabla_indices.Indice_c,'+\\\n",
    "'trabajo_2.tabla_indices.fecha_indice,'+\\\n",
    "'trabajo_2.tabla_indices.valor '+\\\n",
    "'FROM trabajo_2.tabla_precios '+\\\n",
    "'left join trabajo_2.tabla_indices '+\\\n",
    "'on '+\\\n",
    "'concat(trabajo_2.tabla_indices.Indice_c,trabajo_2.tabla_indices.fecha_indice) ='+\\\n",
    "'concat(trabajo_2.tabla_precios.Indicador_indexado,trabajo_2.tabla_precios.fecha_valoracion) '+\\\n",
    "'where '+\\\n",
    "'trabajo_2.tabla_precios.Tipo in (\\'T1\\',\\'T2\\',\\'T3\\',\\'T4\\',\\'T5\\') '+\\\n",
    "'order by trabajo_2.tabla_precios.Tipo, trabajo_2.tabla_precios.Indice_tipo'\n",
    ")\n",
    "tes_faciales_500 = pd.read_sql(query, con=class2_db)\n",
    "display(tes_faciales_500)"
   ]
  },
  {
   "cell_type": "markdown",
   "metadata": {},
   "source": [
    "## Calculo precio sucio para todos los 500 titulos"
   ]
  },
  {
   "cell_type": "code",
   "execution_count": 416,
   "metadata": {},
   "outputs": [],
   "source": [
    "val_date= tes_faciales_500.fecha_valoracion.drop_duplicates()[0]\n",
    "ini_date = tes_faciales_500.fecha_emision\n",
    "fin_date = tes_faciales_500.fecha_vencimiento\n",
    "cpn =  tes_faciales_500.cupon\n",
    "discount_rates = tes_faciales_500.tir.copy()\n",
    "frec_pag=tes_faciales_500.frecuencia_pago\n",
    "indicador=tes_faciales_500.valor\n",
    "conteo_dias=tes_faciales_500.conteo_dias\n",
    "discount_rates_ind=((1+discount_rates/100)*(1+indicador/100)-1)*100\n",
    "\n",
    "\n",
    "discount_rates_consol=tes_faciales_500.tir.copy()\n",
    "for i in range(len(discount_rates)):\n",
    "    if indicador[i]==0:\n",
    "        discount_rates_consol[i]=discount_rates[i]\n",
    "    else:\n",
    "        discount_rates_consol[i]=discount_rates_ind[i]\n"
   ]
  },
  {
   "cell_type": "code",
   "execution_count": 301,
   "metadata": {},
   "outputs": [],
   "source": [
    "### titulos\n",
    "#mul_inst = 1 #intentar 1, 100 y 10000\n",
    "#parametros = dict({\n",
    "#        'val_date':val_date, \n",
    "#        'ini_date':np.tile(ini_date,mul_inst), \n",
    "#        'fin_date':np.tile(fin_date,mul_inst), \n",
    "#        'coupon':np.tile(cpn,mul_inst),\n",
    "#        'discount_rates':np.tile(discount_rates_consol,mul_inst),\n",
    "#        'conteo_dias':np.tile(conteo_dias,mul_inst),\n",
    "#        'frec_pag':np.tile(frec_pag,mul_inst),\n",
    "#        'indicador':np.tile(indicador,mul_inst),\n",
    "#        'limits':np.array([-20,20])\n",
    "#        })"
   ]
  },
  {
   "cell_type": "code",
   "execution_count": 417,
   "metadata": {},
   "outputs": [],
   "source": [
    "parametros_500 = dict({\n",
    "        'val_date':val_date, \n",
    "        'ini_date':ini_date, \n",
    "        'fin_date':fin_date, \n",
    "        'coupon':cpn,\n",
    "        'discount_rates':discount_rates_consol,\n",
    "        'conteo_dias':conteo_dias,\n",
    "        'frec_pag':frec_pag,\n",
    "        'indicador':indicador,\n",
    "        'limits':np.array([-20,20])\n",
    "        })"
   ]
  },
  {
   "cell_type": "code",
   "execution_count": 306,
   "metadata": {},
   "outputs": [
    {
     "data": {
      "text/plain": [
       "<module 'Clase_6.Funciones' from 'd:\\\\cursos\\\\Maestria finanzas\\\\S3_PySql rent fij\\\\Trabajo02\\\\Clase_6\\\\Funciones.py'>"
      ]
     },
     "execution_count": 306,
     "metadata": {},
     "output_type": "execute_result"
    }
   ],
   "source": [
    "importlib.reload(funciones)"
   ]
  },
  {
   "cell_type": "code",
   "execution_count": 418,
   "metadata": {},
   "outputs": [],
   "source": [
    "n_inst = len(parametros_500['coupon'])\n",
    "## Funcion de matriz de cupones\n",
    "coupon_dict = funciones.coupon_mGen(parametros_500)\n",
    "parametros_500['cpn_dict'] = coupon_dict\n",
    "\n",
    "parametros_500['delta_t'] = coupon_dict['days_matrix']\n",
    "parametros_500['discount_factors'] = funciones.discount_factor_m(parametros_500)\n",
    "\n",
    "prices = funciones.dirty_price_m(parametros_500)\n",
    "parametros_500['mkt_prices'] = prices\n"
   ]
  },
  {
   "cell_type": "code",
   "execution_count": 420,
   "metadata": {},
   "outputs": [],
   "source": [
    "db_object = DB_class(host=\"localhost\",user=\"root\",password=\"root\",database=\"trabajo_1\")\n",
    "class6_db = db_object.open_db()\n",
    "mi_cursor = class6_db.cursor()\n",
    "\n",
    "nemos=np.array(tes_faciales_500.nemotecnico)\n",
    "for i in range(nemos.shape[0]):\n",
    "    insert_1 = (\"UPDATE trabajo_2.tabla_precios SET\"\n",
    "            \" precio_sucio = %s \"\n",
    "            \"WHERE nemotecnico = %s\"\n",
    "            )\n",
    "\n",
    "    valores = (parametros_500['mkt_prices'] [i], nemos[i])\n",
    "    mi_cursor = class6_db.cursor()\n",
    "    mi_cursor.execute(insert_1, valores)\n",
    "\n",
    "    class6_db.commit()"
   ]
  },
  {
   "cell_type": "code",
   "execution_count": 12,
   "metadata": {},
   "outputs": [],
   "source": [
    "os.getcwd()"
   ]
  },
  {
   "cell_type": "code",
   "execution_count": 14,
   "metadata": {},
   "outputs": [],
   "source": [
    "Df_resultadoPrice=tes_faciales_500\n",
    "Df_resultadoPrice['priceC']=prices\n",
    "Df_resultadoPrice.to_excel (r'd:/cursos/Maestria finanzas/S3_PySql rent fij/Trabajo02/calculoprecio.xlsx', index = False, header=True)\n"
   ]
  },
  {
   "cell_type": "markdown",
   "metadata": {},
   "source": [
    "## 5 Optimizacion y curvas para cada tipo de titulo"
   ]
  },
  {
   "cell_type": "markdown",
   "metadata": {},
   "source": [
    "### Curva para titulos T1"
   ]
  },
  {
   "cell_type": "code",
   "execution_count": 460,
   "metadata": {},
   "outputs": [
    {
     "name": "stderr",
     "output_type": "stream",
     "text": [
      "C:\\Users\\Edwin\\AppData\\Roaming\\Python\\Python39\\site-packages\\pandas\\io\\sql.py:762: UserWarning: pandas only support SQLAlchemy connectable(engine/connection) ordatabase string URI or sqlite3 DBAPI2 connectionother DBAPI2 objects are not tested, please consider using SQLAlchemy\n",
      "  warnings.warn(\n"
     ]
    }
   ],
   "source": [
    "db_object = DB_class(host=\"localhost\",user=\"root\",password=\"root\",database=\"trabajo_1\")\n",
    "class6_db = db_object.open_db()\n",
    "mi_cursor = class6_db.cursor()\n",
    "query = (\n",
    "'SELECT '+\\\n",
    "'trabajo_2.tabla_precios.Tipo,'+\\\n",
    "'trabajo_2.tabla_precios.Indice_tipo,'+\\\n",
    "'trabajo_2.tabla_precios.fecha_valoracion,'+\\\n",
    "'trabajo_2.tabla_precios.nemotecnico,'+\\\n",
    "'trabajo_2.tabla_precios.fecha_emision,'+\\\n",
    "'trabajo_2.tabla_precios.fecha_vencimiento,'+\\\n",
    "'trabajo_2.tabla_precios.cupon,'+\\\n",
    "'trabajo_2.tabla_precios.tir,'+\\\n",
    "'trabajo_2.tabla_precios.frecuencia_pago,'+\\\n",
    "'trabajo_2.tabla_precios.Indicador_indexado,'+\\\n",
    "'trabajo_2.tabla_precios.conteo_dias,'+\\\n",
    "'trabajo_2.tabla_indices.Indice_c,'+\\\n",
    "'trabajo_2.tabla_indices.fecha_indice,'+\\\n",
    "'trabajo_2.tabla_indices.valor '+\\\n",
    "'FROM trabajo_2.tabla_precios '+\\\n",
    "'left join trabajo_2.tabla_indices '+\\\n",
    "'on '+\\\n",
    "'concat(trabajo_2.tabla_indices.Indice_c,trabajo_2.tabla_indices.fecha_indice) ='+\\\n",
    "'concat(trabajo_2.tabla_precios.Indicador_indexado,trabajo_2.tabla_precios.fecha_valoracion) '+\\\n",
    "'where '+\\\n",
    "'trabajo_2.tabla_precios.Tipo in (\\'T1\\') '+\\\n",
    "'order by trabajo_2.tabla_precios.Tipo, trabajo_2.tabla_precios.Indice_tipo'\n",
    ")\n",
    "tes_faciales = pd.read_sql(query, con=class6_db)"
   ]
  },
  {
   "cell_type": "code",
   "execution_count": 461,
   "metadata": {},
   "outputs": [],
   "source": [
    "val_date= tes_faciales.fecha_valoracion.drop_duplicates()[0]\n",
    "ini_date = tes_faciales.fecha_emision\n",
    "fin_date = tes_faciales.fecha_vencimiento\n",
    "cpn =  tes_faciales.cupon\n",
    "discount_rates = tes_faciales.tir\n",
    "frec_pag=tes_faciales.frecuencia_pago"
   ]
  },
  {
   "cell_type": "code",
   "execution_count": 462,
   "metadata": {},
   "outputs": [],
   "source": [
    "parametros = dict({\n",
    "        'val_date':val_date, \n",
    "        'ini_date':ini_date, \n",
    "        'fin_date':fin_date,\n",
    "        'frec_pag':frec_pag, \n",
    "        'coupon':cpn,\n",
    "        'discount_rates': discount_rates,\n",
    "        'limits':np.array([0,200])\n",
    "        })\n"
   ]
  },
  {
   "cell_type": "code",
   "execution_count": 463,
   "metadata": {},
   "outputs": [],
   "source": [
    "## Funcion de matriz de cupones\n",
    "coupon_dict = funciones.coupon_m365(parametros)\n",
    "parametros['cpn_dict'] = coupon_dict\n",
    "parametros['delta_t'] = coupon_dict['days_matrix']/365\n",
    "prices_01= funciones.dirty_price_m(parametros)\n",
    "\n",
    "parametros['mkt_prices'] = funciones.dirty_price_m(parametros)\n",
    "\n",
    "##### Calcular los betas\n",
    "venc = coupon_dict['days_matrix']/365"
   ]
  },
  {
   "cell_type": "code",
   "execution_count": 464,
   "metadata": {},
   "outputs": [
    {
     "name": "stderr",
     "output_type": "stream",
     "text": [
      "d:\\cursos\\Maestria finanzas\\S3_PySql rent fij\\Trabajo02\\Clase_6\\Funciones.py:584: RuntimeWarning: divide by zero encountered in true_divide\n",
      "  y = beta_0+params[1]*((1-np.exp(-ven/params[3]))/(ven/params[3]))+\\\n",
      "d:\\cursos\\Maestria finanzas\\S3_PySql rent fij\\Trabajo02\\Clase_6\\Funciones.py:585: RuntimeWarning: divide by zero encountered in true_divide\n",
      "  params[2]*((1-np.exp(-ven/params[3]))/(ven/params[3])- \\\n",
      "d:\\cursos\\Maestria finanzas\\S3_PySql rent fij\\Trabajo02\\Clase_6\\Funciones.py:586: RuntimeWarning: divide by zero encountered in true_divide\n",
      "  np.exp(-ven/params[3]))\n"
     ]
    },
    {
     "name": "stdout",
     "output_type": "stream",
     "text": [
      "El algortimo de optimizacion por fuerza bruta en Precio tarda 74.89 segundos\n"
     ]
    },
    {
     "name": "stderr",
     "output_type": "stream",
     "text": [
      "d:\\cursos\\Maestria finanzas\\S3_PySql rent fij\\Trabajo02\\Clase_6\\Funciones.py:621: RuntimeWarning: overflow encountered in exp\n",
      "  disc_factors = np.exp(np.multiply(-model_curve.T, venc)).T\n",
      "d:\\cursos\\Maestria finanzas\\S3_PySql rent fij\\Trabajo02\\Clase_6\\Funciones.py:623: RuntimeWarning: invalid value encountered in matmul\n",
      "  dirty_prices = np.matmul(cpn_m.T,disc_factors)\n"
     ]
    }
   ],
   "source": [
    "################ Optimizacion por precios\n",
    "parametros['limits'] = np.array([0,200])\n",
    "ini = time.time()\n",
    "optimiz_result = clase_6Fun.betas_optimization_bound_prices(parametros)\n",
    "fin = time.time()\n",
    "betas_opt = optimiz_result.copy()\n",
    "curva = funciones.NelsonSiegel_m(betas_opt, venc)\n",
    "print(f'El algortimo de optimizacion por fuerza bruta en Precio tarda {(fin-ini):.2f} segundos')\n",
    "#se demora menos de un min"
   ]
  },
  {
   "cell_type": "code",
   "execution_count": 465,
   "metadata": {},
   "outputs": [
    {
     "data": {
      "text/plain": [
       "45.67289064076184"
      ]
     },
     "execution_count": 465,
     "metadata": {},
     "output_type": "execute_result"
    }
   ],
   "source": [
    "#Evaluar los precios, las TIRs y la funcion objetivo \n",
    "prices_opt = funciones.dirty_price_m_ns(betas_opt,parametros)\n",
    "tirs_opt = funciones.find_ytm_loop(parametros,prices_opt)\n",
    "funciones.find_ytm_loop(parametros,prices_opt)\n",
    "clase_6Fun.objetive_function_prices(betas_opt,parametros)\n",
    "funciones.objetive_function(betas_opt,parametros)"
   ]
  },
  {
   "cell_type": "code",
   "execution_count": 466,
   "metadata": {},
   "outputs": [
    {
     "data": {
      "image/png": "[encoded data removed]",
      "text/plain": [
       "<Figure size 432x288 with 1 Axes>"
      ]
     },
     "metadata": {
      "needs_background": "light"
     },
     "output_type": "display_data"
    }
   ],
   "source": [
    "###Grafica\n",
    "y_term = [(fin_date[k]-val_date).days/365 for k in range(len(fin_date))]\n",
    "plt.plot(venc.T, curva*100,'r')\n",
    "plt.plot(np.array(y_term), np.array(discount_rates),'bo')\n",
    "plt.grid(True)\n",
    "plt.ylabel('Tasa %')\n",
    "plt.xlabel('Plazo (años)')\n",
    "plt.suptitle('Curva Cero Cupón por Precio- 100 Pseudo TES')\n",
    "#plt.savefig(cwd+'\\\\Clase_6\\\\N&S-Price_Opt.png')\n",
    "plt.show()"
   ]
  },
  {
   "cell_type": "code",
   "execution_count": 408,
   "metadata": {},
   "outputs": [],
   "source": [
    "db_object = DB_class(host=\"localhost\",user=\"root\",password=\"root\",database=\"trabajo_1\")\n",
    "class6_db = db_object.open_db()\n",
    "mi_cursor = class6_db.cursor()\n",
    "\n",
    "Tipo_titulo='T1'\n",
    "insert_1 = (\"UPDATE trabajo_2.curvas SET\"\n",
    "        \" Tipo = %s,\"\n",
    "        \"b0 = %s,\"\n",
    "        \"b1 = %s,\"\n",
    "        \"b2 = %s,\"\n",
    "        \"b3 = %s\"\n",
    "        \" WHERE Tipo = %s\"\n",
    "        )\n",
    "\n",
    "valores = (Tipo_titulo, betas_opt[0],betas_opt[1],betas_opt[2], betas_opt[3], Tipo_titulo)\n",
    "mi_cursor = class6_db.cursor()\n",
    "mi_cursor.execute(insert_1, valores)\n",
    "\n",
    "class6_db.commit()"
   ]
  },
  {
   "cell_type": "code",
   "execution_count": 470,
   "metadata": {},
   "outputs": [],
   "source": [
    "T1_Plazo=np.array(venc.T)\n",
    "T1_Tasas=np.array(curva*100)"
   ]
  },
  {
   "cell_type": "markdown",
   "metadata": {},
   "source": [
    "### Curva para titulos T2"
   ]
  },
  {
   "cell_type": "code",
   "execution_count": 471,
   "metadata": {},
   "outputs": [
    {
     "name": "stderr",
     "output_type": "stream",
     "text": [
      "C:\\Users\\Edwin\\AppData\\Roaming\\Python\\Python39\\site-packages\\pandas\\io\\sql.py:762: UserWarning: pandas only support SQLAlchemy connectable(engine/connection) ordatabase string URI or sqlite3 DBAPI2 connectionother DBAPI2 objects are not tested, please consider using SQLAlchemy\n",
      "  warnings.warn(\n"
     ]
    }
   ],
   "source": [
    "db_object = DB_class(host=\"localhost\",user=\"root\",password=\"root\",database=\"trabajo_1\")\n",
    "class6_db = db_object.open_db()\n",
    "mi_cursor = class6_db.cursor()\n",
    "query = (\n",
    "'SELECT '+\\\n",
    "'trabajo_2.tabla_precios.Tipo,'+\\\n",
    "'trabajo_2.tabla_precios.Indice_tipo,'+\\\n",
    "'trabajo_2.tabla_precios.fecha_valoracion,'+\\\n",
    "'trabajo_2.tabla_precios.nemotecnico,'+\\\n",
    "'trabajo_2.tabla_precios.fecha_emision,'+\\\n",
    "'trabajo_2.tabla_precios.fecha_vencimiento,'+\\\n",
    "'trabajo_2.tabla_precios.cupon,'+\\\n",
    "'trabajo_2.tabla_precios.tir,'+\\\n",
    "'trabajo_2.tabla_precios.frecuencia_pago,'+\\\n",
    "'trabajo_2.tabla_precios.Indicador_indexado,'+\\\n",
    "'trabajo_2.tabla_precios.conteo_dias,'+\\\n",
    "'trabajo_2.tabla_indices.Indice_c,'+\\\n",
    "'trabajo_2.tabla_indices.fecha_indice,'+\\\n",
    "'trabajo_2.tabla_indices.valor '+\\\n",
    "'FROM trabajo_2.tabla_precios '+\\\n",
    "'left join trabajo_2.tabla_indices '+\\\n",
    "'on '+\\\n",
    "'concat(trabajo_2.tabla_indices.Indice_c,trabajo_2.tabla_indices.fecha_indice) ='+\\\n",
    "'concat(trabajo_2.tabla_precios.Indicador_indexado,trabajo_2.tabla_precios.fecha_valoracion) '+\\\n",
    "'where '+\\\n",
    "'trabajo_2.tabla_precios.Tipo in (\\'T2\\') '+\\\n",
    "'order by trabajo_2.tabla_precios.Tipo, trabajo_2.tabla_precios.Indice_tipo'\n",
    ")\n",
    "tes_faciales = pd.read_sql(query, con=class6_db)"
   ]
  },
  {
   "cell_type": "code",
   "execution_count": 472,
   "metadata": {},
   "outputs": [],
   "source": [
    "val_date= tes_faciales.fecha_valoracion.drop_duplicates()[0]\n",
    "ini_date = tes_faciales.fecha_emision\n",
    "fin_date = tes_faciales.fecha_vencimiento\n",
    "cpn =  tes_faciales.cupon\n",
    "discount_rates = tes_faciales.tir.copy()\n",
    "frec_pag=tes_faciales.frecuencia_pago\n",
    "indicador=tes_faciales.valor\n",
    "conteo_dias=tes_faciales.conteo_dias\n",
    "discount_rates_ind=((1+discount_rates/100)*(1+indicador/100)-1)*100\n",
    "\n",
    "discount_rates_consol=tes_faciales.tir.copy()\n",
    "for i in range(len(discount_rates)):\n",
    "    if indicador[i]==0:\n",
    "        discount_rates_consol[i]=discount_rates[i]\n",
    "    else:\n",
    "        discount_rates_consol[i]=discount_rates_ind[i]"
   ]
  },
  {
   "cell_type": "code",
   "execution_count": 473,
   "metadata": {},
   "outputs": [],
   "source": [
    "parametros = dict({\n",
    "        'val_date':val_date, \n",
    "        'ini_date':ini_date, \n",
    "        'fin_date':fin_date,\n",
    "        'coupon':cpn,\n",
    "        'discount_rates': discount_rates,\n",
    "        'conteo_dias': conteo_dias,\n",
    "        'frec_pag':frec_pag, \n",
    "        'indicador':indicador,\n",
    "        'limits':np.array([0,200])\n",
    "        })\n"
   ]
  },
  {
   "cell_type": "code",
   "execution_count": 474,
   "metadata": {},
   "outputs": [],
   "source": [
    "## Funcion de matriz de cupones\n",
    "coupon_dict = funciones.coupon_m365ind(parametros)\n",
    "parametros['cpn_dict'] = coupon_dict\n",
    "parametros['delta_t'] = coupon_dict['days_matrix']/365\n",
    "prices_01= funciones.dirty_price_m(parametros)\n",
    "\n",
    "parametros['mkt_prices'] = funciones.dirty_price_m(parametros)\n",
    "\n",
    "##### Calcular los betas\n",
    "venc = coupon_dict['days_matrix']/365"
   ]
  },
  {
   "cell_type": "code",
   "execution_count": 475,
   "metadata": {},
   "outputs": [
    {
     "name": "stderr",
     "output_type": "stream",
     "text": [
      "d:\\cursos\\Maestria finanzas\\S3_PySql rent fij\\Trabajo02\\Clase_6\\Funciones.py:584: RuntimeWarning: divide by zero encountered in true_divide\n",
      "  y = beta_0+params[1]*((1-np.exp(-ven/params[3]))/(ven/params[3]))+\\\n",
      "d:\\cursos\\Maestria finanzas\\S3_PySql rent fij\\Trabajo02\\Clase_6\\Funciones.py:585: RuntimeWarning: divide by zero encountered in true_divide\n",
      "  params[2]*((1-np.exp(-ven/params[3]))/(ven/params[3])- \\\n",
      "d:\\cursos\\Maestria finanzas\\S3_PySql rent fij\\Trabajo02\\Clase_6\\Funciones.py:586: RuntimeWarning: divide by zero encountered in true_divide\n",
      "  np.exp(-ven/params[3]))\n"
     ]
    },
    {
     "name": "stdout",
     "output_type": "stream",
     "text": [
      "El algortimo de optimizacion por fuerza bruta en Precio tarda 42.32 segundos\n"
     ]
    },
    {
     "name": "stderr",
     "output_type": "stream",
     "text": [
      "d:\\cursos\\Maestria finanzas\\S3_PySql rent fij\\Trabajo02\\Clase_6\\Funciones.py:621: RuntimeWarning: overflow encountered in exp\n",
      "  disc_factors = np.exp(np.multiply(-model_curve.T, venc)).T\n"
     ]
    }
   ],
   "source": [
    "################ Optimizacion por precios\n",
    "parametros['limits'] = np.array([0,200])\n",
    "ini = time.time()\n",
    "optimiz_result = clase_6Fun.betas_optimization_bound_prices(parametros)\n",
    "fin = time.time()\n",
    "betas_opt = optimiz_result.copy()\n",
    "curva = funciones.NelsonSiegel_m(betas_opt, venc)\n",
    "print(f'El algortimo de optimizacion por fuerza bruta en Precio tarda {(fin-ini):.2f} segundos')\n",
    "#se demora menos de un min"
   ]
  },
  {
   "cell_type": "code",
   "execution_count": 476,
   "metadata": {},
   "outputs": [
    {
     "name": "stderr",
     "output_type": "stream",
     "text": [
      "d:\\cursos\\Maestria finanzas\\S3_PySql rent fij\\Trabajo02\\Clase_6\\Funciones.py:439: RuntimeWarning: invalid value encountered in power\n",
      "  disc = (1/(1+d_r/100)**delta_t).T\n"
     ]
    },
    {
     "data": {
      "text/plain": [
       "9372.115445664724"
      ]
     },
     "execution_count": 476,
     "metadata": {},
     "output_type": "execute_result"
    }
   ],
   "source": [
    "#Evaluar los precios, las TIRs y la funcion objetivo \n",
    "prices_opt = funciones.dirty_price_m_ns(betas_opt,parametros)\n",
    "tirs_opt = funciones.find_ytm_loop(parametros,prices_opt)\n",
    "funciones.find_ytm_loop(parametros,prices_opt)\n",
    "clase_6Fun.objetive_function_prices(betas_opt,parametros)\n",
    "funciones.objetive_function(betas_opt,parametros)"
   ]
  },
  {
   "cell_type": "code",
   "execution_count": 477,
   "metadata": {},
   "outputs": [
    {
     "data": {
      "image/png": "[encoded data removed]",
      "text/plain": [
       "<Figure size 432x288 with 1 Axes>"
      ]
     },
     "metadata": {
      "needs_background": "light"
     },
     "output_type": "display_data"
    }
   ],
   "source": [
    "###Grafica\n",
    "y_term = [(fin_date[k]-val_date).days/365 for k in range(len(fin_date))]\n",
    "plt.plot(venc.T, curva*100,'r')\n",
    "plt.plot(np.array(y_term), np.array(discount_rates),'bo')\n",
    "plt.grid(True)\n",
    "plt.ylabel('Tasa %')\n",
    "plt.xlabel('Plazo (años)')\n",
    "plt.suptitle('Curva Cero Cupón por Precio- 100 Pseudo TES')\n",
    "#plt.savefig(cwd+'\\\\Clase_6\\\\N&S-Price_Opt.png')\n",
    "plt.show()"
   ]
  },
  {
   "cell_type": "code",
   "execution_count": 435,
   "metadata": {},
   "outputs": [],
   "source": [
    "db_object = DB_class(host=\"localhost\",user=\"root\",password=\"root\",database=\"trabajo_1\")\n",
    "class6_db = db_object.open_db()\n",
    "mi_cursor = class6_db.cursor()\n",
    "\n",
    "Tipo_titulo='T2'\n",
    "insert_1 = (\"UPDATE trabajo_2.curvas SET\"\n",
    "        \" Tipo = %s,\"\n",
    "        \"b0 = %s,\"\n",
    "        \"b1 = %s,\"\n",
    "        \"b2 = %s,\"\n",
    "        \"b3 = %s\"\n",
    "        \" WHERE Tipo = %s\"\n",
    "        )\n",
    "\n",
    "valores = (Tipo_titulo, betas_opt[0],betas_opt[1],betas_opt[2], betas_opt[3], Tipo_titulo)\n",
    "mi_cursor = class6_db.cursor()\n",
    "mi_cursor.execute(insert_1, valores)\n",
    "\n",
    "class6_db.commit()"
   ]
  },
  {
   "cell_type": "code",
   "execution_count": 478,
   "metadata": {},
   "outputs": [],
   "source": [
    "T2_Plazo=np.array(venc.T)\n",
    "T2_Tasas=np.array(curva*100)"
   ]
  },
  {
   "cell_type": "markdown",
   "metadata": {},
   "source": [
    "### Curva para titulos T3"
   ]
  },
  {
   "cell_type": "code",
   "execution_count": 479,
   "metadata": {},
   "outputs": [
    {
     "name": "stderr",
     "output_type": "stream",
     "text": [
      "C:\\Users\\Edwin\\AppData\\Roaming\\Python\\Python39\\site-packages\\pandas\\io\\sql.py:762: UserWarning: pandas only support SQLAlchemy connectable(engine/connection) ordatabase string URI or sqlite3 DBAPI2 connectionother DBAPI2 objects are not tested, please consider using SQLAlchemy\n",
      "  warnings.warn(\n"
     ]
    }
   ],
   "source": [
    "db_object = DB_class(host=\"localhost\",user=\"root\",password=\"root\",database=\"trabajo_1\")\n",
    "class6_db = db_object.open_db()\n",
    "mi_cursor = class6_db.cursor()\n",
    "query = (\n",
    "'SELECT '+\\\n",
    "'trabajo_2.tabla_precios.Tipo,'+\\\n",
    "'trabajo_2.tabla_precios.Indice_tipo,'+\\\n",
    "'trabajo_2.tabla_precios.fecha_valoracion,'+\\\n",
    "'trabajo_2.tabla_precios.nemotecnico,'+\\\n",
    "'trabajo_2.tabla_precios.fecha_emision,'+\\\n",
    "'trabajo_2.tabla_precios.fecha_vencimiento,'+\\\n",
    "'trabajo_2.tabla_precios.cupon,'+\\\n",
    "'trabajo_2.tabla_precios.tir,'+\\\n",
    "'trabajo_2.tabla_precios.frecuencia_pago,'+\\\n",
    "'trabajo_2.tabla_precios.Indicador_indexado,'+\\\n",
    "'trabajo_2.tabla_precios.conteo_dias,'+\\\n",
    "'trabajo_2.tabla_indices.Indice_c,'+\\\n",
    "'trabajo_2.tabla_indices.fecha_indice,'+\\\n",
    "'trabajo_2.tabla_indices.valor '+\\\n",
    "'FROM trabajo_2.tabla_precios '+\\\n",
    "'left join trabajo_2.tabla_indices '+\\\n",
    "'on '+\\\n",
    "'concat(trabajo_2.tabla_indices.Indice_c,trabajo_2.tabla_indices.fecha_indice) ='+\\\n",
    "'concat(trabajo_2.tabla_precios.Indicador_indexado,trabajo_2.tabla_precios.fecha_valoracion) '+\\\n",
    "'where '+\\\n",
    "'trabajo_2.tabla_precios.Tipo in (\\'T3\\') '+\\\n",
    "'order by trabajo_2.tabla_precios.Tipo, trabajo_2.tabla_precios.Indice_tipo'\n",
    ")\n",
    "tes_faciales = pd.read_sql(query, con=class6_db)"
   ]
  },
  {
   "cell_type": "code",
   "execution_count": 480,
   "metadata": {},
   "outputs": [],
   "source": [
    "val_date= tes_faciales.fecha_valoracion.drop_duplicates()[0]\n",
    "ini_date = tes_faciales.fecha_emision\n",
    "fin_date = tes_faciales.fecha_vencimiento\n",
    "cpn =  tes_faciales.cupon\n",
    "discount_rates = tes_faciales.tir.copy()\n",
    "frec_pag=tes_faciales.frecuencia_pago\n",
    "indicador=tes_faciales.valor\n",
    "conteo_dias=tes_faciales.conteo_dias\n",
    "discount_rates_ind=((1+discount_rates/100)*(1+indicador/100)-1)*100\n",
    "\n",
    "discount_rates_consol=tes_faciales.tir.copy()\n",
    "for i in range(len(discount_rates)):\n",
    "    if indicador[i]==0:\n",
    "        discount_rates_consol[i]=discount_rates[i]\n",
    "    else:\n",
    "        discount_rates_consol[i]=discount_rates_ind[i]"
   ]
  },
  {
   "cell_type": "code",
   "execution_count": 481,
   "metadata": {},
   "outputs": [],
   "source": [
    "parametros = dict({\n",
    "        'val_date':val_date, \n",
    "        'ini_date':ini_date, \n",
    "        'fin_date':fin_date,\n",
    "        'coupon':cpn,\n",
    "        'discount_rates': discount_rates,\n",
    "        'conteo_dias': conteo_dias,\n",
    "        'frec_pag':frec_pag, \n",
    "        'indicador':indicador,\n",
    "        'limits':np.array([0,100])\n",
    "        })"
   ]
  },
  {
   "cell_type": "code",
   "execution_count": 482,
   "metadata": {},
   "outputs": [],
   "source": [
    "## Funcion de matriz de cupones\n",
    "coupon_dict = funciones.coupon_m365(parametros)\n",
    "parametros['cpn_dict'] = coupon_dict\n",
    "parametros['delta_t'] = coupon_dict['days_matrix']/365\n",
    "prices_01= funciones.dirty_price_m(parametros)\n",
    "\n",
    "parametros['mkt_prices'] = funciones.dirty_price_m(parametros)\n",
    "\n",
    "##### Calcular los betas\n",
    "venc = coupon_dict['days_matrix']/365"
   ]
  },
  {
   "cell_type": "code",
   "execution_count": 483,
   "metadata": {},
   "outputs": [
    {
     "name": "stderr",
     "output_type": "stream",
     "text": [
      "d:\\cursos\\Maestria finanzas\\S3_PySql rent fij\\Trabajo02\\Clase_6\\Funciones.py:584: RuntimeWarning: divide by zero encountered in true_divide\n",
      "  y = beta_0+params[1]*((1-np.exp(-ven/params[3]))/(ven/params[3]))+\\\n",
      "d:\\cursos\\Maestria finanzas\\S3_PySql rent fij\\Trabajo02\\Clase_6\\Funciones.py:585: RuntimeWarning: divide by zero encountered in true_divide\n",
      "  params[2]*((1-np.exp(-ven/params[3]))/(ven/params[3])- \\\n",
      "d:\\cursos\\Maestria finanzas\\S3_PySql rent fij\\Trabajo02\\Clase_6\\Funciones.py:586: RuntimeWarning: divide by zero encountered in true_divide\n",
      "  np.exp(-ven/params[3]))\n"
     ]
    },
    {
     "name": "stdout",
     "output_type": "stream",
     "text": [
      "El algortimo de optimizacion por fuerza bruta en Precio tarda 29.58 segundos\n"
     ]
    }
   ],
   "source": [
    "################ Optimizacion por precios\n",
    "parametros['limits'] = np.array([0,100])\n",
    "ini = time.time()\n",
    "optimiz_result = clase_6Fun.betas_optimization_bound_prices(parametros)\n",
    "fin = time.time()\n",
    "betas_opt = optimiz_result.copy()\n",
    "curva = funciones.NelsonSiegel_m(betas_opt, venc)\n",
    "print(f'El algortimo de optimizacion por fuerza bruta en Precio tarda {(fin-ini):.2f} segundos')\n",
    "#se demora menos de un min"
   ]
  },
  {
   "cell_type": "code",
   "execution_count": 484,
   "metadata": {},
   "outputs": [
    {
     "name": "stderr",
     "output_type": "stream",
     "text": [
      "d:\\cursos\\Maestria finanzas\\S3_PySql rent fij\\Trabajo02\\Clase_6\\Funciones.py:439: RuntimeWarning: invalid value encountered in power\n",
      "  disc = (1/(1+d_r/100)**delta_t).T\n"
     ]
    },
    {
     "data": {
      "text/plain": [
       "10291.958255162534"
      ]
     },
     "execution_count": 484,
     "metadata": {},
     "output_type": "execute_result"
    }
   ],
   "source": [
    "#Evaluar los precios, las TIRs y la funcion objetivo \n",
    "prices_opt = funciones.dirty_price_m_ns(betas_opt,parametros)\n",
    "tirs_opt = funciones.find_ytm_loop(parametros,prices_opt)\n",
    "funciones.find_ytm_loop(parametros,prices_opt)\n",
    "clase_6Fun.objetive_function_prices(betas_opt,parametros)\n",
    "funciones.objetive_function(betas_opt,parametros)"
   ]
  },
  {
   "cell_type": "code",
   "execution_count": 485,
   "metadata": {},
   "outputs": [
    {
     "data": {
      "image/png": "[encoded data removed]",
      "text/plain": [
       "<Figure size 432x288 with 1 Axes>"
      ]
     },
     "metadata": {
      "needs_background": "light"
     },
     "output_type": "display_data"
    }
   ],
   "source": [
    "###Grafica\n",
    "y_term = [(fin_date[k]-val_date).days/365 for k in range(len(fin_date))]\n",
    "plt.plot(venc.T, curva*100,'r')\n",
    "plt.plot(np.array(y_term), np.array(discount_rates),'bo')\n",
    "plt.grid(True)\n",
    "plt.ylabel('Tasa %')\n",
    "plt.xlabel('Plazo (años)')\n",
    "plt.suptitle('Curva Cero Cupón por Precio- 100 Pseudo TES')\n",
    "#plt.savefig(cwd+'\\\\Clase_6\\\\N&S-Price_Opt.png')\n",
    "plt.show()"
   ]
  },
  {
   "cell_type": "code",
   "execution_count": 443,
   "metadata": {},
   "outputs": [],
   "source": [
    "db_object = DB_class(host=\"localhost\",user=\"root\",password=\"root\",database=\"trabajo_1\")\n",
    "class6_db = db_object.open_db()\n",
    "mi_cursor = class6_db.cursor()\n",
    "\n",
    "Tipo_titulo='T3'\n",
    "insert_1 = (\"UPDATE trabajo_2.curvas SET\"\n",
    "        \" Tipo = %s,\"\n",
    "        \"b0 = %s,\"\n",
    "        \"b1 = %s,\"\n",
    "        \"b2 = %s,\"\n",
    "        \"b3 = %s\"\n",
    "        \" WHERE Tipo = %s\"\n",
    "        )\n",
    "\n",
    "valores = (Tipo_titulo, betas_opt[0],betas_opt[1],betas_opt[2], betas_opt[3], Tipo_titulo)\n",
    "mi_cursor = class6_db.cursor()\n",
    "mi_cursor.execute(insert_1, valores)\n",
    "\n",
    "class6_db.commit()"
   ]
  },
  {
   "cell_type": "code",
   "execution_count": 486,
   "metadata": {},
   "outputs": [],
   "source": [
    "T3_Plazo=np.array(venc.T)\n",
    "T3_Tasas=np.array(curva*100)"
   ]
  },
  {
   "cell_type": "markdown",
   "metadata": {},
   "source": [
    "### Curva para titulos T4"
   ]
  },
  {
   "cell_type": "code",
   "execution_count": 487,
   "metadata": {},
   "outputs": [
    {
     "name": "stderr",
     "output_type": "stream",
     "text": [
      "C:\\Users\\Edwin\\AppData\\Roaming\\Python\\Python39\\site-packages\\pandas\\io\\sql.py:762: UserWarning: pandas only support SQLAlchemy connectable(engine/connection) ordatabase string URI or sqlite3 DBAPI2 connectionother DBAPI2 objects are not tested, please consider using SQLAlchemy\n",
      "  warnings.warn(\n"
     ]
    }
   ],
   "source": [
    "db_object = DB_class(host=\"localhost\",user=\"root\",password=\"root\",database=\"trabajo_1\")\n",
    "class6_db = db_object.open_db()\n",
    "mi_cursor = class6_db.cursor()\n",
    "query = (\n",
    "'SELECT '+\\\n",
    "'trabajo_2.tabla_precios.Tipo,'+\\\n",
    "'trabajo_2.tabla_precios.Indice_tipo,'+\\\n",
    "'trabajo_2.tabla_precios.fecha_valoracion,'+\\\n",
    "'trabajo_2.tabla_precios.nemotecnico,'+\\\n",
    "'trabajo_2.tabla_precios.fecha_emision,'+\\\n",
    "'trabajo_2.tabla_precios.fecha_vencimiento,'+\\\n",
    "'trabajo_2.tabla_precios.cupon,'+\\\n",
    "'trabajo_2.tabla_precios.tir,'+\\\n",
    "'trabajo_2.tabla_precios.frecuencia_pago,'+\\\n",
    "'trabajo_2.tabla_precios.Indicador_indexado,'+\\\n",
    "'trabajo_2.tabla_precios.conteo_dias,'+\\\n",
    "'trabajo_2.tabla_indices.Indice_c,'+\\\n",
    "'trabajo_2.tabla_indices.fecha_indice,'+\\\n",
    "'trabajo_2.tabla_indices.valor '+\\\n",
    "'FROM trabajo_2.tabla_precios '+\\\n",
    "'left join trabajo_2.tabla_indices '+\\\n",
    "'on '+\\\n",
    "'concat(trabajo_2.tabla_indices.Indice_c,trabajo_2.tabla_indices.fecha_indice) ='+\\\n",
    "'concat(trabajo_2.tabla_precios.Indicador_indexado,trabajo_2.tabla_precios.fecha_valoracion) '+\\\n",
    "'where '+\\\n",
    "'trabajo_2.tabla_precios.Tipo in (\\'T4\\') '+\\\n",
    "'order by trabajo_2.tabla_precios.Tipo, trabajo_2.tabla_precios.Indice_tipo'\n",
    ")\n",
    "tes_faciales = pd.read_sql(query, con=class6_db)"
   ]
  },
  {
   "cell_type": "code",
   "execution_count": 488,
   "metadata": {},
   "outputs": [],
   "source": [
    "val_date= tes_faciales.fecha_valoracion.drop_duplicates()[0]\n",
    "ini_date = tes_faciales.fecha_emision\n",
    "fin_date = tes_faciales.fecha_vencimiento\n",
    "cpn =  tes_faciales.cupon\n",
    "discount_rates = tes_faciales.tir.copy()\n",
    "frec_pag=tes_faciales.frecuencia_pago\n",
    "indicador=tes_faciales.valor\n",
    "conteo_dias=tes_faciales.conteo_dias\n",
    "discount_rates_ind=((1+discount_rates/100)*(1+indicador/100)-1)*100\n",
    "\n",
    "discount_rates_consol=tes_faciales.tir.copy()\n",
    "for i in range(len(discount_rates)):\n",
    "    if indicador[i]==0:\n",
    "        discount_rates_consol[i]=discount_rates[i]\n",
    "    else:\n",
    "        discount_rates_consol[i]=discount_rates_ind[i]"
   ]
  },
  {
   "cell_type": "code",
   "execution_count": 489,
   "metadata": {},
   "outputs": [],
   "source": [
    "parametros = dict({\n",
    "        'val_date':val_date, \n",
    "        'ini_date':ini_date, \n",
    "        'fin_date':fin_date,\n",
    "        'coupon':cpn,\n",
    "        'discount_rates': discount_rates,\n",
    "        'conteo_dias': conteo_dias,\n",
    "        'frec_pag':frec_pag, \n",
    "        'indicador':indicador,\n",
    "        'limits':np.array([0,100])\n",
    "        })"
   ]
  },
  {
   "cell_type": "code",
   "execution_count": 490,
   "metadata": {},
   "outputs": [],
   "source": [
    "## Funcion de matriz de cupones\n",
    "coupon_dict = funciones.coupon_m365(parametros)\n",
    "parametros['cpn_dict'] = coupon_dict\n",
    "parametros['delta_t'] = coupon_dict['days_matrix']/365\n",
    "prices_01= funciones.dirty_price_m(parametros)\n",
    "\n",
    "parametros['mkt_prices'] = funciones.dirty_price_m(parametros)\n",
    "\n",
    "##### Calcular los betas\n",
    "venc = coupon_dict['days_matrix']/365"
   ]
  },
  {
   "cell_type": "code",
   "execution_count": 491,
   "metadata": {},
   "outputs": [
    {
     "name": "stderr",
     "output_type": "stream",
     "text": [
      "d:\\cursos\\Maestria finanzas\\S3_PySql rent fij\\Trabajo02\\Clase_6\\Funciones.py:584: RuntimeWarning: divide by zero encountered in true_divide\n",
      "  y = beta_0+params[1]*((1-np.exp(-ven/params[3]))/(ven/params[3]))+\\\n",
      "d:\\cursos\\Maestria finanzas\\S3_PySql rent fij\\Trabajo02\\Clase_6\\Funciones.py:585: RuntimeWarning: divide by zero encountered in true_divide\n",
      "  params[2]*((1-np.exp(-ven/params[3]))/(ven/params[3])- \\\n",
      "d:\\cursos\\Maestria finanzas\\S3_PySql rent fij\\Trabajo02\\Clase_6\\Funciones.py:586: RuntimeWarning: divide by zero encountered in true_divide\n",
      "  np.exp(-ven/params[3]))\n"
     ]
    },
    {
     "name": "stdout",
     "output_type": "stream",
     "text": [
      "El algortimo de optimizacion por fuerza bruta en Precio tarda 31.36 segundos\n"
     ]
    },
    {
     "name": "stderr",
     "output_type": "stream",
     "text": [
      "d:\\cursos\\Maestria finanzas\\S3_PySql rent fij\\Trabajo02\\Clase_6\\Funciones.py:621: RuntimeWarning: overflow encountered in exp\n",
      "  disc_factors = np.exp(np.multiply(-model_curve.T, venc)).T\n"
     ]
    }
   ],
   "source": [
    "################ Optimizacion por precios\n",
    "parametros['limits'] = np.array([0,150])\n",
    "ini = time.time()\n",
    "optimiz_result = clase_6Fun.betas_optimization_bound_prices(parametros)\n",
    "fin = time.time()\n",
    "betas_opt = optimiz_result.copy()\n",
    "curva = funciones.NelsonSiegel_m(betas_opt, venc)\n",
    "print(f'El algortimo de optimizacion por fuerza bruta en Precio tarda {(fin-ini):.2f} segundos')\n",
    "#se demora menos de un min"
   ]
  },
  {
   "cell_type": "code",
   "execution_count": 492,
   "metadata": {},
   "outputs": [
    {
     "data": {
      "text/plain": [
       "7770.444957521277"
      ]
     },
     "execution_count": 492,
     "metadata": {},
     "output_type": "execute_result"
    }
   ],
   "source": [
    "#Evaluar los precios, las TIRs y la funcion objetivo \n",
    "prices_opt = funciones.dirty_price_m_ns(betas_opt,parametros)\n",
    "tirs_opt = funciones.find_ytm_loop(parametros,prices_opt)\n",
    "funciones.find_ytm_loop(parametros,prices_opt)\n",
    "clase_6Fun.objetive_function_prices(betas_opt,parametros)\n",
    "funciones.objetive_function(betas_opt,parametros)"
   ]
  },
  {
   "cell_type": "code",
   "execution_count": 493,
   "metadata": {},
   "outputs": [
    {
     "data": {
      "image/png": "[encoded data removed]",
      "text/plain": [
       "<Figure size 432x288 with 1 Axes>"
      ]
     },
     "metadata": {
      "needs_background": "light"
     },
     "output_type": "display_data"
    }
   ],
   "source": [
    "###Grafica\n",
    "y_term = [(fin_date[k]-val_date).days/365 for k in range(len(fin_date))]\n",
    "plt.plot(venc.T, curva*100,'r')\n",
    "plt.plot(np.array(y_term), np.array(discount_rates),'bo')\n",
    "plt.grid(True)\n",
    "plt.ylabel('Tasa %')\n",
    "plt.xlabel('Plazo (años)')\n",
    "plt.suptitle('Curva Cero Cupón por Precio- 100 Pseudo TES')\n",
    "#plt.savefig(cwd+'\\\\Clase_6\\\\N&S-Price_Opt.png')\n",
    "plt.show()"
   ]
  },
  {
   "cell_type": "code",
   "execution_count": 451,
   "metadata": {},
   "outputs": [],
   "source": [
    "db_object = DB_class(host=\"localhost\",user=\"root\",password=\"root\",database=\"trabajo_1\")\n",
    "class6_db = db_object.open_db()\n",
    "mi_cursor = class6_db.cursor()\n",
    "\n",
    "Tipo_titulo='T4'\n",
    "insert_1 = (\"UPDATE trabajo_2.curvas SET\"\n",
    "        \" Tipo = %s,\"\n",
    "        \"b0 = %s,\"\n",
    "        \"b1 = %s,\"\n",
    "        \"b2 = %s,\"\n",
    "        \"b3 = %s\"\n",
    "        \" WHERE Tipo = %s\"\n",
    "        )\n",
    "\n",
    "valores = (Tipo_titulo, betas_opt[0],betas_opt[1],betas_opt[2], betas_opt[3], Tipo_titulo)\n",
    "mi_cursor = class6_db.cursor()\n",
    "mi_cursor.execute(insert_1, valores)\n",
    "\n",
    "class6_db.commit()"
   ]
  },
  {
   "cell_type": "code",
   "execution_count": 494,
   "metadata": {},
   "outputs": [],
   "source": [
    "T4_Plazo=np.array(venc.T)\n",
    "T4_Tasas=np.array(curva*100)"
   ]
  },
  {
   "cell_type": "markdown",
   "metadata": {},
   "source": [
    "### Curva para titulos T5"
   ]
  },
  {
   "cell_type": "code",
   "execution_count": 495,
   "metadata": {},
   "outputs": [
    {
     "name": "stderr",
     "output_type": "stream",
     "text": [
      "C:\\Users\\Edwin\\AppData\\Roaming\\Python\\Python39\\site-packages\\pandas\\io\\sql.py:762: UserWarning: pandas only support SQLAlchemy connectable(engine/connection) ordatabase string URI or sqlite3 DBAPI2 connectionother DBAPI2 objects are not tested, please consider using SQLAlchemy\n",
      "  warnings.warn(\n"
     ]
    }
   ],
   "source": [
    "db_object = DB_class(host=\"localhost\",user=\"root\",password=\"root\",database=\"trabajo_1\")\n",
    "class6_db = db_object.open_db()\n",
    "mi_cursor = class6_db.cursor()\n",
    "query = (\n",
    "'SELECT '+\\\n",
    "'trabajo_2.tabla_precios.Tipo,'+\\\n",
    "'trabajo_2.tabla_precios.Indice_tipo,'+\\\n",
    "'trabajo_2.tabla_precios.fecha_valoracion,'+\\\n",
    "'trabajo_2.tabla_precios.nemotecnico,'+\\\n",
    "'trabajo_2.tabla_precios.fecha_emision,'+\\\n",
    "'trabajo_2.tabla_precios.fecha_vencimiento,'+\\\n",
    "'trabajo_2.tabla_precios.cupon,'+\\\n",
    "'trabajo_2.tabla_precios.tir,'+\\\n",
    "'trabajo_2.tabla_precios.frecuencia_pago,'+\\\n",
    "'trabajo_2.tabla_precios.Indicador_indexado,'+\\\n",
    "'trabajo_2.tabla_precios.conteo_dias,'+\\\n",
    "'trabajo_2.tabla_indices.Indice_c,'+\\\n",
    "'trabajo_2.tabla_indices.fecha_indice,'+\\\n",
    "'trabajo_2.tabla_indices.valor '+\\\n",
    "'FROM trabajo_2.tabla_precios '+\\\n",
    "'left join trabajo_2.tabla_indices '+\\\n",
    "'on '+\\\n",
    "'concat(trabajo_2.tabla_indices.Indice_c,trabajo_2.tabla_indices.fecha_indice) ='+\\\n",
    "'concat(trabajo_2.tabla_precios.Indicador_indexado,trabajo_2.tabla_precios.fecha_valoracion) '+\\\n",
    "'where '+\\\n",
    "'trabajo_2.tabla_precios.Tipo in (\\'T5\\') '+\\\n",
    "'order by trabajo_2.tabla_precios.Tipo, trabajo_2.tabla_precios.Indice_tipo'\n",
    ")\n",
    "tes_faciales = pd.read_sql(query, con=class6_db)\n",
    "\n"
   ]
  },
  {
   "cell_type": "code",
   "execution_count": 496,
   "metadata": {},
   "outputs": [],
   "source": [
    "val_date= tes_faciales.fecha_valoracion.drop_duplicates()[0]\n",
    "ini_date = tes_faciales.fecha_emision\n",
    "fin_date = tes_faciales.fecha_vencimiento\n",
    "cpn =  tes_faciales.cupon\n",
    "discount_rates = tes_faciales.tir.copy()\n",
    "frec_pag=tes_faciales.frecuencia_pago\n",
    "indicador=tes_faciales.valor\n",
    "conteo_dias=tes_faciales.conteo_dias\n",
    "discount_rates_ind=((1+discount_rates/100)*(1+indicador/100)-1)*100\n",
    "\n",
    "discount_rates_consol=tes_faciales.tir.copy()\n",
    "for i in range(len(discount_rates)):\n",
    "    if indicador[i]==0:\n",
    "        discount_rates_consol[i]=discount_rates[i]\n",
    "    else:\n",
    "        discount_rates_consol[i]=discount_rates_ind[i]"
   ]
  },
  {
   "cell_type": "code",
   "execution_count": 497,
   "metadata": {},
   "outputs": [],
   "source": [
    "parametros = dict({\n",
    "        'val_date':val_date, \n",
    "        'ini_date':ini_date, \n",
    "        'fin_date':fin_date,\n",
    "        'coupon':cpn,\n",
    "        'discount_rates': discount_rates,\n",
    "        'conteo_dias': conteo_dias,\n",
    "        'frec_pag':frec_pag, \n",
    "        'indicador':indicador,\n",
    "        'limits':np.array([0,100])\n",
    "        })\n"
   ]
  },
  {
   "cell_type": "code",
   "execution_count": 498,
   "metadata": {},
   "outputs": [],
   "source": [
    "## Funcion de matriz de cupones\n",
    "coupon_dict = funciones.coupon_m360(parametros)\n",
    "parametros['cpn_dict'] = coupon_dict\n",
    "parametros['delta_t'] = coupon_dict['days_matrix']/360\n",
    "prices_01= funciones.dirty_price_m(parametros)\n",
    "\n",
    "parametros['mkt_prices'] = funciones.dirty_price_m(parametros)\n",
    "\n",
    "##### Calcular los betas\n",
    "venc = coupon_dict['days_matrix']/360"
   ]
  },
  {
   "cell_type": "code",
   "execution_count": 224,
   "metadata": {},
   "outputs": [],
   "source": [
    "#Df_resultadoPrice=tes_faciales\n",
    "#Df_resultadoPrice['priceC']=prices_01\n",
    "#Df_resultadoPrice.to_excel (r'd:/cursos/Maestria finanzas/S3_PySql rent fij/Trabajo02/calculoprecioT5.xlsx', index = False, header=True)\n"
   ]
  },
  {
   "cell_type": "code",
   "execution_count": 499,
   "metadata": {},
   "outputs": [
    {
     "name": "stderr",
     "output_type": "stream",
     "text": [
      "d:\\cursos\\Maestria finanzas\\S3_PySql rent fij\\Trabajo02\\Clase_6\\Funciones.py:584: RuntimeWarning: divide by zero encountered in true_divide\n",
      "  y = beta_0+params[1]*((1-np.exp(-ven/params[3]))/(ven/params[3]))+\\\n",
      "d:\\cursos\\Maestria finanzas\\S3_PySql rent fij\\Trabajo02\\Clase_6\\Funciones.py:585: RuntimeWarning: divide by zero encountered in true_divide\n",
      "  params[2]*((1-np.exp(-ven/params[3]))/(ven/params[3])- \\\n",
      "d:\\cursos\\Maestria finanzas\\S3_PySql rent fij\\Trabajo02\\Clase_6\\Funciones.py:586: RuntimeWarning: divide by zero encountered in true_divide\n",
      "  np.exp(-ven/params[3]))\n"
     ]
    },
    {
     "name": "stdout",
     "output_type": "stream",
     "text": [
      "El algortimo de optimizacion por fuerza bruta en Precio tarda 47.33 segundos\n"
     ]
    }
   ],
   "source": [
    "################ Optimizacion por precios\n",
    "parametros['limits'] = np.array([0,150])\n",
    "ini = time.time()\n",
    "optimiz_result = clase_6Fun.betas_optimization_bound_prices(parametros)\n",
    "fin = time.time()\n",
    "betas_opt = optimiz_result.copy()\n",
    "curva = funciones.NelsonSiegel_m(betas_opt, venc)\n",
    "print(f'El algortimo de optimizacion por fuerza bruta en Precio tarda {(fin-ini):.2f} segundos')\n",
    "#se demora menos de un min"
   ]
  },
  {
   "cell_type": "code",
   "execution_count": 500,
   "metadata": {},
   "outputs": [
    {
     "data": {
      "text/plain": [
       "20.897498318949978"
      ]
     },
     "execution_count": 500,
     "metadata": {},
     "output_type": "execute_result"
    }
   ],
   "source": [
    "#Evaluar los precios, las TIRs y la funcion objetivo \n",
    "prices_opt = funciones.dirty_price_m_ns(betas_opt,parametros)\n",
    "tirs_opt = funciones.find_ytm_loop(parametros,prices_opt)\n",
    "funciones.find_ytm_loop(parametros,prices_opt)\n",
    "clase_6Fun.objetive_function_prices(betas_opt,parametros)\n",
    "funciones.objetive_function(betas_opt,parametros)"
   ]
  },
  {
   "cell_type": "code",
   "execution_count": 501,
   "metadata": {},
   "outputs": [
    {
     "data": {
      "image/png": "[encoded data removed]",
      "text/plain": [
       "<Figure size 432x288 with 1 Axes>"
      ]
     },
     "metadata": {
      "needs_background": "light"
     },
     "output_type": "display_data"
    }
   ],
   "source": [
    "###Grafica\n",
    "y_term = [(fin_date[k]-val_date).days/365 for k in range(len(fin_date))]\n",
    "plt.plot(venc.T, curva*100,'r')\n",
    "plt.plot(np.array(y_term), np.array(discount_rates),'bo')\n",
    "plt.grid(True)\n",
    "plt.ylabel('Tasa %')\n",
    "plt.xlabel('Plazo (años)')\n",
    "plt.suptitle('Curva Cero Cupón por Precio- 100 Pseudo TES')\n",
    "#plt.savefig(cwd+'\\\\Clase_6\\\\N&S-Price_Opt.png')\n",
    "plt.show()"
   ]
  },
  {
   "cell_type": "code",
   "execution_count": 459,
   "metadata": {},
   "outputs": [],
   "source": [
    "db_object = DB_class(host=\"localhost\",user=\"root\",password=\"root\",database=\"trabajo_1\")\n",
    "class6_db = db_object.open_db()\n",
    "mi_cursor = class6_db.cursor()\n",
    "\n",
    "Tipo_titulo='T5'\n",
    "insert_1 = (\"UPDATE trabajo_2.curvas SET\"\n",
    "        \" Tipo = %s,\"\n",
    "        \"b0 = %s,\"\n",
    "        \"b1 = %s,\"\n",
    "        \"b2 = %s,\"\n",
    "        \"b3 = %s\"\n",
    "        \" WHERE Tipo = %s\"\n",
    "        )\n",
    "\n",
    "valores = (Tipo_titulo, betas_opt[0],betas_opt[1],betas_opt[2], betas_opt[3], Tipo_titulo)\n",
    "mi_cursor = class6_db.cursor()\n",
    "mi_cursor.execute(insert_1, valores)\n",
    "\n",
    "class6_db.commit()"
   ]
  },
  {
   "cell_type": "code",
   "execution_count": 502,
   "metadata": {},
   "outputs": [],
   "source": [
    "T5_Plazo=np.array(venc.T)\n",
    "T5_Tasas=np.array(curva*100)"
   ]
  },
  {
   "cell_type": "markdown",
   "metadata": {},
   "source": [
    "## Carga tablas bonos"
   ]
  },
  {
   "cell_type": "code",
   "execution_count": 511,
   "metadata": {},
   "outputs": [],
   "source": [
    "### Insertar datos T1\n",
    "db_object = DB_class(host=\"localhost\",user=\"root\",password=\"root\",database=\"trabajo_1\")\n",
    "class6_db = db_object.open_db()\n",
    "mi_cursor = class6_db.cursor()\n",
    "\n",
    "\n",
    "for i in range(T1_Plazo.shape[0]):\n",
    "    insert_1 = (\"INSERT INTO trabajo_2.tabla_curvas (Tipo,Plazo,Tasas) VALUES \"\n",
    "            \"(%s,%s,%s)\"\n",
    "            )\n",
    "\n",
    "    valores = ('T1', T1_Plazo[i], T1_Tasas[i][0])\n",
    "    mi_cursor = class6_db.cursor()\n",
    "    mi_cursor.execute(insert_1, valores)\n",
    "\n",
    "    class6_db.commit()"
   ]
  },
  {
   "cell_type": "code",
   "execution_count": 512,
   "metadata": {},
   "outputs": [],
   "source": [
    "### Insertar datos T2\n",
    "db_object = DB_class(host=\"localhost\",user=\"root\",password=\"root\",database=\"trabajo_1\")\n",
    "class6_db = db_object.open_db()\n",
    "mi_cursor = class6_db.cursor()\n",
    "\n",
    "\n",
    "for i in range(T2_Plazo.shape[0]):\n",
    "    insert_1 = (\"INSERT INTO trabajo_2.tabla_curvas (Tipo,Plazo,Tasas) VALUES \"\n",
    "            \"(%s,%s,%s)\"\n",
    "            )\n",
    "\n",
    "    valores = ('T2', T2_Plazo[i], T2_Tasas[i][0])\n",
    "    mi_cursor = class6_db.cursor()\n",
    "    mi_cursor.execute(insert_1, valores)\n",
    "\n",
    "    class6_db.commit()"
   ]
  },
  {
   "cell_type": "code",
   "execution_count": 513,
   "metadata": {},
   "outputs": [],
   "source": [
    "### Insertar datos T3\n",
    "db_object = DB_class(host=\"localhost\",user=\"root\",password=\"root\",database=\"trabajo_1\")\n",
    "class6_db = db_object.open_db()\n",
    "mi_cursor = class6_db.cursor()\n",
    "\n",
    "\n",
    "for i in range(T3_Plazo.shape[0]):\n",
    "    insert_1 = (\"INSERT INTO trabajo_2.tabla_curvas (Tipo,Plazo,Tasas) VALUES \"\n",
    "            \"(%s,%s,%s)\"\n",
    "            )\n",
    "\n",
    "    valores = ('T3', T3_Plazo[i], T3_Tasas[i][0])\n",
    "    mi_cursor = class6_db.cursor()\n",
    "    mi_cursor.execute(insert_1, valores)\n",
    "\n",
    "    class6_db.commit()"
   ]
  },
  {
   "cell_type": "code",
   "execution_count": 514,
   "metadata": {},
   "outputs": [],
   "source": [
    "### Insertar datos T4\n",
    "db_object = DB_class(host=\"localhost\",user=\"root\",password=\"root\",database=\"trabajo_1\")\n",
    "class6_db = db_object.open_db()\n",
    "mi_cursor = class6_db.cursor()\n",
    "\n",
    "\n",
    "for i in range(T4_Plazo.shape[0]):\n",
    "    insert_1 = (\"INSERT INTO trabajo_2.tabla_curvas (Tipo,Plazo,Tasas) VALUES \"\n",
    "            \"(%s,%s,%s)\"\n",
    "            )\n",
    "\n",
    "    valores = ('T4', T4_Plazo[i], T4_Tasas[i][0])\n",
    "    mi_cursor = class6_db.cursor()\n",
    "    mi_cursor.execute(insert_1, valores)\n",
    "\n",
    "    class6_db.commit()"
   ]
  },
  {
   "cell_type": "code",
   "execution_count": 515,
   "metadata": {},
   "outputs": [],
   "source": [
    "### Insertar datos T5\n",
    "db_object = DB_class(host=\"localhost\",user=\"root\",password=\"root\",database=\"trabajo_1\")\n",
    "class6_db = db_object.open_db()\n",
    "mi_cursor = class6_db.cursor()\n",
    "\n",
    "\n",
    "for i in range(T5_Plazo.shape[0]):\n",
    "    insert_1 = (\"INSERT INTO trabajo_2.tabla_curvas (Tipo,Plazo,Tasas) VALUES \"\n",
    "            \"(%s,%s,%s)\"\n",
    "            )\n",
    "\n",
    "    valores = ('T5', T5_Plazo[i], T5_Tasas[i][0])\n",
    "    mi_cursor = class6_db.cursor()\n",
    "    mi_cursor.execute(insert_1, valores)\n",
    "\n",
    "    class6_db.commit()"
   ]
  },
  {
   "cell_type": "code",
   "execution_count": 516,
   "metadata": {},
   "outputs": [
    {
     "name": "stderr",
     "output_type": "stream",
     "text": [
      "C:\\Users\\Edwin\\AppData\\Roaming\\Python\\Python39\\site-packages\\pandas\\io\\sql.py:762: UserWarning: pandas only support SQLAlchemy connectable(engine/connection) ordatabase string URI or sqlite3 DBAPI2 connectionother DBAPI2 objects are not tested, please consider using SQLAlchemy\n",
      "  warnings.warn(\n"
     ]
    },
    {
     "data": {
      "text/html": [
       "<div>\n",
       "<style scoped>\n",
       "    .dataframe tbody tr th:only-of-type {\n",
       "        vertical-align: middle;\n",
       "    }\n",
       "\n",
       "    .dataframe tbody tr th {\n",
       "        vertical-align: top;\n",
       "    }\n",
       "\n",
       "    .dataframe thead th {\n",
       "        text-align: right;\n",
       "    }\n",
       "</style>\n",
       "<table border=\"1\" class=\"dataframe\">\n",
       "  <thead>\n",
       "    <tr style=\"text-align: right;\">\n",
       "      <th></th>\n",
       "      <th>Tipo</th>\n",
       "      <th>Plazo</th>\n",
       "      <th>Tasas</th>\n",
       "    </tr>\n",
       "  </thead>\n",
       "  <tbody>\n",
       "    <tr>\n",
       "      <th>0</th>\n",
       "      <td>T1</td>\n",
       "      <td>0.021918</td>\n",
       "      <td>1.271115</td>\n",
       "    </tr>\n",
       "    <tr>\n",
       "      <th>1</th>\n",
       "      <td>T1</td>\n",
       "      <td>0.049315</td>\n",
       "      <td>1.321216</td>\n",
       "    </tr>\n",
       "    <tr>\n",
       "      <th>2</th>\n",
       "      <td>T1</td>\n",
       "      <td>0.063014</td>\n",
       "      <td>1.346187</td>\n",
       "    </tr>\n",
       "    <tr>\n",
       "      <th>3</th>\n",
       "      <td>T1</td>\n",
       "      <td>0.065753</td>\n",
       "      <td>1.351175</td>\n",
       "    </tr>\n",
       "    <tr>\n",
       "      <th>4</th>\n",
       "      <td>T1</td>\n",
       "      <td>0.068493</td>\n",
       "      <td>1.356161</td>\n",
       "    </tr>\n",
       "    <tr>\n",
       "      <th>...</th>\n",
       "      <td>...</td>\n",
       "      <td>...</td>\n",
       "      <td>...</td>\n",
       "    </tr>\n",
       "    <tr>\n",
       "      <th>5630</th>\n",
       "      <td>T5</td>\n",
       "      <td>27.805556</td>\n",
       "      <td>9.708706</td>\n",
       "    </tr>\n",
       "    <tr>\n",
       "      <th>5631</th>\n",
       "      <td>T5</td>\n",
       "      <td>28.147222</td>\n",
       "      <td>9.689133</td>\n",
       "    </tr>\n",
       "    <tr>\n",
       "      <th>5632</th>\n",
       "      <td>T5</td>\n",
       "      <td>28.369444</td>\n",
       "      <td>9.676072</td>\n",
       "    </tr>\n",
       "    <tr>\n",
       "      <th>5633</th>\n",
       "      <td>T5</td>\n",
       "      <td>28.580556</td>\n",
       "      <td>9.663432</td>\n",
       "    </tr>\n",
       "    <tr>\n",
       "      <th>5634</th>\n",
       "      <td>T5</td>\n",
       "      <td>28.638889</td>\n",
       "      <td>9.659900</td>\n",
       "    </tr>\n",
       "  </tbody>\n",
       "</table>\n",
       "<p>5635 rows × 3 columns</p>\n",
       "</div>"
      ],
      "text/plain": [
       "     Tipo      Plazo     Tasas\n",
       "0      T1   0.021918  1.271115\n",
       "1      T1   0.049315  1.321216\n",
       "2      T1   0.063014  1.346187\n",
       "3      T1   0.065753  1.351175\n",
       "4      T1   0.068493  1.356161\n",
       "...   ...        ...       ...\n",
       "5630   T5  27.805556  9.708706\n",
       "5631   T5  28.147222  9.689133\n",
       "5632   T5  28.369444  9.676072\n",
       "5633   T5  28.580556  9.663432\n",
       "5634   T5  28.638889  9.659900\n",
       "\n",
       "[5635 rows x 3 columns]"
      ]
     },
     "metadata": {},
     "output_type": "display_data"
    }
   ],
   "source": [
    "db_object = DB_class(host=\"localhost\",user=\"root\",password=\"root\",database=\"trabajo_1\")\n",
    "class2_db = db_object.open_db()\n",
    "mi_cursor = class2_db.cursor()\n",
    "query = (\n",
    "'SELECT * FROM trabajo_2.tabla_curvas '\n",
    "        )\n",
    "tabla_curvas = pd.read_sql(query, con=class2_db)\n",
    "display(tabla_curvas)"
   ]
  },
  {
   "cell_type": "markdown",
   "metadata": {},
   "source": [
    "### Pruebas FALLIDAS optimizacion"
   ]
  },
  {
   "cell_type": "code",
   "execution_count": 230,
   "metadata": {},
   "outputs": [
    {
     "name": "stderr",
     "output_type": "stream",
     "text": [
      "C:\\Users\\Edwin\\AppData\\Roaming\\Python\\Python39\\site-packages\\pandas\\io\\sql.py:762: UserWarning: pandas only support SQLAlchemy connectable(engine/connection) ordatabase string URI or sqlite3 DBAPI2 connectionother DBAPI2 objects are not tested, please consider using SQLAlchemy\n",
      "  warnings.warn(\n"
     ]
    },
    {
     "data": {
      "text/html": [
       "<div>\n",
       "<style scoped>\n",
       "    .dataframe tbody tr th:only-of-type {\n",
       "        vertical-align: middle;\n",
       "    }\n",
       "\n",
       "    .dataframe tbody tr th {\n",
       "        vertical-align: top;\n",
       "    }\n",
       "\n",
       "    .dataframe thead th {\n",
       "        text-align: right;\n",
       "    }\n",
       "</style>\n",
       "<table border=\"1\" class=\"dataframe\">\n",
       "  <thead>\n",
       "    <tr style=\"text-align: right;\">\n",
       "      <th></th>\n",
       "      <th>Tipo</th>\n",
       "      <th>Indice_tipo</th>\n",
       "      <th>fecha_valoracion</th>\n",
       "      <th>nemotecnico</th>\n",
       "      <th>fecha_emision</th>\n",
       "      <th>fecha_vencimiento</th>\n",
       "      <th>cupon</th>\n",
       "      <th>tir</th>\n",
       "      <th>frecuencia_pago</th>\n",
       "      <th>Indicador_indexado</th>\n",
       "      <th>conteo_dias</th>\n",
       "      <th>Indice_c</th>\n",
       "      <th>fecha_indice</th>\n",
       "      <th>valor</th>\n",
       "    </tr>\n",
       "  </thead>\n",
       "  <tbody>\n",
       "    <tr>\n",
       "      <th>0</th>\n",
       "      <td>T5</td>\n",
       "      <td>1</td>\n",
       "      <td>2022-09-18</td>\n",
       "      <td>TUVTKQ360</td>\n",
       "      <td>2018-02-23</td>\n",
       "      <td>2023-02-23</td>\n",
       "      <td>4.0</td>\n",
       "      <td>6.224317</td>\n",
       "      <td>12</td>\n",
       "      <td>No</td>\n",
       "      <td>REAL/360</td>\n",
       "      <td>No</td>\n",
       "      <td>2022-09-18</td>\n",
       "      <td>0.0</td>\n",
       "    </tr>\n",
       "    <tr>\n",
       "      <th>1</th>\n",
       "      <td>T5</td>\n",
       "      <td>2</td>\n",
       "      <td>2022-09-18</td>\n",
       "      <td>TUVATFJ360</td>\n",
       "      <td>2012-06-24</td>\n",
       "      <td>2023-06-24</td>\n",
       "      <td>3.0</td>\n",
       "      <td>6.368231</td>\n",
       "      <td>12</td>\n",
       "      <td>No</td>\n",
       "      <td>REAL/360</td>\n",
       "      <td>No</td>\n",
       "      <td>2022-09-18</td>\n",
       "      <td>0.0</td>\n",
       "    </tr>\n",
       "    <tr>\n",
       "      <th>2</th>\n",
       "      <td>T5</td>\n",
       "      <td>3</td>\n",
       "      <td>2022-09-18</td>\n",
       "      <td>TUVTRE360</td>\n",
       "      <td>2015-11-04</td>\n",
       "      <td>2023-11-04</td>\n",
       "      <td>3.0</td>\n",
       "      <td>6.519757</td>\n",
       "      <td>12</td>\n",
       "      <td>No</td>\n",
       "      <td>REAL/360</td>\n",
       "      <td>No</td>\n",
       "      <td>2022-09-18</td>\n",
       "      <td>0.0</td>\n",
       "    </tr>\n",
       "    <tr>\n",
       "      <th>3</th>\n",
       "      <td>T5</td>\n",
       "      <td>4</td>\n",
       "      <td>2022-09-18</td>\n",
       "      <td>TUVTAF360</td>\n",
       "      <td>2018-05-23</td>\n",
       "      <td>2024-05-23</td>\n",
       "      <td>4.0</td>\n",
       "      <td>6.736134</td>\n",
       "      <td>12</td>\n",
       "      <td>No</td>\n",
       "      <td>REAL/360</td>\n",
       "      <td>No</td>\n",
       "      <td>2022-09-18</td>\n",
       "      <td>0.0</td>\n",
       "    </tr>\n",
       "    <tr>\n",
       "      <th>4</th>\n",
       "      <td>T5</td>\n",
       "      <td>5</td>\n",
       "      <td>2022-09-18</td>\n",
       "      <td>TUVTXA360</td>\n",
       "      <td>2014-11-16</td>\n",
       "      <td>2024-11-16</td>\n",
       "      <td>4.0</td>\n",
       "      <td>6.914768</td>\n",
       "      <td>12</td>\n",
       "      <td>No</td>\n",
       "      <td>REAL/360</td>\n",
       "      <td>No</td>\n",
       "      <td>2022-09-18</td>\n",
       "      <td>0.0</td>\n",
       "    </tr>\n",
       "    <tr>\n",
       "      <th>...</th>\n",
       "      <td>...</td>\n",
       "      <td>...</td>\n",
       "      <td>...</td>\n",
       "      <td>...</td>\n",
       "      <td>...</td>\n",
       "      <td>...</td>\n",
       "      <td>...</td>\n",
       "      <td>...</td>\n",
       "      <td>...</td>\n",
       "      <td>...</td>\n",
       "      <td>...</td>\n",
       "      <td>...</td>\n",
       "      <td>...</td>\n",
       "      <td>...</td>\n",
       "    </tr>\n",
       "    <tr>\n",
       "      <th>95</th>\n",
       "      <td>T5</td>\n",
       "      <td>96</td>\n",
       "      <td>2022-09-18</td>\n",
       "      <td>TUVTZT360</td>\n",
       "      <td>2021-02-13</td>\n",
       "      <td>2050-02-13</td>\n",
       "      <td>3.0</td>\n",
       "      <td>9.828134</td>\n",
       "      <td>12</td>\n",
       "      <td>No</td>\n",
       "      <td>REAL/360</td>\n",
       "      <td>No</td>\n",
       "      <td>2022-09-18</td>\n",
       "      <td>0.0</td>\n",
       "    </tr>\n",
       "    <tr>\n",
       "      <th>96</th>\n",
       "      <td>T5</td>\n",
       "      <td>97</td>\n",
       "      <td>2022-09-18</td>\n",
       "      <td>TUVTYO360</td>\n",
       "      <td>2017-09-04</td>\n",
       "      <td>2050-09-04</td>\n",
       "      <td>3.0</td>\n",
       "      <td>9.843179</td>\n",
       "      <td>12</td>\n",
       "      <td>No</td>\n",
       "      <td>REAL/360</td>\n",
       "      <td>No</td>\n",
       "      <td>2022-09-18</td>\n",
       "      <td>0.0</td>\n",
       "    </tr>\n",
       "    <tr>\n",
       "      <th>97</th>\n",
       "      <td>T5</td>\n",
       "      <td>98</td>\n",
       "      <td>2022-09-18</td>\n",
       "      <td>TUVTXV360</td>\n",
       "      <td>2015-06-16</td>\n",
       "      <td>2050-06-16</td>\n",
       "      <td>5.0</td>\n",
       "      <td>9.837320</td>\n",
       "      <td>12</td>\n",
       "      <td>No</td>\n",
       "      <td>REAL/360</td>\n",
       "      <td>No</td>\n",
       "      <td>2022-09-18</td>\n",
       "      <td>0.0</td>\n",
       "    </tr>\n",
       "    <tr>\n",
       "      <th>98</th>\n",
       "      <td>T5</td>\n",
       "      <td>99</td>\n",
       "      <td>2022-09-18</td>\n",
       "      <td>TUVTHB360</td>\n",
       "      <td>2020-11-19</td>\n",
       "      <td>2050-11-19</td>\n",
       "      <td>5.0</td>\n",
       "      <td>9.848664</td>\n",
       "      <td>12</td>\n",
       "      <td>No</td>\n",
       "      <td>REAL/360</td>\n",
       "      <td>No</td>\n",
       "      <td>2022-09-18</td>\n",
       "      <td>0.0</td>\n",
       "    </tr>\n",
       "    <tr>\n",
       "      <th>99</th>\n",
       "      <td>T5</td>\n",
       "      <td>100</td>\n",
       "      <td>2022-09-18</td>\n",
       "      <td>TUVTPX360</td>\n",
       "      <td>2012-12-10</td>\n",
       "      <td>2050-12-10</td>\n",
       "      <td>3.0</td>\n",
       "      <td>9.850165</td>\n",
       "      <td>12</td>\n",
       "      <td>No</td>\n",
       "      <td>REAL/360</td>\n",
       "      <td>No</td>\n",
       "      <td>2022-09-18</td>\n",
       "      <td>0.0</td>\n",
       "    </tr>\n",
       "  </tbody>\n",
       "</table>\n",
       "<p>100 rows × 14 columns</p>\n",
       "</div>"
      ],
      "text/plain": [
       "   Tipo  Indice_tipo fecha_valoracion nemotecnico fecha_emision  \\\n",
       "0    T5            1       2022-09-18   TUVTKQ360    2018-02-23   \n",
       "1    T5            2       2022-09-18  TUVATFJ360    2012-06-24   \n",
       "2    T5            3       2022-09-18   TUVTRE360    2015-11-04   \n",
       "3    T5            4       2022-09-18   TUVTAF360    2018-05-23   \n",
       "4    T5            5       2022-09-18   TUVTXA360    2014-11-16   \n",
       "..  ...          ...              ...         ...           ...   \n",
       "95   T5           96       2022-09-18   TUVTZT360    2021-02-13   \n",
       "96   T5           97       2022-09-18   TUVTYO360    2017-09-04   \n",
       "97   T5           98       2022-09-18   TUVTXV360    2015-06-16   \n",
       "98   T5           99       2022-09-18   TUVTHB360    2020-11-19   \n",
       "99   T5          100       2022-09-18   TUVTPX360    2012-12-10   \n",
       "\n",
       "   fecha_vencimiento  cupon       tir  frecuencia_pago Indicador_indexado  \\\n",
       "0         2023-02-23    4.0  6.224317               12                 No   \n",
       "1         2023-06-24    3.0  6.368231               12                 No   \n",
       "2         2023-11-04    3.0  6.519757               12                 No   \n",
       "3         2024-05-23    4.0  6.736134               12                 No   \n",
       "4         2024-11-16    4.0  6.914768               12                 No   \n",
       "..               ...    ...       ...              ...                ...   \n",
       "95        2050-02-13    3.0  9.828134               12                 No   \n",
       "96        2050-09-04    3.0  9.843179               12                 No   \n",
       "97        2050-06-16    5.0  9.837320               12                 No   \n",
       "98        2050-11-19    5.0  9.848664               12                 No   \n",
       "99        2050-12-10    3.0  9.850165               12                 No   \n",
       "\n",
       "   conteo_dias Indice_c fecha_indice  valor  \n",
       "0     REAL/360       No   2022-09-18    0.0  \n",
       "1     REAL/360       No   2022-09-18    0.0  \n",
       "2     REAL/360       No   2022-09-18    0.0  \n",
       "3     REAL/360       No   2022-09-18    0.0  \n",
       "4     REAL/360       No   2022-09-18    0.0  \n",
       "..         ...      ...          ...    ...  \n",
       "95    REAL/360       No   2022-09-18    0.0  \n",
       "96    REAL/360       No   2022-09-18    0.0  \n",
       "97    REAL/360       No   2022-09-18    0.0  \n",
       "98    REAL/360       No   2022-09-18    0.0  \n",
       "99    REAL/360       No   2022-09-18    0.0  \n",
       "\n",
       "[100 rows x 14 columns]"
      ]
     },
     "metadata": {},
     "output_type": "display_data"
    }
   ],
   "source": [
    "db_object = DB_class(host=\"localhost\",user=\"root\",password=\"root\",database=\"trabajo_1\")\n",
    "class2_db = db_object.open_db()\n",
    "mi_cursor = class2_db.cursor()\n",
    "query = (\n",
    "'SELECT '+\\\n",
    "'trabajo_2.tabla_precios.Tipo,'+\\\n",
    "'trabajo_2.tabla_precios.Indice_tipo,'+\\\n",
    "'trabajo_2.tabla_precios.fecha_valoracion,'+\\\n",
    "'trabajo_2.tabla_precios.nemotecnico,'+\\\n",
    "'trabajo_2.tabla_precios.fecha_emision,'+\\\n",
    "'trabajo_2.tabla_precios.fecha_vencimiento,'+\\\n",
    "'trabajo_2.tabla_precios.cupon,'+\\\n",
    "'trabajo_2.tabla_precios.tir,'+\\\n",
    "'trabajo_2.tabla_precios.frecuencia_pago,'+\\\n",
    "'trabajo_2.tabla_precios.Indicador_indexado,'+\\\n",
    "'trabajo_2.tabla_precios.conteo_dias,'+\\\n",
    "'trabajo_2.tabla_indices.Indice_c,'+\\\n",
    "'trabajo_2.tabla_indices.fecha_indice,'+\\\n",
    "'trabajo_2.tabla_indices.valor '+\\\n",
    "'FROM trabajo_2.tabla_precios '+\\\n",
    "'left join trabajo_2.tabla_indices '+\\\n",
    "'on '+\\\n",
    "'concat(trabajo_2.tabla_indices.Indice_c,trabajo_2.tabla_indices.fecha_indice) ='+\\\n",
    "'concat(trabajo_2.tabla_precios.Indicador_indexado,trabajo_2.tabla_precios.fecha_valoracion) '+\\\n",
    "'where '+\\\n",
    "'trabajo_2.tabla_precios.Tipo in (\\'T5\\') '+\\\n",
    "'order by trabajo_2.tabla_precios.Tipo, trabajo_2.tabla_precios.Indice_tipo'\n",
    ")\n",
    "tes_faciales = pd.read_sql(query, con=class2_db)\n",
    "display(tes_faciales)"
   ]
  },
  {
   "cell_type": "code",
   "execution_count": 231,
   "metadata": {},
   "outputs": [],
   "source": [
    "val_date= tes_faciales.fecha_valoracion.drop_duplicates()[0]\n",
    "ini_date = tes_faciales.fecha_emision\n",
    "fin_date = tes_faciales.fecha_vencimiento\n",
    "cpn =  tes_faciales.cupon\n",
    "discount_rates = tes_faciales.tir.copy()\n",
    "frec_pag=tes_faciales.frecuencia_pago\n",
    "indicador=tes_faciales.valor\n",
    "conteo_dias=tes_faciales.conteo_dias\n",
    "discount_rates_ind=((1+discount_rates/100)*(1+indicador/100)-1)*100\n",
    "\n",
    "discount_rates_consol=tes_faciales.tir.copy()\n",
    "for i in range(len(discount_rates)):\n",
    "    if indicador[i]==0:\n",
    "        discount_rates_consol[i]=discount_rates[i]\n",
    "    else:\n",
    "        discount_rates_consol[i]=discount_rates_ind[i]"
   ]
  },
  {
   "cell_type": "code",
   "execution_count": 232,
   "metadata": {},
   "outputs": [],
   "source": [
    "mul_inst = 1 #intentar 1, 100 y 10000\n",
    "parametros = dict({\n",
    "        'val_date':val_date, \n",
    "        'ini_date':np.tile(ini_date,mul_inst), \n",
    "        'fin_date':np.tile(fin_date,mul_inst), \n",
    "        'coupon':np.tile(cpn,mul_inst),\n",
    "        'discount_rates':np.tile(discount_rates_consol,mul_inst),\n",
    "        'conteo_dias':np.tile(conteo_dias,mul_inst),\n",
    "        'frec_pag':np.tile(frec_pag,mul_inst),\n",
    "        'indicador':np.tile(indicador,mul_inst),\n",
    "        'limits':np.array([0,200])\n",
    "        })"
   ]
  },
  {
   "cell_type": "code",
   "execution_count": 233,
   "metadata": {},
   "outputs": [],
   "source": [
    "n_inst = len(parametros['coupon'])\n",
    "## Funcion de matriz de cupones\n",
    "coupon_dict = funciones.coupon_mGen(parametros)\n",
    "parametros['cpn_dict'] = coupon_dict\n",
    "\n",
    "parametros['delta_t'] = coupon_dict['days_matrix']\n",
    "parametros['discount_factors'] = funciones.discount_factor_m(parametros)\n",
    "parametros['mkt_prices']  = funciones.dirty_price_m(parametros)\n",
    "\n",
    "##### Calcular los betas\n",
    "venc = coupon_dict['days_matrix']"
   ]
  },
  {
   "cell_type": "code",
   "execution_count": 234,
   "metadata": {},
   "outputs": [
    {
     "name": "stderr",
     "output_type": "stream",
     "text": [
      "d:\\cursos\\Maestria finanzas\\S3_PySql rent fij\\Trabajo02\\Clase_6\\Funciones.py:584: RuntimeWarning: divide by zero encountered in true_divide\n",
      "  y = beta_0+params[1]*((1-np.exp(-ven/params[3]))/(ven/params[3]))+\\\n",
      "d:\\cursos\\Maestria finanzas\\S3_PySql rent fij\\Trabajo02\\Clase_6\\Funciones.py:585: RuntimeWarning: divide by zero encountered in true_divide\n",
      "  params[2]*((1-np.exp(-ven/params[3]))/(ven/params[3])- \\\n",
      "d:\\cursos\\Maestria finanzas\\S3_PySql rent fij\\Trabajo02\\Clase_6\\Funciones.py:586: RuntimeWarning: divide by zero encountered in true_divide\n",
      "  np.exp(-ven/params[3]))\n"
     ]
    },
    {
     "name": "stdout",
     "output_type": "stream",
     "text": [
      "El algortimo de optimizacion por fuerza bruta en Precio tarda 49.63 segundos\n"
     ]
    }
   ],
   "source": [
    "################ Optimizacion por precios}\n",
    "#T1 [5000,11000] \n",
    "#T2 [10,150] 1398.433544436016\n",
    "#T3 [50,130] 9181.385117817237\n",
    "#T4 [-16.2,1] 9774.326487644583\n",
    "\n",
    "parametros['limits'] = np.array([0,200])\n",
    "ini = time.time()\n",
    "optimiz_result = clase_6Fun.betas_optimization_bound_prices(parametros)\n",
    "fin = time.time()\n",
    "betas_opt = optimiz_result.copy()\n",
    "curva = funciones.NelsonSiegel_m(betas_opt, venc)\n",
    "print(f'El algortimo de optimizacion por fuerza bruta en Precio tarda {(fin-ini):.2f} segundos')\n",
    "#se demora menos de un min"
   ]
  },
  {
   "cell_type": "code",
   "execution_count": 235,
   "metadata": {},
   "outputs": [
    {
     "data": {
      "text/plain": [
       "6.495992266195993"
      ]
     },
     "execution_count": 235,
     "metadata": {},
     "output_type": "execute_result"
    }
   ],
   "source": [
    "#Evaluar los precios, las TIRs y la funcion objetivo \n",
    "prices_opt = funciones.dirty_price_m_ns(betas_opt,parametros)\n",
    "tirs_opt = funciones.find_ytm_loop(parametros,prices_opt)\n",
    "funciones.find_ytm_loop(parametros,prices_opt)\n",
    "clase_6Fun.objetive_function_prices(betas_opt,parametros)\n",
    "funciones.objetive_function(betas_opt,parametros)"
   ]
  },
  {
   "cell_type": "code",
   "execution_count": 236,
   "metadata": {},
   "outputs": [
    {
     "data": {
      "image/png": "[encoded data removed]",
      "text/plain": [
       "<Figure size 432x288 with 1 Axes>"
      ]
     },
     "metadata": {
      "needs_background": "light"
     },
     "output_type": "display_data"
    }
   ],
   "source": [
    "###Grafica\n",
    "y_term = [(fin_date[k]-val_date).days/365 for k in range(len(fin_date))]\n",
    "\n",
    "#axes = plt.axes()\n",
    "#axes.set_ylim([0, 3])\n",
    "plt.plot(venc.T, curva*100,'r')\n",
    "plt.plot(np.array(y_term), np.array(discount_rates),'bo')\n",
    "plt.grid(True)\n",
    "plt.ylabel('Tasa %')\n",
    "plt.xlabel('Plazo (años)')\n",
    "plt.suptitle('Curva Cero Cupón por Precio- 100 Pseudo TES')\n",
    "#plt.savefig(cwd+'\\\\Clase_6\\\\N&S-Price_Opt.png')\n",
    "#plt.ylim(-2, 2)\n",
    "plt.show()"
   ]
  },
  {
   "cell_type": "markdown",
   "metadata": {},
   "source": [
    "## 7 Calculo medidas de riesgo duraciones y convexidad"
   ]
  },
  {
   "cell_type": "code",
   "execution_count": 421,
   "metadata": {},
   "outputs": [],
   "source": [
    "import time\n",
    "ini_0 = time.time()\n",
    "mac_dur_m = clase_6Fun.Macaulay_duration_mat(parametros_500,prices).round(15)\n",
    "ini_1 = time.time()\n",
    "mod_dur_m_2 = clase_6Fun.Modified_duration_mat_2(parametros_500,prices,mac_dur_m).round(15)\n",
    "fin_0 = time.time()\n",
    "conv_m = clase_6Fun.Convexity_mat(parametros_500,prices).round(15)"
   ]
  },
  {
   "cell_type": "code",
   "execution_count": 422,
   "metadata": {},
   "outputs": [],
   "source": [
    "ini_2 = time.time()\n",
    "mac_dur_m_loop = clase_6Fun.Macaulay_duration_mat_loop(parametros_500,prices).round(15)\n",
    "ini_3 = time.time()\n",
    "mod_dur_m_loop_2 = clase_6Fun.Modified_duration_mat_loop_2(parametros_500,prices,mac_dur_m_loop).round(15)\n",
    "ini_4 = time.time()\n",
    "conv_m_loop = clase_6Fun.Convexity_mat_loop(parametros_500,prices).round(15)\n",
    "fin_1 = time.time()"
   ]
  },
  {
   "cell_type": "code",
   "execution_count": 423,
   "metadata": {},
   "outputs": [
    {
     "data": {
      "text/plain": [
       "False"
      ]
     },
     "execution_count": 423,
     "metadata": {},
     "output_type": "execute_result"
    }
   ],
   "source": [
    "(mac_dur_m==mac_dur_m_loop).all()\n",
    "(mod_dur_m_2 == mod_dur_m_loop_2).all()\n",
    "(conv_m == conv_m_loop).all()"
   ]
  },
  {
   "cell_type": "code",
   "execution_count": 424,
   "metadata": {},
   "outputs": [
    {
     "name": "stdout",
     "output_type": "stream",
     "text": [
      "El calculo de duracion macaulay matricial para 500 titulos, tardo 0.02 segundos\n",
      "El calculo de duracion macaulay vect en loop para  500 titulos, tardo 0.02 segundos\n",
      "El calculo de duracion modificada matricial para 500 titulos,  tardo 0.00 segundos\n",
      "El calculo de duracion modificada vect en loop para 500 titulos, tardo 0.00 segundos\n",
      "El calculo de la convexidad matricial para 500 titulos, tardo 1.48 segundos\n",
      "El calculo de la convexidad vect en loop para 500 titulos, tardo 0.02 segundos\n"
     ]
    }
   ],
   "source": [
    "print(f'El calculo de duracion macaulay matricial para {n_inst} titulos, tardo {(ini_1-ini_0):.2f} segundos')\n",
    "print(f'El calculo de duracion macaulay vect en loop para  {n_inst} titulos, tardo {(ini_3-ini_2):.2f} segundos')\n",
    "\n",
    "print(f'El calculo de duracion modificada matricial para {n_inst} titulos,  tardo {(fin_0-ini_1):.2f} segundos')\n",
    "print(f'El calculo de duracion modificada vect en loop para {n_inst} titulos, tardo {(ini_4-ini_3):.2f} segundos')\n",
    "\n",
    "print(f'El calculo de la convexidad matricial para {n_inst} titulos, tardo {(ini_2-fin_0):.2f} segundos')\n",
    "print(f'El calculo de la convexidad vect en loop para {n_inst} titulos, tardo {(fin_1-ini_4):.2f} segundos')\n"
   ]
  },
  {
   "cell_type": "markdown",
   "metadata": {},
   "source": [
    "### Cargar datos tabla precios"
   ]
  },
  {
   "cell_type": "code",
   "execution_count": 427,
   "metadata": {},
   "outputs": [],
   "source": [
    "### Insertar datos\n",
    "db_object = DB_class(host=\"localhost\",user=\"root\",password=\"root\",database=\"trabajo_1\")\n",
    "class6_db = db_object.open_db()\n",
    "mi_cursor = class6_db.cursor()\n",
    "\n",
    "nemos=np.array(tes_faciales_500.nemotecnico)\n",
    "for i in range(nemos.shape[0]):\n",
    "    insert_1 = (\"UPDATE trabajo_2.tabla_precios SET \"\n",
    "            \"duracion_mac = %s,\"\n",
    "            \"duracion_mod = %s,\"\n",
    "            \"Convexidad = %s\"\n",
    "            \"WHERE nemotecnico = %s\"\n",
    "            )\n",
    "\n",
    "    valores = (mac_dur_m_loop[i], mod_dur_m_loop_2[i], conv_m_loop[i],nemos[i])\n",
    "    mi_cursor = class6_db.cursor()\n",
    "    mi_cursor.execute(insert_1, valores)\n",
    "\n",
    "    class6_db.commit()"
   ]
  },
  {
   "cell_type": "code",
   "execution_count": null,
   "metadata": {},
   "outputs": [],
   "source": []
  },
  {
   "cell_type": "code",
   "execution_count": null,
   "metadata": {},
   "outputs": [],
   "source": []
  },
  {
   "cell_type": "code",
   "execution_count": null,
   "metadata": {},
   "outputs": [],
   "source": []
  },
  {
   "cell_type": "markdown",
   "metadata": {},
   "source": [
    "### Calculo periodos por frecuencia evaluacion"
   ]
  },
  {
   "cell_type": "code",
   "execution_count": 120,
   "metadata": {},
   "outputs": [
    {
     "name": "stdout",
     "output_type": "stream",
     "text": [
      "[datetime.date(2012, 9, 11) datetime.date(2012, 12, 11)\n",
      " datetime.date(2013, 3, 11) datetime.date(2013, 6, 11)\n",
      " datetime.date(2013, 9, 11) datetime.date(2013, 12, 11)\n",
      " datetime.date(2014, 3, 11) datetime.date(2014, 6, 11)\n",
      " datetime.date(2014, 9, 11) datetime.date(2014, 12, 11)]\n"
     ]
    }
   ],
   "source": [
    "tes_faciales.fecha_emision[0]\n",
    "issue=dt.datetime.strptime(str(tes_faciales.fecha_emision[0]),'%Y-%m-%d').date()\n",
    "periodos=10\n",
    "frecuencia_0=3\n",
    "years_0=0\n",
    "months_0=0\n",
    "arr = np.array([])\n",
    "for i in range(periodos):\n",
    "    if i==0:\n",
    "        years_0=0\n",
    "    elif (frecuencia_0*i)%12==0:\n",
    "        years_0=(frecuencia_0*i)/12\n",
    "    months_0=(frecuencia_0*i)%12\n",
    "    \n",
    "    respuesta=issue + relativedelta(years=years_0) +relativedelta(months=months_0) \n",
    "    arr = np.append(arr, respuesta)    \n",
    "    #print(years_0,' - ',months_0,' - ',respuesta)\n",
    "print(arr)"
   ]
  },
  {
   "cell_type": "code",
   "execution_count": 393,
   "metadata": {},
   "outputs": [],
   "source": [
    "Ej_bon=[]\n",
    "Ej_bon_1=np.array([1,2,3])\n",
    "Ej_bon_2=np.array([20,15,21])\n",
    "Ej_bon_3=np.array([66,85,64])"
   ]
  },
  {
   "cell_type": "code",
   "execution_count": 394,
   "metadata": {},
   "outputs": [
    {
     "name": "stdout",
     "output_type": "stream",
     "text": [
      "[array([1, 2, 3])]\n",
      "[array([1, 2, 3]), array([20, 15, 21])]\n",
      "[array([1, 2, 3]), array([20, 15, 21]), array([66, 85, 64])]\n"
     ]
    }
   ],
   "source": [
    "Ej_bon.append(Ej_bon_1)\n",
    "print(Ej_bon)\n",
    "Ej_bon.append(Ej_bon_2)\n",
    "print(Ej_bon)\n",
    "Ej_bon.append(Ej_bon_3)\n",
    "print(Ej_bon)"
   ]
  },
  {
   "cell_type": "code",
   "execution_count": 395,
   "metadata": {},
   "outputs": [
    {
     "name": "stdout",
     "output_type": "stream",
     "text": [
      "[[ 1  2  3]\n",
      " [20 15 21]\n",
      " [66 85 64]]\n"
     ]
    }
   ],
   "source": [
    "Ej_bon=np.array(Ej_bon)\n",
    "print(Ej_bon)"
   ]
  },
  {
   "cell_type": "code",
   "execution_count": 382,
   "metadata": {},
   "outputs": [
    {
     "name": "stdout",
     "output_type": "stream",
     "text": [
      "[[ 1.  2.  3.]\n",
      " [20. 15. 21.]]\n"
     ]
    }
   ],
   "source": [
    "Ej_bon=np.array([Ej_bon,Ej_bon_2])\n",
    "print(Ej_bon)"
   ]
  },
  {
   "cell_type": "code",
   "execution_count": 384,
   "metadata": {},
   "outputs": [
    {
     "name": "stdout",
     "output_type": "stream",
     "text": [
      "[array([array([[ 1.,  2.,  3.],\n",
      "               [20., 15., 21.]]), array([66, 85, 64])], dtype=object)\n",
      " array([66, 85, 64])]\n"
     ]
    },
    {
     "name": "stderr",
     "output_type": "stream",
     "text": [
      "C:\\Users\\Edwin\\AppData\\Local\\Temp\\ipykernel_13404\\1632659827.py:1: VisibleDeprecationWarning: Creating an ndarray from ragged nested sequences (which is a list-or-tuple of lists-or-tuples-or ndarrays with different lengths or shapes) is deprecated. If you meant to do this, you must specify 'dtype=object' when creating the ndarray.\n",
      "  Ej_bon=np.array([Ej_bon,Ej_bon_3])\n"
     ]
    }
   ],
   "source": [
    "Ej_bon=np.array([Ej_bon,Ej_bon_3])\n",
    "print(Ej_bon)"
   ]
  },
  {
   "cell_type": "code",
   "execution_count": 379,
   "metadata": {},
   "outputs": [
    {
     "data": {
      "text/plain": [
       "array([20., 15., 21.])"
      ]
     },
     "execution_count": 379,
     "metadata": {},
     "output_type": "execute_result"
    }
   ],
   "source": [
    "Ej_bon[1]"
   ]
  },
  {
   "cell_type": "code",
   "execution_count": null,
   "metadata": {},
   "outputs": [],
   "source": []
  }
 ],
 "metadata": {
  "kernelspec": {
   "display_name": "Python 3.9.12 ('base')",
   "language": "python",
   "name": "python3"
  },
  "language_info": {
   "codemirror_mode": {
    "name": "ipython",
    "version": 3
   },
   "file_extension": ".py",
   "mimetype": "text/x-python",
   "name": "python",
   "nbconvert_exporter": "python",
   "pygments_lexer": "ipython3",
   "version": "3.9.12"
  },
  "orig_nbformat": 4,
  "vscode": {
   "interpreter": {
    "hash": "ad2bdc8ecc057115af97d19610ffacc2b4e99fae6737bb82f5d7fb13d2f2c186"
   }
  }
 },
 "nbformat": 4,
 "nbformat_minor": 2
}
