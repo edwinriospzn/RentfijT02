{
 "cells": [
  {
   "cell_type": "markdown",
   "metadata": {},
   "source": [
    "## Trabajo 02 Renta fija Sql y python - Laura Rojas - Edwin Rios"
   ]
  },
  {
   "cell_type": "markdown",
   "metadata": {},
   "source": [
    "#### Librerias"
   ]
  },
  {
   "cell_type": "code",
   "execution_count": 1,
   "metadata": {},
   "outputs": [],
   "source": [
    "import mysql.connector\n",
    "import datetime as dt\n",
    "import numpy as np\n",
    "import pandas as pd\n",
    "from dateutil.relativedelta import relativedelta\n",
    "import matplotlib.pyplot as plt\n"
   ]
  },
  {
   "cell_type": "code",
   "execution_count": 2,
   "metadata": {},
   "outputs": [],
   "source": [
    "import os\n",
    "import sys\n",
    "import inspect"
   ]
  },
  {
   "cell_type": "code",
   "execution_count": 5,
   "metadata": {},
   "outputs": [],
   "source": [
    "import Clase_6.Funciones as funciones\n",
    "from Clase_6.Funciones import DB_class\n",
    "import Clase_6.Clase_6Fun as clase_6Fun"
   ]
  },
  {
   "cell_type": "markdown",
   "metadata": {},
   "source": [
    "--funciones\\\n",
    "    |-DB_class\\\n",
    "    |-coupon_m(parametros)\\\n",
    "    |-discount_factor_m(parametros)\\\n",
    "    |-dirty_price_m(parametros)\\\n",
    "    |-dirty_price_1i(parametros,inst_pos)\\\n",
    "    |-ytm_1d_obj_func(x,i,params,prices)\\\n",
    "    |-find_ytm_loop(parametros,prices)\\\n",
    "    |-ytm_obj_func(x,params,prices)\\\n",
    "    |-find_ytm_m(parametros,prices)\\\n",
    "    |-NelsonSiegel_1d(params, ven)\\\n",
    "    |-NelsonSiegel_m(params, ven)\\\n",
    "    |-dirty_price_m_ns(betas,parametros)\\\n",
    "    |-objetive_function(betas,parametros)\\\n",
    "    |-betas_optimization(parametros)\\\n",
    "    |-betas_optimization_bound(parametros)\\"
   ]
  },
  {
   "cell_type": "markdown",
   "metadata": {},
   "source": [
    "--Clase_6Fun\\\n",
    "    |-Macaulay_duration_mat(parametros,prices)\\\n",
    "    |-Modified_duration_mat(parametros,prices)\\\n",
    "    |-Modified_duration_mat_2(parametros,prices,macaulay_duration)\\\n",
    "    |-Convexity_mat(parametros,prices)\\\n",
    "    |-Macaulay_duration_mat_loop(parametros,prices)\\\n",
    "    |-Modified_duration_mat_loop(parametros,prices)\\\n",
    "    |-Modified_duration_mat_loop_2(parametros,prices,macaulay_duration)\\\n",
    "    |-Convexity_mat_loop(parametros,prices)\\\n",
    "    |-objetive_function_prices(betas,parametros)\\\n",
    "    |-betas_optimization_bound_prices(parametros)\\"
   ]
  },
  {
   "cell_type": "code",
   "execution_count": 3,
   "metadata": {},
   "outputs": [],
   "source": [
    "import itertools\n",
    "import importlib"
   ]
  },
  {
   "cell_type": "markdown",
   "metadata": {},
   "source": [
    "#### Inclusión desde base de datos"
   ]
  },
  {
   "cell_type": "code",
   "execution_count": 4,
   "metadata": {},
   "outputs": [
    {
     "ename": "NameError",
     "evalue": "name 'DB_class' is not defined",
     "output_type": "error",
     "traceback": [
      "\u001b[1;31m---------------------------------------------------------------------------\u001b[0m",
      "\u001b[1;31mNameError\u001b[0m                                 Traceback (most recent call last)",
      "\u001b[1;32md:\\cursos\\Maestria finanzas\\S3_PySql rent fij\\Trabajo02\\Trabajo02_Laura_Edwin.ipynb Celda 10\u001b[0m in \u001b[0;36m<cell line: 1>\u001b[1;34m()\u001b[0m\n\u001b[1;32m----> <a href='vscode-notebook-cell:/d%3A/cursos/Maestria%20finanzas/S3_PySql%20rent%20fij/Trabajo02/Trabajo02_Laura_Edwin.ipynb#X12sZmlsZQ%3D%3D?line=0'>1</a>\u001b[0m db_object \u001b[39m=\u001b[39m DB_class(host\u001b[39m=\u001b[39m\u001b[39m\"\u001b[39m\u001b[39mlocalhost\u001b[39m\u001b[39m\"\u001b[39m,user\u001b[39m=\u001b[39m\u001b[39m\"\u001b[39m\u001b[39mroot\u001b[39m\u001b[39m\"\u001b[39m,password\u001b[39m=\u001b[39m\u001b[39m\"\u001b[39m\u001b[39mroot\u001b[39m\u001b[39m\"\u001b[39m,database\u001b[39m=\u001b[39m\u001b[39m\"\u001b[39m\u001b[39mtrabajo_1\u001b[39m\u001b[39m\"\u001b[39m)\n\u001b[0;32m      <a href='vscode-notebook-cell:/d%3A/cursos/Maestria%20finanzas/S3_PySql%20rent%20fij/Trabajo02/Trabajo02_Laura_Edwin.ipynb#X12sZmlsZQ%3D%3D?line=1'>2</a>\u001b[0m class2_db \u001b[39m=\u001b[39m db_object\u001b[39m.\u001b[39mopen_db()\n\u001b[0;32m      <a href='vscode-notebook-cell:/d%3A/cursos/Maestria%20finanzas/S3_PySql%20rent%20fij/Trabajo02/Trabajo02_Laura_Edwin.ipynb#X12sZmlsZQ%3D%3D?line=2'>3</a>\u001b[0m mi_cursor \u001b[39m=\u001b[39m class2_db\u001b[39m.\u001b[39mcursor()\n",
      "\u001b[1;31mNameError\u001b[0m: name 'DB_class' is not defined"
     ]
    }
   ],
   "source": [
    "db_object = DB_class(host=\"localhost\",user=\"root\",password=\"root\",database=\"trabajo_1\")\n",
    "class2_db = db_object.open_db()\n",
    "mi_cursor = class2_db.cursor()\n",
    "query = (\"SELECT * FROM trabajo_2.tabla_precios WHERE trabajo_2.tabla_precios.frecuencia_pago=1 \"+\\\n",
    "    \"order by trabajo_2.tabla_precios.Tipo, trabajo_2.tabla_precios.Indice_tipo\")\n",
    "tes_faciales = pd.read_sql(query, con=class2_db)\n",
    "display(tes_faciales)"
   ]
  },
  {
   "cell_type": "code",
   "execution_count": 7,
   "metadata": {},
   "outputs": [
    {
     "name": "stderr",
     "output_type": "stream",
     "text": [
      "C:\\Users\\Edwin\\AppData\\Roaming\\Python\\Python39\\site-packages\\pandas\\io\\sql.py:762: UserWarning: pandas only support SQLAlchemy connectable(engine/connection) ordatabase string URI or sqlite3 DBAPI2 connectionother DBAPI2 objects are not tested, please consider using SQLAlchemy\n",
      "  warnings.warn(\n"
     ]
    },
    {
     "data": {
      "text/html": [
       "<div>\n",
       "<style scoped>\n",
       "    .dataframe tbody tr th:only-of-type {\n",
       "        vertical-align: middle;\n",
       "    }\n",
       "\n",
       "    .dataframe tbody tr th {\n",
       "        vertical-align: top;\n",
       "    }\n",
       "\n",
       "    .dataframe thead th {\n",
       "        text-align: right;\n",
       "    }\n",
       "</style>\n",
       "<table border=\"1\" class=\"dataframe\">\n",
       "  <thead>\n",
       "    <tr style=\"text-align: right;\">\n",
       "      <th></th>\n",
       "      <th>Tipo</th>\n",
       "      <th>Indice_tipo</th>\n",
       "      <th>fecha_valoracion</th>\n",
       "      <th>nemotecnico</th>\n",
       "      <th>fecha_emision</th>\n",
       "      <th>fecha_vencimiento</th>\n",
       "      <th>cupon</th>\n",
       "      <th>tir</th>\n",
       "      <th>frecuencia_pago</th>\n",
       "      <th>Indicador_indexado</th>\n",
       "      <th>conteo_dias</th>\n",
       "      <th>Indice_c</th>\n",
       "      <th>fecha_indice</th>\n",
       "      <th>valor</th>\n",
       "    </tr>\n",
       "  </thead>\n",
       "  <tbody>\n",
       "    <tr>\n",
       "      <th>0</th>\n",
       "      <td>T1</td>\n",
       "      <td>1</td>\n",
       "      <td>2022-09-18</td>\n",
       "      <td>CDTOCSS6V</td>\n",
       "      <td>2012-04-12</td>\n",
       "      <td>2023-04-12</td>\n",
       "      <td>6.0</td>\n",
       "      <td>4.021916</td>\n",
       "      <td>6</td>\n",
       "      <td>No</td>\n",
       "      <td>REAL/365</td>\n",
       "      <td>No</td>\n",
       "      <td>2022-09-18</td>\n",
       "      <td>0.0</td>\n",
       "    </tr>\n",
       "    <tr>\n",
       "      <th>1</th>\n",
       "      <td>T1</td>\n",
       "      <td>2</td>\n",
       "      <td>2022-09-18</td>\n",
       "      <td>CDTGEDS6V</td>\n",
       "      <td>2012-08-26</td>\n",
       "      <td>2023-08-26</td>\n",
       "      <td>6.0</td>\n",
       "      <td>4.760056</td>\n",
       "      <td>6</td>\n",
       "      <td>No</td>\n",
       "      <td>REAL/365</td>\n",
       "      <td>No</td>\n",
       "      <td>2022-09-18</td>\n",
       "      <td>0.0</td>\n",
       "    </tr>\n",
       "    <tr>\n",
       "      <th>2</th>\n",
       "      <td>T1</td>\n",
       "      <td>3</td>\n",
       "      <td>2022-09-18</td>\n",
       "      <td>CDTDXAS6V</td>\n",
       "      <td>2012-05-15</td>\n",
       "      <td>2024-05-15</td>\n",
       "      <td>6.0</td>\n",
       "      <td>5.905344</td>\n",
       "      <td>6</td>\n",
       "      <td>No</td>\n",
       "      <td>REAL/365</td>\n",
       "      <td>No</td>\n",
       "      <td>2022-09-18</td>\n",
       "      <td>0.0</td>\n",
       "    </tr>\n",
       "    <tr>\n",
       "      <th>3</th>\n",
       "      <td>T1</td>\n",
       "      <td>4</td>\n",
       "      <td>2022-09-18</td>\n",
       "      <td>CDTVFTS6V</td>\n",
       "      <td>2012-07-24</td>\n",
       "      <td>2024-07-24</td>\n",
       "      <td>7.0</td>\n",
       "      <td>6.157886</td>\n",
       "      <td>6</td>\n",
       "      <td>No</td>\n",
       "      <td>REAL/365</td>\n",
       "      <td>No</td>\n",
       "      <td>2022-09-18</td>\n",
       "      <td>0.0</td>\n",
       "    </tr>\n",
       "    <tr>\n",
       "      <th>4</th>\n",
       "      <td>T1</td>\n",
       "      <td>5</td>\n",
       "      <td>2022-09-18</td>\n",
       "      <td>CDTAOFS6V</td>\n",
       "      <td>2014-12-20</td>\n",
       "      <td>2024-12-20</td>\n",
       "      <td>5.0</td>\n",
       "      <td>6.634711</td>\n",
       "      <td>6</td>\n",
       "      <td>No</td>\n",
       "      <td>REAL/365</td>\n",
       "      <td>No</td>\n",
       "      <td>2022-09-18</td>\n",
       "      <td>0.0</td>\n",
       "    </tr>\n",
       "    <tr>\n",
       "      <th>...</th>\n",
       "      <td>...</td>\n",
       "      <td>...</td>\n",
       "      <td>...</td>\n",
       "      <td>...</td>\n",
       "      <td>...</td>\n",
       "      <td>...</td>\n",
       "      <td>...</td>\n",
       "      <td>...</td>\n",
       "      <td>...</td>\n",
       "      <td>...</td>\n",
       "      <td>...</td>\n",
       "      <td>...</td>\n",
       "      <td>...</td>\n",
       "      <td>...</td>\n",
       "    </tr>\n",
       "    <tr>\n",
       "      <th>495</th>\n",
       "      <td>T5</td>\n",
       "      <td>96</td>\n",
       "      <td>2022-09-18</td>\n",
       "      <td>TUVTZT360</td>\n",
       "      <td>2021-02-13</td>\n",
       "      <td>2050-02-13</td>\n",
       "      <td>3.0</td>\n",
       "      <td>9.828134</td>\n",
       "      <td>12</td>\n",
       "      <td>No</td>\n",
       "      <td>REAL/360</td>\n",
       "      <td>No</td>\n",
       "      <td>2022-09-18</td>\n",
       "      <td>0.0</td>\n",
       "    </tr>\n",
       "    <tr>\n",
       "      <th>496</th>\n",
       "      <td>T5</td>\n",
       "      <td>97</td>\n",
       "      <td>2022-09-18</td>\n",
       "      <td>TUVTYO360</td>\n",
       "      <td>2017-09-04</td>\n",
       "      <td>2050-09-04</td>\n",
       "      <td>3.0</td>\n",
       "      <td>9.843179</td>\n",
       "      <td>12</td>\n",
       "      <td>No</td>\n",
       "      <td>REAL/360</td>\n",
       "      <td>No</td>\n",
       "      <td>2022-09-18</td>\n",
       "      <td>0.0</td>\n",
       "    </tr>\n",
       "    <tr>\n",
       "      <th>497</th>\n",
       "      <td>T5</td>\n",
       "      <td>98</td>\n",
       "      <td>2022-09-18</td>\n",
       "      <td>TUVTXV360</td>\n",
       "      <td>2015-06-16</td>\n",
       "      <td>2050-06-16</td>\n",
       "      <td>5.0</td>\n",
       "      <td>9.837320</td>\n",
       "      <td>12</td>\n",
       "      <td>No</td>\n",
       "      <td>REAL/360</td>\n",
       "      <td>No</td>\n",
       "      <td>2022-09-18</td>\n",
       "      <td>0.0</td>\n",
       "    </tr>\n",
       "    <tr>\n",
       "      <th>498</th>\n",
       "      <td>T5</td>\n",
       "      <td>99</td>\n",
       "      <td>2022-09-18</td>\n",
       "      <td>TUVTHB360</td>\n",
       "      <td>2020-11-19</td>\n",
       "      <td>2050-11-19</td>\n",
       "      <td>5.0</td>\n",
       "      <td>9.848664</td>\n",
       "      <td>12</td>\n",
       "      <td>No</td>\n",
       "      <td>REAL/360</td>\n",
       "      <td>No</td>\n",
       "      <td>2022-09-18</td>\n",
       "      <td>0.0</td>\n",
       "    </tr>\n",
       "    <tr>\n",
       "      <th>499</th>\n",
       "      <td>T5</td>\n",
       "      <td>100</td>\n",
       "      <td>2022-09-18</td>\n",
       "      <td>TUVTPX360</td>\n",
       "      <td>2012-12-10</td>\n",
       "      <td>2050-12-10</td>\n",
       "      <td>3.0</td>\n",
       "      <td>9.850165</td>\n",
       "      <td>12</td>\n",
       "      <td>No</td>\n",
       "      <td>REAL/360</td>\n",
       "      <td>No</td>\n",
       "      <td>2022-09-18</td>\n",
       "      <td>0.0</td>\n",
       "    </tr>\n",
       "  </tbody>\n",
       "</table>\n",
       "<p>500 rows × 14 columns</p>\n",
       "</div>"
      ],
      "text/plain": [
       "    Tipo  Indice_tipo fecha_valoracion nemotecnico fecha_emision  \\\n",
       "0     T1            1       2022-09-18   CDTOCSS6V    2012-04-12   \n",
       "1     T1            2       2022-09-18   CDTGEDS6V    2012-08-26   \n",
       "2     T1            3       2022-09-18   CDTDXAS6V    2012-05-15   \n",
       "3     T1            4       2022-09-18   CDTVFTS6V    2012-07-24   \n",
       "4     T1            5       2022-09-18   CDTAOFS6V    2014-12-20   \n",
       "..   ...          ...              ...         ...           ...   \n",
       "495   T5           96       2022-09-18   TUVTZT360    2021-02-13   \n",
       "496   T5           97       2022-09-18   TUVTYO360    2017-09-04   \n",
       "497   T5           98       2022-09-18   TUVTXV360    2015-06-16   \n",
       "498   T5           99       2022-09-18   TUVTHB360    2020-11-19   \n",
       "499   T5          100       2022-09-18   TUVTPX360    2012-12-10   \n",
       "\n",
       "    fecha_vencimiento  cupon       tir  frecuencia_pago Indicador_indexado  \\\n",
       "0          2023-04-12    6.0  4.021916                6                 No   \n",
       "1          2023-08-26    6.0  4.760056                6                 No   \n",
       "2          2024-05-15    6.0  5.905344                6                 No   \n",
       "3          2024-07-24    7.0  6.157886                6                 No   \n",
       "4          2024-12-20    5.0  6.634711                6                 No   \n",
       "..                ...    ...       ...              ...                ...   \n",
       "495        2050-02-13    3.0  9.828134               12                 No   \n",
       "496        2050-09-04    3.0  9.843179               12                 No   \n",
       "497        2050-06-16    5.0  9.837320               12                 No   \n",
       "498        2050-11-19    5.0  9.848664               12                 No   \n",
       "499        2050-12-10    3.0  9.850165               12                 No   \n",
       "\n",
       "    conteo_dias Indice_c fecha_indice  valor  \n",
       "0      REAL/365       No   2022-09-18    0.0  \n",
       "1      REAL/365       No   2022-09-18    0.0  \n",
       "2      REAL/365       No   2022-09-18    0.0  \n",
       "3      REAL/365       No   2022-09-18    0.0  \n",
       "4      REAL/365       No   2022-09-18    0.0  \n",
       "..          ...      ...          ...    ...  \n",
       "495    REAL/360       No   2022-09-18    0.0  \n",
       "496    REAL/360       No   2022-09-18    0.0  \n",
       "497    REAL/360       No   2022-09-18    0.0  \n",
       "498    REAL/360       No   2022-09-18    0.0  \n",
       "499    REAL/360       No   2022-09-18    0.0  \n",
       "\n",
       "[500 rows x 14 columns]"
      ]
     },
     "metadata": {},
     "output_type": "display_data"
    }
   ],
   "source": [
    "db_object = DB_class(host=\"localhost\",user=\"root\",password=\"root\",database=\"trabajo_1\")\n",
    "class2_db = db_object.open_db()\n",
    "mi_cursor = class2_db.cursor()\n",
    "query = (\n",
    "'SELECT '+\\\n",
    "'trabajo_2.tabla_precios.Tipo,'+\\\n",
    "'trabajo_2.tabla_precios.Indice_tipo,'+\\\n",
    "'trabajo_2.tabla_precios.fecha_valoracion,'+\\\n",
    "'trabajo_2.tabla_precios.nemotecnico,'+\\\n",
    "'trabajo_2.tabla_precios.fecha_emision,'+\\\n",
    "'trabajo_2.tabla_precios.fecha_vencimiento,'+\\\n",
    "'trabajo_2.tabla_precios.cupon,'+\\\n",
    "'trabajo_2.tabla_precios.tir,'+\\\n",
    "'trabajo_2.tabla_precios.frecuencia_pago,'+\\\n",
    "'trabajo_2.tabla_precios.Indicador_indexado,'+\\\n",
    "'trabajo_2.tabla_precios.conteo_dias,'+\\\n",
    "'trabajo_2.tabla_indices.Indice_c,'+\\\n",
    "'trabajo_2.tabla_indices.fecha_indice,'+\\\n",
    "'trabajo_2.tabla_indices.valor '+\\\n",
    "'FROM trabajo_2.tabla_precios '+\\\n",
    "'left join trabajo_2.tabla_indices '+\\\n",
    "'on '+\\\n",
    "'concat(trabajo_2.tabla_indices.Indice_c,trabajo_2.tabla_indices.fecha_indice) ='+\\\n",
    "'concat(trabajo_2.tabla_precios.Indicador_indexado,trabajo_2.tabla_precios.fecha_valoracion) '+\\\n",
    "'where '+\\\n",
    "'trabajo_2.tabla_precios.Tipo in (\\'T1\\',\\'T2\\',\\'T3\\',\\'T4\\',\\'T5\\') '+\\\n",
    "'order by trabajo_2.tabla_precios.Tipo, trabajo_2.tabla_precios.Indice_tipo'\n",
    ")\n",
    "tes_faciales = pd.read_sql(query, con=class2_db)\n",
    "display(tes_faciales)"
   ]
  },
  {
   "cell_type": "code",
   "execution_count": null,
   "metadata": {},
   "outputs": [],
   "source": []
  },
  {
   "cell_type": "code",
   "execution_count": 8,
   "metadata": {},
   "outputs": [],
   "source": [
    "val_date= tes_faciales.fecha_valoracion.drop_duplicates()[0]\n",
    "ini_date = tes_faciales.fecha_emision\n",
    "fin_date = tes_faciales.fecha_vencimiento\n",
    "cpn =  tes_faciales.cupon\n",
    "discount_rates = tes_faciales.tir.copy()\n",
    "frec_pag=tes_faciales.frecuencia_pago\n",
    "indicador=tes_faciales.valor\n",
    "conteo_dias=tes_faciales.conteo_dias\n",
    "discount_rates_ind=((1+discount_rates/100)*(1+indicador/100)-1)*100\n",
    "\n",
    "discount_rates_consol=tes_faciales.tir.copy()\n",
    "for i in range(len(discount_rates)):\n",
    "    if indicador[i]==0:\n",
    "        discount_rates_consol[i]=discount_rates[i]\n",
    "    else:\n",
    "        discount_rates_consol[i]=discount_rates_ind[i]\n"
   ]
  },
  {
   "cell_type": "code",
   "execution_count": 9,
   "metadata": {},
   "outputs": [],
   "source": [
    "### titulos\n",
    "mul_inst = 1 #intentar 1, 100 y 10000\n",
    "parametros = dict({\n",
    "        'val_date':val_date, \n",
    "        'ini_date':np.tile(ini_date,mul_inst), \n",
    "        'fin_date':np.tile(fin_date,mul_inst), \n",
    "        'coupon':np.tile(cpn,mul_inst),\n",
    "        'discount_rates':np.tile(discount_rates_consol,mul_inst),\n",
    "        'conteo_dias':np.tile(conteo_dias,mul_inst),\n",
    "        'frec_pag':np.tile(frec_pag,mul_inst),\n",
    "        'indicador':np.tile(indicador,mul_inst),\n",
    "        'limits':np.array([-20,20])\n",
    "        })"
   ]
  },
  {
   "cell_type": "code",
   "execution_count": 10,
   "metadata": {},
   "outputs": [
    {
     "data": {
      "text/plain": [
       "<module 'Clase_6.Funciones' from 'd:\\\\cursos\\\\Maestria finanzas\\\\S3_PySql rent fij\\\\Trabajo02\\\\Clase_6\\\\Funciones.py'>"
      ]
     },
     "execution_count": 10,
     "metadata": {},
     "output_type": "execute_result"
    }
   ],
   "source": [
    "importlib.reload(funciones)"
   ]
  },
  {
   "cell_type": "code",
   "execution_count": 11,
   "metadata": {},
   "outputs": [],
   "source": [
    "n_inst = len(parametros['coupon'])\n",
    "## Funcion de matriz de cupones\n",
    "coupon_dict = funciones.coupon_mGen(parametros)\n",
    "parametros['cpn_dict'] = coupon_dict\n",
    "\n",
    "parametros['delta_t'] = coupon_dict['days_matrix']\n",
    "parametros['discount_factors'] = funciones.discount_factor_m(parametros)\n",
    "\n",
    "prices = funciones.dirty_price_m(parametros)\n"
   ]
  },
  {
   "cell_type": "code",
   "execution_count": 12,
   "metadata": {},
   "outputs": [],
   "source": [
    "os.getcwd()"
   ]
  },
  {
   "cell_type": "code",
   "execution_count": 14,
   "metadata": {},
   "outputs": [],
   "source": [
    "Df_resultadoPrice=tes_faciales\n",
    "Df_resultadoPrice['priceC']=prices\n",
    "Df_resultadoPrice.to_excel (r'd:/cursos/Maestria finanzas/S3_PySql rent fij/Trabajo02/calculoprecio.xlsx', index = False, header=True)\n"
   ]
  },
  {
   "cell_type": "code",
   "execution_count": 17,
   "metadata": {},
   "outputs": [],
   "source": [
    "import time\n",
    "ini_0 = time.time()\n",
    "mac_dur_m = clase_6Fun.Macaulay_duration_mat(parametros,prices).round(15)\n",
    "ini_1 = time.time()\n",
    "mod_dur_m_2 = clase_6Fun.Modified_duration_mat_2(parametros,prices,mac_dur_m).round(15)\n",
    "fin_0 = time.time()\n",
    "conv_m = clase_6Fun.Convexity_mat(parametros,prices).round(15)"
   ]
  },
  {
   "cell_type": "code",
   "execution_count": 18,
   "metadata": {},
   "outputs": [],
   "source": [
    "ini_2 = time.time()\n",
    "mac_dur_m_loop = clase_6Fun.Macaulay_duration_mat_loop(parametros,prices).round(15)\n",
    "ini_3 = time.time()\n",
    "mod_dur_m_loop_2 = clase_6Fun.Modified_duration_mat_loop_2(parametros,prices,mac_dur_m_loop).round(15)\n",
    "ini_4 = time.time()\n",
    "conv_m_loop = clase_6Fun.Convexity_mat_loop(parametros,prices).round(15)\n",
    "fin_1 = time.time()"
   ]
  },
  {
   "cell_type": "code",
   "execution_count": 19,
   "metadata": {},
   "outputs": [
    {
     "data": {
      "text/plain": [
       "False"
      ]
     },
     "execution_count": 19,
     "metadata": {},
     "output_type": "execute_result"
    }
   ],
   "source": [
    "(mac_dur_m==mac_dur_m_loop).all()\n",
    "(mod_dur_m_2 == mod_dur_m_loop_2).all()\n",
    "(conv_m == conv_m_loop).all()"
   ]
  },
  {
   "cell_type": "code",
   "execution_count": 20,
   "metadata": {},
   "outputs": [
    {
     "name": "stdout",
     "output_type": "stream",
     "text": [
      "El calculo de duracion macaulay matricial para 500 titulos, tardo 0.02 segundos\n",
      "El calculo de duracion macaulay vect en loop para  500 titulos, tardo 0.07 segundos\n",
      "El calculo de duracion modificada matricial para 500 titulos,  tardo 0.00 segundos\n",
      "El calculo de duracion modificada vect en loop para 500 titulos, tardo 0.00 segundos\n",
      "El calculo de la convexidad matricial para 500 titulos, tardo 2.43 segundos\n",
      "El calculo de la convexidad vect en loop para 500 titulos, tardo 0.02 segundos\n"
     ]
    }
   ],
   "source": [
    "print(f'El calculo de duracion macaulay matricial para {n_inst} titulos, tardo {(ini_1-ini_0):.2f} segundos')\n",
    "print(f'El calculo de duracion macaulay vect en loop para  {n_inst} titulos, tardo {(ini_3-ini_2):.2f} segundos')\n",
    "\n",
    "print(f'El calculo de duracion modificada matricial para {n_inst} titulos,  tardo {(fin_0-ini_1):.2f} segundos')\n",
    "print(f'El calculo de duracion modificada vect en loop para {n_inst} titulos, tardo {(ini_4-ini_3):.2f} segundos')\n",
    "\n",
    "print(f'El calculo de la convexidad matricial para {n_inst} titulos, tardo {(ini_2-fin_0):.2f} segundos')\n",
    "print(f'El calculo de la convexidad vect en loop para {n_inst} titulos, tardo {(fin_1-ini_4):.2f} segundos')\n"
   ]
  },
  {
   "cell_type": "code",
   "execution_count": 21,
   "metadata": {},
   "outputs": [],
   "source": [
    "import matplotlib.pyplot as plt\n",
    "import os"
   ]
  },
  {
   "cell_type": "code",
   "execution_count": 220,
   "metadata": {},
   "outputs": [
    {
     "name": "stderr",
     "output_type": "stream",
     "text": [
      "C:\\Users\\Edwin\\AppData\\Roaming\\Python\\Python39\\site-packages\\pandas\\io\\sql.py:762: UserWarning: pandas only support SQLAlchemy connectable(engine/connection) ordatabase string URI or sqlite3 DBAPI2 connectionother DBAPI2 objects are not tested, please consider using SQLAlchemy\n",
      "  warnings.warn(\n"
     ]
    }
   ],
   "source": [
    "db_object = DB_class(host=\"localhost\",user=\"root\",password=\"root\",database=\"trabajo_1\")\n",
    "class6_db = db_object.open_db()\n",
    "mi_cursor = class6_db.cursor()\n",
    "query = (\n",
    "'SELECT '+\\\n",
    "'trabajo_2.tabla_precios.Tipo,'+\\\n",
    "'trabajo_2.tabla_precios.Indice_tipo,'+\\\n",
    "'trabajo_2.tabla_precios.fecha_valoracion,'+\\\n",
    "'trabajo_2.tabla_precios.nemotecnico,'+\\\n",
    "'trabajo_2.tabla_precios.fecha_emision,'+\\\n",
    "'trabajo_2.tabla_precios.fecha_vencimiento,'+\\\n",
    "'trabajo_2.tabla_precios.cupon,'+\\\n",
    "'trabajo_2.tabla_precios.tir,'+\\\n",
    "'trabajo_2.tabla_precios.frecuencia_pago,'+\\\n",
    "'trabajo_2.tabla_precios.Indicador_indexado,'+\\\n",
    "'trabajo_2.tabla_precios.conteo_dias,'+\\\n",
    "'trabajo_2.tabla_indices.Indice_c,'+\\\n",
    "'trabajo_2.tabla_indices.fecha_indice,'+\\\n",
    "'trabajo_2.tabla_indices.valor '+\\\n",
    "'FROM trabajo_2.tabla_precios '+\\\n",
    "'left join trabajo_2.tabla_indices '+\\\n",
    "'on '+\\\n",
    "'concat(trabajo_2.tabla_indices.Indice_c,trabajo_2.tabla_indices.fecha_indice) ='+\\\n",
    "'concat(trabajo_2.tabla_precios.Indicador_indexado,trabajo_2.tabla_precios.fecha_valoracion) '+\\\n",
    "'where '+\\\n",
    "'trabajo_2.tabla_precios.Tipo in (\\'T5\\') '+\\\n",
    "'order by trabajo_2.tabla_precios.Tipo, trabajo_2.tabla_precios.Indice_tipo'\n",
    ")\n",
    "tes_faciales = pd.read_sql(query, con=class6_db)\n",
    "\n"
   ]
  },
  {
   "cell_type": "code",
   "execution_count": 221,
   "metadata": {},
   "outputs": [],
   "source": [
    "val_date= tes_faciales.fecha_valoracion.drop_duplicates()[0]\n",
    "ini_date = tes_faciales.fecha_emision\n",
    "fin_date = tes_faciales.fecha_vencimiento\n",
    "cpn =  tes_faciales.cupon\n",
    "discount_rates = tes_faciales.tir"
   ]
  },
  {
   "cell_type": "code",
   "execution_count": 222,
   "metadata": {},
   "outputs": [],
   "source": [
    "parametros = dict({\n",
    "        'val_date':val_date, \n",
    "        'ini_date':ini_date, \n",
    "        'fin_date':fin_date, \n",
    "        'coupon':cpn,\n",
    "        'discount_rates': discount_rates,\n",
    "        'limits':np.array([0,200])\n",
    "        })\n"
   ]
  },
  {
   "cell_type": "code",
   "execution_count": 223,
   "metadata": {},
   "outputs": [],
   "source": [
    "## Funcion de matriz de cupones\n",
    "coupon_dict = funciones.coupon_m(parametros)\n",
    "parametros['cpn_dict'] = coupon_dict\n",
    "parametros['delta_t'] = coupon_dict['days_matrix']/365\n",
    "prices_01= funciones.dirty_price_m(parametros)\n",
    "\n",
    "parametros['mkt_prices'] = funciones.dirty_price_m(parametros)\n",
    "\n",
    "##### Calcular los betas\n",
    "venc = coupon_dict['days_matrix']/365"
   ]
  },
  {
   "cell_type": "code",
   "execution_count": 224,
   "metadata": {},
   "outputs": [],
   "source": [
    "Df_resultadoPrice=tes_faciales\n",
    "Df_resultadoPrice['priceC']=prices_01\n",
    "Df_resultadoPrice.to_excel (r'd:/cursos/Maestria finanzas/S3_PySql rent fij/Trabajo02/calculoprecioT5.xlsx', index = False, header=True)\n"
   ]
  },
  {
   "cell_type": "code",
   "execution_count": 225,
   "metadata": {},
   "outputs": [
    {
     "name": "stderr",
     "output_type": "stream",
     "text": [
      "d:\\cursos\\Maestria finanzas\\S3_PySql rent fij\\Trabajo02\\Clase_6\\Funciones.py:584: RuntimeWarning: divide by zero encountered in true_divide\n",
      "  y = beta_0+params[1]*((1-np.exp(-ven/params[3]))/(ven/params[3]))+\\\n",
      "d:\\cursos\\Maestria finanzas\\S3_PySql rent fij\\Trabajo02\\Clase_6\\Funciones.py:585: RuntimeWarning: divide by zero encountered in true_divide\n",
      "  params[2]*((1-np.exp(-ven/params[3]))/(ven/params[3])- \\\n",
      "d:\\cursos\\Maestria finanzas\\S3_PySql rent fij\\Trabajo02\\Clase_6\\Funciones.py:586: RuntimeWarning: divide by zero encountered in true_divide\n",
      "  np.exp(-ven/params[3]))\n"
     ]
    },
    {
     "name": "stdout",
     "output_type": "stream",
     "text": [
      "El algortimo de optimizacion por fuerza bruta en Precio tarda 33.42 segundos\n"
     ]
    }
   ],
   "source": [
    "################ Optimizacion por precios\n",
    "parametros['limits'] = np.array([0,200])\n",
    "ini = time.time()\n",
    "optimiz_result = clase_6Fun.betas_optimization_bound_prices(parametros)\n",
    "fin = time.time()\n",
    "betas_opt = optimiz_result.copy()\n",
    "curva = funciones.NelsonSiegel_m(betas_opt, venc)\n",
    "print(f'El algortimo de optimizacion por fuerza bruta en Precio tarda {(fin-ini):.2f} segundos')\n",
    "#se demora menos de un min"
   ]
  },
  {
   "cell_type": "code",
   "execution_count": 226,
   "metadata": {},
   "outputs": [
    {
     "name": "stderr",
     "output_type": "stream",
     "text": [
      "d:\\cursos\\Maestria finanzas\\S3_PySql rent fij\\Trabajo02\\Clase_6\\Funciones.py:439: RuntimeWarning: invalid value encountered in power\n",
      "  disc = (1/(1+d_r/100)**delta_t).T\n"
     ]
    },
    {
     "data": {
      "text/plain": [
       "6.736960713554707"
      ]
     },
     "execution_count": 226,
     "metadata": {},
     "output_type": "execute_result"
    }
   ],
   "source": [
    "#Evaluar los precios, las TIRs y la funcion objetivo \n",
    "prices_opt = funciones.dirty_price_m_ns(betas_opt,parametros)\n",
    "tirs_opt = funciones.find_ytm_loop(parametros,prices_opt)\n",
    "funciones.find_ytm_loop(parametros,prices_opt)\n",
    "clase_6Fun.objetive_function_prices(betas_opt,parametros)\n",
    "funciones.objetive_function(betas_opt,parametros)"
   ]
  },
  {
   "cell_type": "code",
   "execution_count": 227,
   "metadata": {},
   "outputs": [
    {
     "data": {
      "image/png": "[encoded data removed]",
      "text/plain": [
       "<Figure size 432x288 with 1 Axes>"
      ]
     },
     "metadata": {
      "needs_background": "light"
     },
     "output_type": "display_data"
    }
   ],
   "source": [
    "###Grafica\n",
    "y_term = [(fin_date[k]-val_date).days/365 for k in range(len(fin_date))]\n",
    "plt.plot(venc.T, curva*100,'r')\n",
    "plt.plot(np.array(y_term), np.array(discount_rates),'bo')\n",
    "plt.grid(True)\n",
    "plt.ylabel('Tasa %')\n",
    "plt.xlabel('Plazo (años)')\n",
    "plt.suptitle('Curva Cero Cupón por Precio- 100 Pseudo TES')\n",
    "#plt.savefig(cwd+'\\\\Clase_6\\\\N&S-Price_Opt.png')\n",
    "plt.show()"
   ]
  },
  {
   "cell_type": "code",
   "execution_count": 207,
   "metadata": {},
   "outputs": [
    {
     "name": "stderr",
     "output_type": "stream",
     "text": [
      "C:\\Users\\Edwin\\AppData\\Roaming\\Python\\Python39\\site-packages\\pandas\\io\\sql.py:762: UserWarning: pandas only support SQLAlchemy connectable(engine/connection) ordatabase string URI or sqlite3 DBAPI2 connectionother DBAPI2 objects are not tested, please consider using SQLAlchemy\n",
      "  warnings.warn(\n"
     ]
    },
    {
     "data": {
      "text/html": [
       "<div>\n",
       "<style scoped>\n",
       "    .dataframe tbody tr th:only-of-type {\n",
       "        vertical-align: middle;\n",
       "    }\n",
       "\n",
       "    .dataframe tbody tr th {\n",
       "        vertical-align: top;\n",
       "    }\n",
       "\n",
       "    .dataframe thead th {\n",
       "        text-align: right;\n",
       "    }\n",
       "</style>\n",
       "<table border=\"1\" class=\"dataframe\">\n",
       "  <thead>\n",
       "    <tr style=\"text-align: right;\">\n",
       "      <th></th>\n",
       "      <th>Tipo</th>\n",
       "      <th>Indice_tipo</th>\n",
       "      <th>fecha_valoracion</th>\n",
       "      <th>nemotecnico</th>\n",
       "      <th>fecha_emision</th>\n",
       "      <th>fecha_vencimiento</th>\n",
       "      <th>cupon</th>\n",
       "      <th>tir</th>\n",
       "      <th>frecuencia_pago</th>\n",
       "      <th>Indicador_indexado</th>\n",
       "      <th>conteo_dias</th>\n",
       "      <th>Indice_c</th>\n",
       "      <th>fecha_indice</th>\n",
       "      <th>valor</th>\n",
       "    </tr>\n",
       "  </thead>\n",
       "  <tbody>\n",
       "    <tr>\n",
       "      <th>0</th>\n",
       "      <td>T5</td>\n",
       "      <td>1</td>\n",
       "      <td>2022-09-18</td>\n",
       "      <td>TUVTKQ360</td>\n",
       "      <td>2018-02-23</td>\n",
       "      <td>2023-02-23</td>\n",
       "      <td>4.0</td>\n",
       "      <td>6.224317</td>\n",
       "      <td>12</td>\n",
       "      <td>No</td>\n",
       "      <td>REAL/360</td>\n",
       "      <td>No</td>\n",
       "      <td>2022-09-18</td>\n",
       "      <td>0.0</td>\n",
       "    </tr>\n",
       "    <tr>\n",
       "      <th>1</th>\n",
       "      <td>T5</td>\n",
       "      <td>2</td>\n",
       "      <td>2022-09-18</td>\n",
       "      <td>TUVATFJ360</td>\n",
       "      <td>2012-06-24</td>\n",
       "      <td>2023-06-24</td>\n",
       "      <td>3.0</td>\n",
       "      <td>6.368231</td>\n",
       "      <td>12</td>\n",
       "      <td>No</td>\n",
       "      <td>REAL/360</td>\n",
       "      <td>No</td>\n",
       "      <td>2022-09-18</td>\n",
       "      <td>0.0</td>\n",
       "    </tr>\n",
       "    <tr>\n",
       "      <th>2</th>\n",
       "      <td>T5</td>\n",
       "      <td>3</td>\n",
       "      <td>2022-09-18</td>\n",
       "      <td>TUVTRE360</td>\n",
       "      <td>2015-11-04</td>\n",
       "      <td>2023-11-04</td>\n",
       "      <td>3.0</td>\n",
       "      <td>6.519757</td>\n",
       "      <td>12</td>\n",
       "      <td>No</td>\n",
       "      <td>REAL/360</td>\n",
       "      <td>No</td>\n",
       "      <td>2022-09-18</td>\n",
       "      <td>0.0</td>\n",
       "    </tr>\n",
       "    <tr>\n",
       "      <th>3</th>\n",
       "      <td>T5</td>\n",
       "      <td>4</td>\n",
       "      <td>2022-09-18</td>\n",
       "      <td>TUVTAF360</td>\n",
       "      <td>2018-05-23</td>\n",
       "      <td>2024-05-23</td>\n",
       "      <td>4.0</td>\n",
       "      <td>6.736134</td>\n",
       "      <td>12</td>\n",
       "      <td>No</td>\n",
       "      <td>REAL/360</td>\n",
       "      <td>No</td>\n",
       "      <td>2022-09-18</td>\n",
       "      <td>0.0</td>\n",
       "    </tr>\n",
       "    <tr>\n",
       "      <th>4</th>\n",
       "      <td>T5</td>\n",
       "      <td>5</td>\n",
       "      <td>2022-09-18</td>\n",
       "      <td>TUVTXA360</td>\n",
       "      <td>2014-11-16</td>\n",
       "      <td>2024-11-16</td>\n",
       "      <td>4.0</td>\n",
       "      <td>6.914768</td>\n",
       "      <td>12</td>\n",
       "      <td>No</td>\n",
       "      <td>REAL/360</td>\n",
       "      <td>No</td>\n",
       "      <td>2022-09-18</td>\n",
       "      <td>0.0</td>\n",
       "    </tr>\n",
       "    <tr>\n",
       "      <th>...</th>\n",
       "      <td>...</td>\n",
       "      <td>...</td>\n",
       "      <td>...</td>\n",
       "      <td>...</td>\n",
       "      <td>...</td>\n",
       "      <td>...</td>\n",
       "      <td>...</td>\n",
       "      <td>...</td>\n",
       "      <td>...</td>\n",
       "      <td>...</td>\n",
       "      <td>...</td>\n",
       "      <td>...</td>\n",
       "      <td>...</td>\n",
       "      <td>...</td>\n",
       "    </tr>\n",
       "    <tr>\n",
       "      <th>95</th>\n",
       "      <td>T5</td>\n",
       "      <td>96</td>\n",
       "      <td>2022-09-18</td>\n",
       "      <td>TUVTZT360</td>\n",
       "      <td>2021-02-13</td>\n",
       "      <td>2050-02-13</td>\n",
       "      <td>3.0</td>\n",
       "      <td>9.828134</td>\n",
       "      <td>12</td>\n",
       "      <td>No</td>\n",
       "      <td>REAL/360</td>\n",
       "      <td>No</td>\n",
       "      <td>2022-09-18</td>\n",
       "      <td>0.0</td>\n",
       "    </tr>\n",
       "    <tr>\n",
       "      <th>96</th>\n",
       "      <td>T5</td>\n",
       "      <td>97</td>\n",
       "      <td>2022-09-18</td>\n",
       "      <td>TUVTYO360</td>\n",
       "      <td>2017-09-04</td>\n",
       "      <td>2050-09-04</td>\n",
       "      <td>3.0</td>\n",
       "      <td>9.843179</td>\n",
       "      <td>12</td>\n",
       "      <td>No</td>\n",
       "      <td>REAL/360</td>\n",
       "      <td>No</td>\n",
       "      <td>2022-09-18</td>\n",
       "      <td>0.0</td>\n",
       "    </tr>\n",
       "    <tr>\n",
       "      <th>97</th>\n",
       "      <td>T5</td>\n",
       "      <td>98</td>\n",
       "      <td>2022-09-18</td>\n",
       "      <td>TUVTXV360</td>\n",
       "      <td>2015-06-16</td>\n",
       "      <td>2050-06-16</td>\n",
       "      <td>5.0</td>\n",
       "      <td>9.837320</td>\n",
       "      <td>12</td>\n",
       "      <td>No</td>\n",
       "      <td>REAL/360</td>\n",
       "      <td>No</td>\n",
       "      <td>2022-09-18</td>\n",
       "      <td>0.0</td>\n",
       "    </tr>\n",
       "    <tr>\n",
       "      <th>98</th>\n",
       "      <td>T5</td>\n",
       "      <td>99</td>\n",
       "      <td>2022-09-18</td>\n",
       "      <td>TUVTHB360</td>\n",
       "      <td>2020-11-19</td>\n",
       "      <td>2050-11-19</td>\n",
       "      <td>5.0</td>\n",
       "      <td>9.848664</td>\n",
       "      <td>12</td>\n",
       "      <td>No</td>\n",
       "      <td>REAL/360</td>\n",
       "      <td>No</td>\n",
       "      <td>2022-09-18</td>\n",
       "      <td>0.0</td>\n",
       "    </tr>\n",
       "    <tr>\n",
       "      <th>99</th>\n",
       "      <td>T5</td>\n",
       "      <td>100</td>\n",
       "      <td>2022-09-18</td>\n",
       "      <td>TUVTPX360</td>\n",
       "      <td>2012-12-10</td>\n",
       "      <td>2050-12-10</td>\n",
       "      <td>3.0</td>\n",
       "      <td>9.850165</td>\n",
       "      <td>12</td>\n",
       "      <td>No</td>\n",
       "      <td>REAL/360</td>\n",
       "      <td>No</td>\n",
       "      <td>2022-09-18</td>\n",
       "      <td>0.0</td>\n",
       "    </tr>\n",
       "  </tbody>\n",
       "</table>\n",
       "<p>100 rows × 14 columns</p>\n",
       "</div>"
      ],
      "text/plain": [
       "   Tipo  Indice_tipo fecha_valoracion nemotecnico fecha_emision  \\\n",
       "0    T5            1       2022-09-18   TUVTKQ360    2018-02-23   \n",
       "1    T5            2       2022-09-18  TUVATFJ360    2012-06-24   \n",
       "2    T5            3       2022-09-18   TUVTRE360    2015-11-04   \n",
       "3    T5            4       2022-09-18   TUVTAF360    2018-05-23   \n",
       "4    T5            5       2022-09-18   TUVTXA360    2014-11-16   \n",
       "..  ...          ...              ...         ...           ...   \n",
       "95   T5           96       2022-09-18   TUVTZT360    2021-02-13   \n",
       "96   T5           97       2022-09-18   TUVTYO360    2017-09-04   \n",
       "97   T5           98       2022-09-18   TUVTXV360    2015-06-16   \n",
       "98   T5           99       2022-09-18   TUVTHB360    2020-11-19   \n",
       "99   T5          100       2022-09-18   TUVTPX360    2012-12-10   \n",
       "\n",
       "   fecha_vencimiento  cupon       tir  frecuencia_pago Indicador_indexado  \\\n",
       "0         2023-02-23    4.0  6.224317               12                 No   \n",
       "1         2023-06-24    3.0  6.368231               12                 No   \n",
       "2         2023-11-04    3.0  6.519757               12                 No   \n",
       "3         2024-05-23    4.0  6.736134               12                 No   \n",
       "4         2024-11-16    4.0  6.914768               12                 No   \n",
       "..               ...    ...       ...              ...                ...   \n",
       "95        2050-02-13    3.0  9.828134               12                 No   \n",
       "96        2050-09-04    3.0  9.843179               12                 No   \n",
       "97        2050-06-16    5.0  9.837320               12                 No   \n",
       "98        2050-11-19    5.0  9.848664               12                 No   \n",
       "99        2050-12-10    3.0  9.850165               12                 No   \n",
       "\n",
       "   conteo_dias Indice_c fecha_indice  valor  \n",
       "0     REAL/360       No   2022-09-18    0.0  \n",
       "1     REAL/360       No   2022-09-18    0.0  \n",
       "2     REAL/360       No   2022-09-18    0.0  \n",
       "3     REAL/360       No   2022-09-18    0.0  \n",
       "4     REAL/360       No   2022-09-18    0.0  \n",
       "..         ...      ...          ...    ...  \n",
       "95    REAL/360       No   2022-09-18    0.0  \n",
       "96    REAL/360       No   2022-09-18    0.0  \n",
       "97    REAL/360       No   2022-09-18    0.0  \n",
       "98    REAL/360       No   2022-09-18    0.0  \n",
       "99    REAL/360       No   2022-09-18    0.0  \n",
       "\n",
       "[100 rows x 14 columns]"
      ]
     },
     "metadata": {},
     "output_type": "display_data"
    }
   ],
   "source": [
    "db_object = DB_class(host=\"localhost\",user=\"root\",password=\"root\",database=\"trabajo_1\")\n",
    "class2_db = db_object.open_db()\n",
    "mi_cursor = class2_db.cursor()\n",
    "query = (\n",
    "'SELECT '+\\\n",
    "'trabajo_2.tabla_precios.Tipo,'+\\\n",
    "'trabajo_2.tabla_precios.Indice_tipo,'+\\\n",
    "'trabajo_2.tabla_precios.fecha_valoracion,'+\\\n",
    "'trabajo_2.tabla_precios.nemotecnico,'+\\\n",
    "'trabajo_2.tabla_precios.fecha_emision,'+\\\n",
    "'trabajo_2.tabla_precios.fecha_vencimiento,'+\\\n",
    "'trabajo_2.tabla_precios.cupon,'+\\\n",
    "'trabajo_2.tabla_precios.tir,'+\\\n",
    "'trabajo_2.tabla_precios.frecuencia_pago,'+\\\n",
    "'trabajo_2.tabla_precios.Indicador_indexado,'+\\\n",
    "'trabajo_2.tabla_precios.conteo_dias,'+\\\n",
    "'trabajo_2.tabla_indices.Indice_c,'+\\\n",
    "'trabajo_2.tabla_indices.fecha_indice,'+\\\n",
    "'trabajo_2.tabla_indices.valor '+\\\n",
    "'FROM trabajo_2.tabla_precios '+\\\n",
    "'left join trabajo_2.tabla_indices '+\\\n",
    "'on '+\\\n",
    "'concat(trabajo_2.tabla_indices.Indice_c,trabajo_2.tabla_indices.fecha_indice) ='+\\\n",
    "'concat(trabajo_2.tabla_precios.Indicador_indexado,trabajo_2.tabla_precios.fecha_valoracion) '+\\\n",
    "'where '+\\\n",
    "'trabajo_2.tabla_precios.Tipo in (\\'T5\\') '+\\\n",
    "'order by trabajo_2.tabla_precios.Tipo, trabajo_2.tabla_precios.Indice_tipo'\n",
    ")\n",
    "tes_faciales = pd.read_sql(query, con=class2_db)\n",
    "display(tes_faciales)"
   ]
  },
  {
   "cell_type": "code",
   "execution_count": 208,
   "metadata": {},
   "outputs": [],
   "source": [
    "val_date= tes_faciales.fecha_valoracion.drop_duplicates()[0]\n",
    "ini_date = tes_faciales.fecha_emision\n",
    "fin_date = tes_faciales.fecha_vencimiento\n",
    "cpn =  tes_faciales.cupon\n",
    "discount_rates = tes_faciales.tir.copy()\n",
    "frec_pag=tes_faciales.frecuencia_pago\n",
    "indicador=tes_faciales.valor\n",
    "conteo_dias=tes_faciales.conteo_dias\n",
    "discount_rates_ind=((1+discount_rates/100)*(1+indicador/100)-1)*100\n",
    "\n",
    "discount_rates_consol=tes_faciales.tir.copy()\n",
    "for i in range(len(discount_rates)):\n",
    "    if indicador[i]==0:\n",
    "        discount_rates_consol[i]=discount_rates[i]\n",
    "    else:\n",
    "        discount_rates_consol[i]=discount_rates_ind[i]"
   ]
  },
  {
   "cell_type": "code",
   "execution_count": 209,
   "metadata": {},
   "outputs": [],
   "source": [
    "mul_inst = 1 #intentar 1, 100 y 10000\n",
    "parametros = dict({\n",
    "        'val_date':val_date, \n",
    "        'ini_date':np.tile(ini_date,mul_inst), \n",
    "        'fin_date':np.tile(fin_date,mul_inst), \n",
    "        'coupon':np.tile(cpn,mul_inst),\n",
    "        'discount_rates':np.tile(discount_rates_consol,mul_inst),\n",
    "        'conteo_dias':np.tile(conteo_dias,mul_inst),\n",
    "        'frec_pag':np.tile(frec_pag,mul_inst),\n",
    "        'indicador':np.tile(indicador,mul_inst),\n",
    "        'limits':np.array([0,50])\n",
    "        })"
   ]
  },
  {
   "cell_type": "code",
   "execution_count": 210,
   "metadata": {},
   "outputs": [],
   "source": [
    "n_inst = len(parametros['coupon'])\n",
    "## Funcion de matriz de cupones\n",
    "coupon_dict = funciones.coupon_mGen(parametros)\n",
    "parametros['cpn_dict'] = coupon_dict\n",
    "\n",
    "parametros['delta_t'] = coupon_dict['days_matrix']\n",
    "parametros['discount_factors'] = funciones.discount_factor_m(parametros)\n",
    "parametros['mkt_prices']  = funciones.dirty_price_m(parametros)\n",
    "\n",
    "##### Calcular los betas\n",
    "venc = coupon_dict['days_matrix']"
   ]
  },
  {
   "cell_type": "code",
   "execution_count": 217,
   "metadata": {},
   "outputs": [
    {
     "name": "stderr",
     "output_type": "stream",
     "text": [
      "d:\\cursos\\Maestria finanzas\\S3_PySql rent fij\\Trabajo02\\Clase_6\\Funciones.py:584: RuntimeWarning: divide by zero encountered in true_divide\n",
      "  y = beta_0+params[1]*((1-np.exp(-ven/params[3]))/(ven/params[3]))+\\\n",
      "d:\\cursos\\Maestria finanzas\\S3_PySql rent fij\\Trabajo02\\Clase_6\\Funciones.py:585: RuntimeWarning: divide by zero encountered in true_divide\n",
      "  params[2]*((1-np.exp(-ven/params[3]))/(ven/params[3])- \\\n",
      "d:\\cursos\\Maestria finanzas\\S3_PySql rent fij\\Trabajo02\\Clase_6\\Funciones.py:586: RuntimeWarning: divide by zero encountered in true_divide\n",
      "  np.exp(-ven/params[3]))\n"
     ]
    },
    {
     "name": "stdout",
     "output_type": "stream",
     "text": [
      "El algortimo de optimizacion por fuerza bruta en Precio tarda 27.16 segundos\n"
     ]
    }
   ],
   "source": [
    "################ Optimizacion por precios}\n",
    "#T1 [5000,11000] \n",
    "#T2 [10,150] 1398.433544436016\n",
    "#T3 [50,130] 9181.385117817237\n",
    "#T4 [-16.2,1] 9774.326487644583\n",
    "\n",
    "parametros['limits'] = np.array([0,200])\n",
    "ini = time.time()\n",
    "optimiz_result = clase_6Fun.betas_optimization_bound_prices(parametros)\n",
    "fin = time.time()\n",
    "betas_opt = optimiz_result.copy()\n",
    "curva = funciones.NelsonSiegel_m(betas_opt, venc)\n",
    "print(f'El algortimo de optimizacion por fuerza bruta en Precio tarda {(fin-ini):.2f} segundos')\n",
    "#se demora menos de un min"
   ]
  },
  {
   "cell_type": "code",
   "execution_count": 218,
   "metadata": {},
   "outputs": [
    {
     "data": {
      "text/plain": [
       "6.495992266195993"
      ]
     },
     "execution_count": 218,
     "metadata": {},
     "output_type": "execute_result"
    }
   ],
   "source": [
    "#Evaluar los precios, las TIRs y la funcion objetivo \n",
    "prices_opt = funciones.dirty_price_m_ns(betas_opt,parametros)\n",
    "tirs_opt = funciones.find_ytm_loop(parametros,prices_opt)\n",
    "funciones.find_ytm_loop(parametros,prices_opt)\n",
    "clase_6Fun.objetive_function_prices(betas_opt,parametros)\n",
    "funciones.objetive_function(betas_opt,parametros)"
   ]
  },
  {
   "cell_type": "code",
   "execution_count": 219,
   "metadata": {},
   "outputs": [
    {
     "data": {
      "image/png": "[encoded data removed]",
      "text/plain": [
       "<Figure size 432x288 with 1 Axes>"
      ]
     },
     "metadata": {
      "needs_background": "light"
     },
     "output_type": "display_data"
    }
   ],
   "source": [
    "###Grafica\n",
    "y_term = [(fin_date[k]-val_date).days/365 for k in range(len(fin_date))]\n",
    "\n",
    "#axes = plt.axes()\n",
    "#axes.set_ylim([0, 3])\n",
    "plt.plot(venc.T, curva*100,'r')\n",
    "plt.plot(np.array(y_term), np.array(discount_rates),'bo')\n",
    "plt.grid(True)\n",
    "plt.ylabel('Tasa %')\n",
    "plt.xlabel('Plazo (años)')\n",
    "plt.suptitle('Curva Cero Cupón por Precio- 100 Pseudo TES')\n",
    "#plt.savefig(cwd+'\\\\Clase_6\\\\N&S-Price_Opt.png')\n",
    "#plt.ylim(-2, 2)\n",
    "plt.show()"
   ]
  },
  {
   "cell_type": "code",
   "execution_count": null,
   "metadata": {},
   "outputs": [],
   "source": []
  },
  {
   "cell_type": "code",
   "execution_count": null,
   "metadata": {},
   "outputs": [],
   "source": []
  },
  {
   "cell_type": "code",
   "execution_count": null,
   "metadata": {},
   "outputs": [],
   "source": []
  },
  {
   "cell_type": "code",
   "execution_count": 120,
   "metadata": {},
   "outputs": [
    {
     "name": "stdout",
     "output_type": "stream",
     "text": [
      "[datetime.date(2012, 9, 11) datetime.date(2012, 12, 11)\n",
      " datetime.date(2013, 3, 11) datetime.date(2013, 6, 11)\n",
      " datetime.date(2013, 9, 11) datetime.date(2013, 12, 11)\n",
      " datetime.date(2014, 3, 11) datetime.date(2014, 6, 11)\n",
      " datetime.date(2014, 9, 11) datetime.date(2014, 12, 11)]\n"
     ]
    }
   ],
   "source": [
    "tes_faciales.fecha_emision[0]\n",
    "issue=dt.datetime.strptime(str(tes_faciales.fecha_emision[0]),'%Y-%m-%d').date()\n",
    "periodos=10\n",
    "frecuencia_0=3\n",
    "years_0=0\n",
    "months_0=0\n",
    "arr = np.array([])\n",
    "for i in range(periodos):\n",
    "    if i==0:\n",
    "        years_0=0\n",
    "    elif (frecuencia_0*i)%12==0:\n",
    "        years_0=(frecuencia_0*i)/12\n",
    "    months_0=(frecuencia_0*i)%12\n",
    "    \n",
    "    respuesta=issue + relativedelta(years=years_0) +relativedelta(months=months_0) \n",
    "    arr = np.append(arr, respuesta)    \n",
    "    #print(years_0,' - ',months_0,' - ',respuesta)\n",
    "print(arr)"
   ]
  },
  {
   "cell_type": "code",
   "execution_count": null,
   "metadata": {},
   "outputs": [],
   "source": []
  }
 ],
 "metadata": {
  "kernelspec": {
   "display_name": "Python 3.9.12 ('base')",
   "language": "python",
   "name": "python3"
  },
  "language_info": {
   "codemirror_mode": {
    "name": "ipython",
    "version": 3
   },
   "file_extension": ".py",
   "mimetype": "text/x-python",
   "name": "python",
   "nbconvert_exporter": "python",
   "pygments_lexer": "ipython3",
   "version": "3.9.12"
  },
  "orig_nbformat": 4,
  "vscode": {
   "interpreter": {
    "hash": "ad2bdc8ecc057115af97d19610ffacc2b4e99fae6737bb82f5d7fb13d2f2c186"
   }
  }
 },
 "nbformat": 4,
 "nbformat_minor": 2
}
