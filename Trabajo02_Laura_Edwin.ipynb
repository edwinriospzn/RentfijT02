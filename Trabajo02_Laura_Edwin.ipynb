{
 "cells": [
  {
   "cell_type": "markdown",
   "metadata": {},
   "source": [
    "## Trabajo 02 Renta fija Sql y python - Laura Rojas - Edwin Rios"
   ]
  },
  {
   "cell_type": "markdown",
   "metadata": {},
   "source": [
    "#### Librerias"
   ]
  },
  {
   "cell_type": "code",
   "execution_count": 1,
   "metadata": {},
   "outputs": [],
   "source": [
    "import mysql.connector\n",
    "import datetime as dt\n",
    "import numpy as np\n",
    "import pandas as pd\n",
    "from dateutil.relativedelta import relativedelta\n",
    "import matplotlib.pyplot as plt\n"
   ]
  },
  {
   "cell_type": "code",
   "execution_count": 2,
   "metadata": {},
   "outputs": [],
   "source": [
    "import os\n",
    "import sys\n",
    "import inspect"
   ]
  },
  {
   "cell_type": "code",
   "execution_count": 3,
   "metadata": {},
   "outputs": [],
   "source": [
    "import Clase_6.Funciones as funciones\n",
    "from Clase_6.Funciones import DB_class\n",
    "import Clase_6.Clase_6Fun as clase_6Fun"
   ]
  },
  {
   "cell_type": "markdown",
   "metadata": {},
   "source": [
    "--funciones\\\n",
    "    |-DB_class\\\n",
    "    |-coupon_m(parametros)\\\n",
    "    |-discount_factor_m(parametros)\\\n",
    "    |-dirty_price_m(parametros)\\\n",
    "    |-dirty_price_1i(parametros,inst_pos)\\\n",
    "    |-ytm_1d_obj_func(x,i,params,prices)\\\n",
    "    |-find_ytm_loop(parametros,prices)\\\n",
    "    |-ytm_obj_func(x,params,prices)\\\n",
    "    |-find_ytm_m(parametros,prices)\\\n",
    "    |-NelsonSiegel_1d(params, ven)\\\n",
    "    |-NelsonSiegel_m(params, ven)\\\n",
    "    |-dirty_price_m_ns(betas,parametros)\\\n",
    "    |-objetive_function(betas,parametros)\\\n",
    "    |-betas_optimization(parametros)\\\n",
    "    |-betas_optimization_bound(parametros)\\"
   ]
  },
  {
   "cell_type": "markdown",
   "metadata": {},
   "source": [
    "--Clase_6Fun\\\n",
    "    |-Macaulay_duration_mat(parametros,prices)\\\n",
    "    |-Modified_duration_mat(parametros,prices)\\\n",
    "    |-Modified_duration_mat_2(parametros,prices,macaulay_duration)\\\n",
    "    |-Convexity_mat(parametros,prices)\\\n",
    "    |-Macaulay_duration_mat_loop(parametros,prices)\\\n",
    "    |-Modified_duration_mat_loop(parametros,prices)\\\n",
    "    |-Modified_duration_mat_loop_2(parametros,prices,macaulay_duration)\\\n",
    "    |-Convexity_mat_loop(parametros,prices)\\\n",
    "    |-objetive_function_prices(betas,parametros)\\\n",
    "    |-betas_optimization_bound_prices(parametros)\\"
   ]
  },
  {
   "cell_type": "code",
   "execution_count": 4,
   "metadata": {},
   "outputs": [],
   "source": [
    "import itertools\n",
    "import importlib"
   ]
  },
  {
   "cell_type": "markdown",
   "metadata": {},
   "source": [
    "#### Inclusión desde base de datos"
   ]
  },
  {
   "cell_type": "code",
   "execution_count": 15,
   "metadata": {},
   "outputs": [
    {
     "name": "stderr",
     "output_type": "stream",
     "text": [
      "C:\\Users\\Edwin\\AppData\\Roaming\\Python\\Python39\\site-packages\\pandas\\io\\sql.py:762: UserWarning: pandas only support SQLAlchemy connectable(engine/connection) ordatabase string URI or sqlite3 DBAPI2 connectionother DBAPI2 objects are not tested, please consider using SQLAlchemy\n",
      "  warnings.warn(\n"
     ]
    },
    {
     "data": {
      "text/html": [
       "<div>\n",
       "<style scoped>\n",
       "    .dataframe tbody tr th:only-of-type {\n",
       "        vertical-align: middle;\n",
       "    }\n",
       "\n",
       "    .dataframe tbody tr th {\n",
       "        vertical-align: top;\n",
       "    }\n",
       "\n",
       "    .dataframe thead th {\n",
       "        text-align: right;\n",
       "    }\n",
       "</style>\n",
       "<table border=\"1\" class=\"dataframe\">\n",
       "  <thead>\n",
       "    <tr style=\"text-align: right;\">\n",
       "      <th></th>\n",
       "      <th>Tipo</th>\n",
       "      <th>Indice_tipo</th>\n",
       "      <th>fecha_valoracion</th>\n",
       "      <th>nemotecnico</th>\n",
       "      <th>fecha_emision</th>\n",
       "      <th>fecha_vencimiento</th>\n",
       "      <th>cupon</th>\n",
       "      <th>tir</th>\n",
       "      <th>frecuencia_pago</th>\n",
       "      <th>Indicador_indexado</th>\n",
       "      <th>conteo_dias</th>\n",
       "      <th>precio_sucio</th>\n",
       "      <th>duracion_mac</th>\n",
       "      <th>duracion_mod</th>\n",
       "      <th>Convexidad</th>\n",
       "    </tr>\n",
       "  </thead>\n",
       "  <tbody>\n",
       "    <tr>\n",
       "      <th>0</th>\n",
       "      <td>T4</td>\n",
       "      <td>1</td>\n",
       "      <td>2022-09-18</td>\n",
       "      <td>CDTTGSS1V</td>\n",
       "      <td>2021-12-27</td>\n",
       "      <td>2022-09-27</td>\n",
       "      <td>7.1</td>\n",
       "      <td>4.538834</td>\n",
       "      <td>1</td>\n",
       "      <td>No</td>\n",
       "      <td>REAL/365</td>\n",
       "      <td>0.0</td>\n",
       "      <td>0.0</td>\n",
       "      <td>0.0</td>\n",
       "      <td>0.0</td>\n",
       "    </tr>\n",
       "    <tr>\n",
       "      <th>1</th>\n",
       "      <td>T4</td>\n",
       "      <td>2</td>\n",
       "      <td>2022-09-18</td>\n",
       "      <td>CDTAQCS1V</td>\n",
       "      <td>2021-09-28</td>\n",
       "      <td>2022-09-28</td>\n",
       "      <td>8.1</td>\n",
       "      <td>4.540110</td>\n",
       "      <td>1</td>\n",
       "      <td>No</td>\n",
       "      <td>REAL/365</td>\n",
       "      <td>0.0</td>\n",
       "      <td>0.0</td>\n",
       "      <td>0.0</td>\n",
       "      <td>0.0</td>\n",
       "    </tr>\n",
       "    <tr>\n",
       "      <th>2</th>\n",
       "      <td>T4</td>\n",
       "      <td>3</td>\n",
       "      <td>2022-09-18</td>\n",
       "      <td>CDTJXZS1V</td>\n",
       "      <td>2022-06-28</td>\n",
       "      <td>2022-09-28</td>\n",
       "      <td>6.1</td>\n",
       "      <td>4.540110</td>\n",
       "      <td>1</td>\n",
       "      <td>No</td>\n",
       "      <td>REAL/365</td>\n",
       "      <td>0.0</td>\n",
       "      <td>0.0</td>\n",
       "      <td>0.0</td>\n",
       "      <td>0.0</td>\n",
       "    </tr>\n",
       "    <tr>\n",
       "      <th>3</th>\n",
       "      <td>T4</td>\n",
       "      <td>4</td>\n",
       "      <td>2022-09-18</td>\n",
       "      <td>CDTFYMS1V</td>\n",
       "      <td>2022-03-29</td>\n",
       "      <td>2022-09-29</td>\n",
       "      <td>6.1</td>\n",
       "      <td>4.541385</td>\n",
       "      <td>1</td>\n",
       "      <td>No</td>\n",
       "      <td>REAL/365</td>\n",
       "      <td>0.0</td>\n",
       "      <td>0.0</td>\n",
       "      <td>0.0</td>\n",
       "      <td>0.0</td>\n",
       "    </tr>\n",
       "    <tr>\n",
       "      <th>4</th>\n",
       "      <td>T4</td>\n",
       "      <td>5</td>\n",
       "      <td>2022-09-18</td>\n",
       "      <td>CDTEGLS1V</td>\n",
       "      <td>2021-09-29</td>\n",
       "      <td>2022-09-29</td>\n",
       "      <td>6.1</td>\n",
       "      <td>4.541385</td>\n",
       "      <td>1</td>\n",
       "      <td>No</td>\n",
       "      <td>REAL/365</td>\n",
       "      <td>0.0</td>\n",
       "      <td>0.0</td>\n",
       "      <td>0.0</td>\n",
       "      <td>0.0</td>\n",
       "    </tr>\n",
       "    <tr>\n",
       "      <th>...</th>\n",
       "      <td>...</td>\n",
       "      <td>...</td>\n",
       "      <td>...</td>\n",
       "      <td>...</td>\n",
       "      <td>...</td>\n",
       "      <td>...</td>\n",
       "      <td>...</td>\n",
       "      <td>...</td>\n",
       "      <td>...</td>\n",
       "      <td>...</td>\n",
       "      <td>...</td>\n",
       "      <td>...</td>\n",
       "      <td>...</td>\n",
       "      <td>...</td>\n",
       "      <td>...</td>\n",
       "    </tr>\n",
       "    <tr>\n",
       "      <th>95</th>\n",
       "      <td>T4</td>\n",
       "      <td>96</td>\n",
       "      <td>2022-09-18</td>\n",
       "      <td>CDTAZMS1V</td>\n",
       "      <td>2022-06-07</td>\n",
       "      <td>2025-06-07</td>\n",
       "      <td>6.1</td>\n",
       "      <td>5.606767</td>\n",
       "      <td>1</td>\n",
       "      <td>No</td>\n",
       "      <td>REAL/365</td>\n",
       "      <td>0.0</td>\n",
       "      <td>0.0</td>\n",
       "      <td>0.0</td>\n",
       "      <td>0.0</td>\n",
       "    </tr>\n",
       "    <tr>\n",
       "      <th>96</th>\n",
       "      <td>T4</td>\n",
       "      <td>97</td>\n",
       "      <td>2022-09-18</td>\n",
       "      <td>CDTZVBS1V</td>\n",
       "      <td>2022-06-15</td>\n",
       "      <td>2025-06-15</td>\n",
       "      <td>7.1</td>\n",
       "      <td>5.614064</td>\n",
       "      <td>1</td>\n",
       "      <td>No</td>\n",
       "      <td>REAL/365</td>\n",
       "      <td>0.0</td>\n",
       "      <td>0.0</td>\n",
       "      <td>0.0</td>\n",
       "      <td>0.0</td>\n",
       "    </tr>\n",
       "    <tr>\n",
       "      <th>97</th>\n",
       "      <td>T4</td>\n",
       "      <td>98</td>\n",
       "      <td>2022-09-18</td>\n",
       "      <td>CDTBVTS1V</td>\n",
       "      <td>2022-09-09</td>\n",
       "      <td>2025-09-09</td>\n",
       "      <td>6.1</td>\n",
       "      <td>5.691255</td>\n",
       "      <td>1</td>\n",
       "      <td>No</td>\n",
       "      <td>REAL/365</td>\n",
       "      <td>0.0</td>\n",
       "      <td>0.0</td>\n",
       "      <td>0.0</td>\n",
       "      <td>0.0</td>\n",
       "    </tr>\n",
       "    <tr>\n",
       "      <th>98</th>\n",
       "      <td>T4</td>\n",
       "      <td>99</td>\n",
       "      <td>2022-09-18</td>\n",
       "      <td>CDTFVBS1V</td>\n",
       "      <td>2022-09-09</td>\n",
       "      <td>2025-09-09</td>\n",
       "      <td>7.1</td>\n",
       "      <td>5.691255</td>\n",
       "      <td>1</td>\n",
       "      <td>No</td>\n",
       "      <td>REAL/365</td>\n",
       "      <td>0.0</td>\n",
       "      <td>0.0</td>\n",
       "      <td>0.0</td>\n",
       "      <td>0.0</td>\n",
       "    </tr>\n",
       "    <tr>\n",
       "      <th>99</th>\n",
       "      <td>T4</td>\n",
       "      <td>100</td>\n",
       "      <td>2022-09-18</td>\n",
       "      <td>CDTENTS1V</td>\n",
       "      <td>2022-04-29</td>\n",
       "      <td>2025-10-29</td>\n",
       "      <td>7.1</td>\n",
       "      <td>5.735101</td>\n",
       "      <td>1</td>\n",
       "      <td>No</td>\n",
       "      <td>REAL/365</td>\n",
       "      <td>0.0</td>\n",
       "      <td>0.0</td>\n",
       "      <td>0.0</td>\n",
       "      <td>0.0</td>\n",
       "    </tr>\n",
       "  </tbody>\n",
       "</table>\n",
       "<p>100 rows × 15 columns</p>\n",
       "</div>"
      ],
      "text/plain": [
       "   Tipo  Indice_tipo fecha_valoracion nemotecnico fecha_emision  \\\n",
       "0    T4            1       2022-09-18   CDTTGSS1V    2021-12-27   \n",
       "1    T4            2       2022-09-18   CDTAQCS1V    2021-09-28   \n",
       "2    T4            3       2022-09-18   CDTJXZS1V    2022-06-28   \n",
       "3    T4            4       2022-09-18   CDTFYMS1V    2022-03-29   \n",
       "4    T4            5       2022-09-18   CDTEGLS1V    2021-09-29   \n",
       "..  ...          ...              ...         ...           ...   \n",
       "95   T4           96       2022-09-18   CDTAZMS1V    2022-06-07   \n",
       "96   T4           97       2022-09-18   CDTZVBS1V    2022-06-15   \n",
       "97   T4           98       2022-09-18   CDTBVTS1V    2022-09-09   \n",
       "98   T4           99       2022-09-18   CDTFVBS1V    2022-09-09   \n",
       "99   T4          100       2022-09-18   CDTENTS1V    2022-04-29   \n",
       "\n",
       "   fecha_vencimiento  cupon       tir  frecuencia_pago Indicador_indexado  \\\n",
       "0         2022-09-27    7.1  4.538834                1                 No   \n",
       "1         2022-09-28    8.1  4.540110                1                 No   \n",
       "2         2022-09-28    6.1  4.540110                1                 No   \n",
       "3         2022-09-29    6.1  4.541385                1                 No   \n",
       "4         2022-09-29    6.1  4.541385                1                 No   \n",
       "..               ...    ...       ...              ...                ...   \n",
       "95        2025-06-07    6.1  5.606767                1                 No   \n",
       "96        2025-06-15    7.1  5.614064                1                 No   \n",
       "97        2025-09-09    6.1  5.691255                1                 No   \n",
       "98        2025-09-09    7.1  5.691255                1                 No   \n",
       "99        2025-10-29    7.1  5.735101                1                 No   \n",
       "\n",
       "   conteo_dias  precio_sucio  duracion_mac  duracion_mod  Convexidad  \n",
       "0     REAL/365           0.0           0.0           0.0         0.0  \n",
       "1     REAL/365           0.0           0.0           0.0         0.0  \n",
       "2     REAL/365           0.0           0.0           0.0         0.0  \n",
       "3     REAL/365           0.0           0.0           0.0         0.0  \n",
       "4     REAL/365           0.0           0.0           0.0         0.0  \n",
       "..         ...           ...           ...           ...         ...  \n",
       "95    REAL/365           0.0           0.0           0.0         0.0  \n",
       "96    REAL/365           0.0           0.0           0.0         0.0  \n",
       "97    REAL/365           0.0           0.0           0.0         0.0  \n",
       "98    REAL/365           0.0           0.0           0.0         0.0  \n",
       "99    REAL/365           0.0           0.0           0.0         0.0  \n",
       "\n",
       "[100 rows x 15 columns]"
      ]
     },
     "metadata": {},
     "output_type": "display_data"
    }
   ],
   "source": [
    "db_object = DB_class(host=\"localhost\",user=\"root\",password=\"root\",database=\"trabajo_1\")\n",
    "class2_db = db_object.open_db()\n",
    "mi_cursor = class2_db.cursor()\n",
    "query = (\"SELECT * FROM trabajo_2.tabla_precios WHERE trabajo_2.tabla_precios.frecuencia_pago=1 \"+\\\n",
    "    \"order by trabajo_2.tabla_precios.Tipo, trabajo_2.tabla_precios.Indice_tipo\")\n",
    "tes_faciales = pd.read_sql(query, con=class2_db)\n",
    "display(tes_faciales)"
   ]
  },
  {
   "cell_type": "code",
   "execution_count": 25,
   "metadata": {},
   "outputs": [
    {
     "name": "stderr",
     "output_type": "stream",
     "text": [
      "C:\\Users\\Edwin\\AppData\\Roaming\\Python\\Python39\\site-packages\\pandas\\io\\sql.py:762: UserWarning: pandas only support SQLAlchemy connectable(engine/connection) ordatabase string URI or sqlite3 DBAPI2 connectionother DBAPI2 objects are not tested, please consider using SQLAlchemy\n",
      "  warnings.warn(\n"
     ]
    },
    {
     "data": {
      "text/html": [
       "<div>\n",
       "<style scoped>\n",
       "    .dataframe tbody tr th:only-of-type {\n",
       "        vertical-align: middle;\n",
       "    }\n",
       "\n",
       "    .dataframe tbody tr th {\n",
       "        vertical-align: top;\n",
       "    }\n",
       "\n",
       "    .dataframe thead th {\n",
       "        text-align: right;\n",
       "    }\n",
       "</style>\n",
       "<table border=\"1\" class=\"dataframe\">\n",
       "  <thead>\n",
       "    <tr style=\"text-align: right;\">\n",
       "      <th></th>\n",
       "      <th>Tipo</th>\n",
       "      <th>Indice_tipo</th>\n",
       "      <th>fecha_valoracion</th>\n",
       "      <th>nemotecnico</th>\n",
       "      <th>fecha_emision</th>\n",
       "      <th>fecha_vencimiento</th>\n",
       "      <th>cupon</th>\n",
       "      <th>tir</th>\n",
       "      <th>frecuencia_pago</th>\n",
       "      <th>Indicador_indexado</th>\n",
       "      <th>conteo_dias</th>\n",
       "      <th>Indice_c</th>\n",
       "      <th>fecha_indice</th>\n",
       "      <th>valor</th>\n",
       "    </tr>\n",
       "  </thead>\n",
       "  <tbody>\n",
       "    <tr>\n",
       "      <th>0</th>\n",
       "      <td>T2</td>\n",
       "      <td>1</td>\n",
       "      <td>2022-09-18</td>\n",
       "      <td>CDTWDF90</td>\n",
       "      <td>2012-09-11</td>\n",
       "      <td>2022-10-12</td>\n",
       "      <td>4.02</td>\n",
       "      <td>2.160716</td>\n",
       "      <td>12</td>\n",
       "      <td>IPC</td>\n",
       "      <td>REAL/365</td>\n",
       "      <td>IPC</td>\n",
       "      <td>2022-09-18</td>\n",
       "      <td>10.84</td>\n",
       "    </tr>\n",
       "    <tr>\n",
       "      <th>1</th>\n",
       "      <td>T2</td>\n",
       "      <td>2</td>\n",
       "      <td>2022-09-18</td>\n",
       "      <td>CDTRZF90</td>\n",
       "      <td>2020-09-11</td>\n",
       "      <td>2022-12-12</td>\n",
       "      <td>2.15</td>\n",
       "      <td>2.533970</td>\n",
       "      <td>12</td>\n",
       "      <td>IPC</td>\n",
       "      <td>REAL/365</td>\n",
       "      <td>IPC</td>\n",
       "      <td>2022-09-18</td>\n",
       "      <td>10.84</td>\n",
       "    </tr>\n",
       "    <tr>\n",
       "      <th>2</th>\n",
       "      <td>T2</td>\n",
       "      <td>3</td>\n",
       "      <td>2022-09-18</td>\n",
       "      <td>CDTRDW90</td>\n",
       "      <td>2018-01-18</td>\n",
       "      <td>2023-01-18</td>\n",
       "      <td>2.90</td>\n",
       "      <td>2.747923</td>\n",
       "      <td>12</td>\n",
       "      <td>IPC</td>\n",
       "      <td>REAL/365</td>\n",
       "      <td>IPC</td>\n",
       "      <td>2022-09-18</td>\n",
       "      <td>10.84</td>\n",
       "    </tr>\n",
       "    <tr>\n",
       "      <th>3</th>\n",
       "      <td>T2</td>\n",
       "      <td>4</td>\n",
       "      <td>2022-09-18</td>\n",
       "      <td>CDTCNP90</td>\n",
       "      <td>2021-01-22</td>\n",
       "      <td>2023-01-22</td>\n",
       "      <td>0.65</td>\n",
       "      <td>2.770512</td>\n",
       "      <td>12</td>\n",
       "      <td>IPC</td>\n",
       "      <td>REAL/365</td>\n",
       "      <td>IPC</td>\n",
       "      <td>2022-09-18</td>\n",
       "      <td>10.84</td>\n",
       "    </tr>\n",
       "    <tr>\n",
       "      <th>4</th>\n",
       "      <td>T2</td>\n",
       "      <td>5</td>\n",
       "      <td>2022-09-18</td>\n",
       "      <td>CDTKVM90</td>\n",
       "      <td>2021-07-22</td>\n",
       "      <td>2023-01-22</td>\n",
       "      <td>0.50</td>\n",
       "      <td>2.770512</td>\n",
       "      <td>12</td>\n",
       "      <td>IPC</td>\n",
       "      <td>REAL/365</td>\n",
       "      <td>IPC</td>\n",
       "      <td>2022-09-18</td>\n",
       "      <td>10.84</td>\n",
       "    </tr>\n",
       "    <tr>\n",
       "      <th>...</th>\n",
       "      <td>...</td>\n",
       "      <td>...</td>\n",
       "      <td>...</td>\n",
       "      <td>...</td>\n",
       "      <td>...</td>\n",
       "      <td>...</td>\n",
       "      <td>...</td>\n",
       "      <td>...</td>\n",
       "      <td>...</td>\n",
       "      <td>...</td>\n",
       "      <td>...</td>\n",
       "      <td>...</td>\n",
       "      <td>...</td>\n",
       "      <td>...</td>\n",
       "    </tr>\n",
       "    <tr>\n",
       "      <th>95</th>\n",
       "      <td>T2</td>\n",
       "      <td>96</td>\n",
       "      <td>2022-09-18</td>\n",
       "      <td>CDTGCN90</td>\n",
       "      <td>2018-09-26</td>\n",
       "      <td>2043-09-26</td>\n",
       "      <td>4.12</td>\n",
       "      <td>7.884695</td>\n",
       "      <td>12</td>\n",
       "      <td>IPC</td>\n",
       "      <td>REAL/365</td>\n",
       "      <td>IPC</td>\n",
       "      <td>2022-09-18</td>\n",
       "      <td>10.84</td>\n",
       "    </tr>\n",
       "    <tr>\n",
       "      <th>96</th>\n",
       "      <td>T2</td>\n",
       "      <td>97</td>\n",
       "      <td>2022-09-18</td>\n",
       "      <td>CDTPAA90</td>\n",
       "      <td>2018-10-19</td>\n",
       "      <td>2043-10-19</td>\n",
       "      <td>4.11</td>\n",
       "      <td>7.885051</td>\n",
       "      <td>12</td>\n",
       "      <td>IPC</td>\n",
       "      <td>REAL/365</td>\n",
       "      <td>IPC</td>\n",
       "      <td>2022-09-18</td>\n",
       "      <td>10.84</td>\n",
       "    </tr>\n",
       "    <tr>\n",
       "      <th>97</th>\n",
       "      <td>T2</td>\n",
       "      <td>98</td>\n",
       "      <td>2022-09-18</td>\n",
       "      <td>CDTFIK90</td>\n",
       "      <td>2018-11-16</td>\n",
       "      <td>2043-11-16</td>\n",
       "      <td>4.11</td>\n",
       "      <td>7.885482</td>\n",
       "      <td>12</td>\n",
       "      <td>IPC</td>\n",
       "      <td>REAL/365</td>\n",
       "      <td>IPC</td>\n",
       "      <td>2022-09-18</td>\n",
       "      <td>10.84</td>\n",
       "    </tr>\n",
       "    <tr>\n",
       "      <th>98</th>\n",
       "      <td>T2</td>\n",
       "      <td>99</td>\n",
       "      <td>2022-09-18</td>\n",
       "      <td>CDTVQT90</td>\n",
       "      <td>2018-03-07</td>\n",
       "      <td>2044-03-07</td>\n",
       "      <td>4.10</td>\n",
       "      <td>7.887171</td>\n",
       "      <td>12</td>\n",
       "      <td>IPC</td>\n",
       "      <td>REAL/365</td>\n",
       "      <td>IPC</td>\n",
       "      <td>2022-09-18</td>\n",
       "      <td>10.84</td>\n",
       "    </tr>\n",
       "    <tr>\n",
       "      <th>99</th>\n",
       "      <td>T2</td>\n",
       "      <td>100</td>\n",
       "      <td>2022-09-18</td>\n",
       "      <td>CDTORY90</td>\n",
       "      <td>2018-03-15</td>\n",
       "      <td>2044-03-15</td>\n",
       "      <td>4.15</td>\n",
       "      <td>7.887290</td>\n",
       "      <td>12</td>\n",
       "      <td>IPC</td>\n",
       "      <td>REAL/365</td>\n",
       "      <td>IPC</td>\n",
       "      <td>2022-09-18</td>\n",
       "      <td>10.84</td>\n",
       "    </tr>\n",
       "  </tbody>\n",
       "</table>\n",
       "<p>100 rows × 14 columns</p>\n",
       "</div>"
      ],
      "text/plain": [
       "   Tipo  Indice_tipo fecha_valoracion nemotecnico fecha_emision  \\\n",
       "0    T2            1       2022-09-18    CDTWDF90    2012-09-11   \n",
       "1    T2            2       2022-09-18    CDTRZF90    2020-09-11   \n",
       "2    T2            3       2022-09-18    CDTRDW90    2018-01-18   \n",
       "3    T2            4       2022-09-18    CDTCNP90    2021-01-22   \n",
       "4    T2            5       2022-09-18    CDTKVM90    2021-07-22   \n",
       "..  ...          ...              ...         ...           ...   \n",
       "95   T2           96       2022-09-18    CDTGCN90    2018-09-26   \n",
       "96   T2           97       2022-09-18    CDTPAA90    2018-10-19   \n",
       "97   T2           98       2022-09-18    CDTFIK90    2018-11-16   \n",
       "98   T2           99       2022-09-18    CDTVQT90    2018-03-07   \n",
       "99   T2          100       2022-09-18    CDTORY90    2018-03-15   \n",
       "\n",
       "   fecha_vencimiento  cupon       tir  frecuencia_pago Indicador_indexado  \\\n",
       "0         2022-10-12   4.02  2.160716               12                IPC   \n",
       "1         2022-12-12   2.15  2.533970               12                IPC   \n",
       "2         2023-01-18   2.90  2.747923               12                IPC   \n",
       "3         2023-01-22   0.65  2.770512               12                IPC   \n",
       "4         2023-01-22   0.50  2.770512               12                IPC   \n",
       "..               ...    ...       ...              ...                ...   \n",
       "95        2043-09-26   4.12  7.884695               12                IPC   \n",
       "96        2043-10-19   4.11  7.885051               12                IPC   \n",
       "97        2043-11-16   4.11  7.885482               12                IPC   \n",
       "98        2044-03-07   4.10  7.887171               12                IPC   \n",
       "99        2044-03-15   4.15  7.887290               12                IPC   \n",
       "\n",
       "   conteo_dias Indice_c fecha_indice  valor  \n",
       "0     REAL/365      IPC   2022-09-18  10.84  \n",
       "1     REAL/365      IPC   2022-09-18  10.84  \n",
       "2     REAL/365      IPC   2022-09-18  10.84  \n",
       "3     REAL/365      IPC   2022-09-18  10.84  \n",
       "4     REAL/365      IPC   2022-09-18  10.84  \n",
       "..         ...      ...          ...    ...  \n",
       "95    REAL/365      IPC   2022-09-18  10.84  \n",
       "96    REAL/365      IPC   2022-09-18  10.84  \n",
       "97    REAL/365      IPC   2022-09-18  10.84  \n",
       "98    REAL/365      IPC   2022-09-18  10.84  \n",
       "99    REAL/365      IPC   2022-09-18  10.84  \n",
       "\n",
       "[100 rows x 14 columns]"
      ]
     },
     "metadata": {},
     "output_type": "display_data"
    }
   ],
   "source": [
    "db_object = DB_class(host=\"localhost\",user=\"root\",password=\"root\",database=\"trabajo_1\")\n",
    "class2_db = db_object.open_db()\n",
    "mi_cursor = class2_db.cursor()\n",
    "query = (\n",
    "'SELECT '+\\\n",
    "'trabajo_2.tabla_precios.Tipo,'+\\\n",
    "'trabajo_2.tabla_precios.Indice_tipo,'+\\\n",
    "'trabajo_2.tabla_precios.fecha_valoracion,'+\\\n",
    "'trabajo_2.tabla_precios.nemotecnico,'+\\\n",
    "'trabajo_2.tabla_precios.fecha_emision,'+\\\n",
    "'trabajo_2.tabla_precios.fecha_vencimiento,'+\\\n",
    "'trabajo_2.tabla_precios.cupon,'+\\\n",
    "'trabajo_2.tabla_precios.tir,'+\\\n",
    "'trabajo_2.tabla_precios.frecuencia_pago,'+\\\n",
    "'trabajo_2.tabla_precios.Indicador_indexado,'+\\\n",
    "'trabajo_2.tabla_precios.conteo_dias,'+\\\n",
    "'trabajo_2.tabla_indices.Indice_c,'+\\\n",
    "'trabajo_2.tabla_indices.fecha_indice,'+\\\n",
    "'trabajo_2.tabla_indices.valor '+\\\n",
    "'FROM trabajo_2.tabla_precios '+\\\n",
    "'left join trabajo_2.tabla_indices '+\\\n",
    "'on '+\\\n",
    "'concat(trabajo_2.tabla_indices.Indice_c,trabajo_2.tabla_indices.fecha_indice) ='+\\\n",
    "'concat(trabajo_2.tabla_precios.Indicador_indexado,trabajo_2.tabla_precios.fecha_valoracion) '+\\\n",
    "'where '+\\\n",
    "'trabajo_2.tabla_precios.frecuencia_pago=12 and trabajo_2.tabla_indices.Indice_c=\\'IPC\\' '+\\\n",
    "'order by trabajo_2.tabla_precios.Tipo, trabajo_2.tabla_precios.Indice_tipo'\n",
    ")\n",
    "tes_faciales = pd.read_sql(query, con=class2_db)\n",
    "display(tes_faciales)"
   ]
  },
  {
   "cell_type": "code",
   "execution_count": null,
   "metadata": {},
   "outputs": [],
   "source": []
  },
  {
   "cell_type": "code",
   "execution_count": 37,
   "metadata": {},
   "outputs": [],
   "source": [
    "val_date= tes_faciales.fecha_valoracion.drop_duplicates()[0]\n",
    "ini_date = tes_faciales.fecha_emision\n",
    "fin_date = tes_faciales.fecha_vencimiento\n",
    "cpn =  tes_faciales.cupon\n",
    "discount_rates = tes_faciales.tir\n",
    "frec_pag=tes_faciales.frecuencia_pago\n",
    "indicador=tes_faciales.valor\n",
    "discount_rates_ind=((1+discount_rates/100)*(1+indicador/100)-1)*100"
   ]
  },
  {
   "cell_type": "code",
   "execution_count": 36,
   "metadata": {},
   "outputs": [
    {
     "data": {
      "text/plain": [
       "pandas.core.series.Series"
      ]
     },
     "execution_count": 36,
     "metadata": {},
     "output_type": "execute_result"
    }
   ],
   "source": [
    "type(resultado)"
   ]
  },
  {
   "cell_type": "code",
   "execution_count": 35,
   "metadata": {},
   "outputs": [],
   "source": [
    "resultado=((1+discount_rates/100)*(1+indicador/100)-1)*100"
   ]
  },
  {
   "cell_type": "code",
   "execution_count": null,
   "metadata": {},
   "outputs": [],
   "source": []
  },
  {
   "cell_type": "code",
   "execution_count": 39,
   "metadata": {},
   "outputs": [],
   "source": [
    "### titulos\n",
    "mul_inst = 1 #intentar 1, 100 y 10000\n",
    "parametros = dict({\n",
    "        'val_date':val_date, \n",
    "        'ini_date':np.tile(ini_date,mul_inst), \n",
    "        'fin_date':np.tile(fin_date,mul_inst), \n",
    "        'coupon':np.tile(cpn,mul_inst),\n",
    "        'discount_rates':np.tile(discount_rates,mul_inst),\n",
    "        'discount_rates_ind':np.tile(discount_rates_ind,mul_inst),\n",
    "        'frec_pag':np.tile(frec_pag,mul_inst),\n",
    "        'indicador':np.tile(indicador,mul_inst),\n",
    "        'limits':np.array([-20,20])\n",
    "        })"
   ]
  },
  {
   "cell_type": "code",
   "execution_count": 90,
   "metadata": {},
   "outputs": [
    {
     "data": {
      "text/plain": [
       "(200,)"
      ]
     },
     "execution_count": 90,
     "metadata": {},
     "output_type": "execute_result"
    }
   ],
   "source": [
    "ini_date.shape"
   ]
  },
  {
   "cell_type": "code",
   "execution_count": 40,
   "metadata": {},
   "outputs": [
    {
     "data": {
      "text/plain": [
       "<module 'Clase_6.Funciones' from 'd:\\\\cursos\\\\Maestria finanzas\\\\S3_PySql rent fij\\\\Trabajo02\\\\Clase_6\\\\Funciones.py'>"
      ]
     },
     "execution_count": 40,
     "metadata": {},
     "output_type": "execute_result"
    }
   ],
   "source": [
    "importlib.reload(funciones)"
   ]
  },
  {
   "cell_type": "code",
   "execution_count": 41,
   "metadata": {},
   "outputs": [],
   "source": [
    "n_inst = len(parametros['coupon'])\n",
    "## Funcion de matriz de cupones\n",
    "coupon_dict = funciones.coupon_m365ind(parametros)\n",
    "parametros['cpn_dict'] = coupon_dict\n",
    "parametros['delta_t'] = coupon_dict['days_matrix']/365\n",
    "parametros['discount_factors'] = funciones.discount_factor_m(parametros)\n",
    "\n",
    "prices = funciones.dirty_price_m(parametros)"
   ]
  },
  {
   "cell_type": "code",
   "execution_count": 27,
   "metadata": {},
   "outputs": [
    {
     "name": "stdout",
     "output_type": "stream",
     "text": [
      "0\n",
      "12\n",
      "24\n",
      "36\n",
      "48\n",
      "60\n",
      "72\n",
      "84\n",
      "96\n",
      "108\n"
     ]
    }
   ],
   "source": [
    "x_0=0\n",
    "for i in range(10):\n",
    "    x_0=+i*12\n",
    "    print(x_0)"
   ]
  },
  {
   "cell_type": "code",
   "execution_count": 120,
   "metadata": {},
   "outputs": [
    {
     "name": "stdout",
     "output_type": "stream",
     "text": [
      "[datetime.date(2012, 9, 11) datetime.date(2012, 12, 11)\n",
      " datetime.date(2013, 3, 11) datetime.date(2013, 6, 11)\n",
      " datetime.date(2013, 9, 11) datetime.date(2013, 12, 11)\n",
      " datetime.date(2014, 3, 11) datetime.date(2014, 6, 11)\n",
      " datetime.date(2014, 9, 11) datetime.date(2014, 12, 11)]\n"
     ]
    }
   ],
   "source": [
    "tes_faciales.fecha_emision[0]\n",
    "issue=dt.datetime.strptime(str(tes_faciales.fecha_emision[0]),'%Y-%m-%d').date()\n",
    "periodos=10\n",
    "frecuencia_0=3\n",
    "years_0=0\n",
    "months_0=0\n",
    "arr = np.array([])\n",
    "for i in range(periodos):\n",
    "    if i==0:\n",
    "        years_0=0\n",
    "    elif (frecuencia_0*i)%12==0:\n",
    "        years_0=(frecuencia_0*i)/12\n",
    "    months_0=(frecuencia_0*i)%12\n",
    "    \n",
    "    respuesta=issue + relativedelta(years=years_0) +relativedelta(months=months_0) \n",
    "    arr = np.append(arr, respuesta)    \n",
    "    #print(years_0,' - ',months_0,' - ',respuesta)\n",
    "print(arr)"
   ]
  },
  {
   "cell_type": "code",
   "execution_count": 121,
   "metadata": {},
   "outputs": [
    {
     "data": {
      "text/plain": [
       "(10,)"
      ]
     },
     "execution_count": 121,
     "metadata": {},
     "output_type": "execute_result"
    }
   ],
   "source": [
    "arr.shape"
   ]
  },
  {
   "cell_type": "code",
   "execution_count": 87,
   "metadata": {},
   "outputs": [
    {
     "name": "stdout",
     "output_type": "stream",
     "text": [
      "2012-04-12\n",
      "2013-04-12\n",
      "2014-04-12\n",
      "2015-04-12\n",
      "2016-04-12\n",
      "2017-04-12\n",
      "2018-04-12\n",
      "2019-04-12\n",
      "2020-04-12\n",
      "2021-04-12\n"
     ]
    }
   ],
   "source": [
    "tes_faciales.fecha_emision[0]\n",
    "issue=dt.datetime.strptime(str(tes_faciales.fecha_emision[0]),'%Y-%m-%d').date()\n",
    "periodos=10\n",
    "for i in range(periodos):\n",
    "    print(issue + relativedelta(years=+i))"
   ]
  },
  {
   "cell_type": "code",
   "execution_count": 78,
   "metadata": {},
   "outputs": [
    {
     "data": {
      "text/plain": [
       "datetime.date(2012, 4, 12)"
      ]
     },
     "execution_count": 78,
     "metadata": {},
     "output_type": "execute_result"
    }
   ],
   "source": [
    "tes_faciales.fecha_emision[0]"
   ]
  },
  {
   "cell_type": "code",
   "execution_count": 79,
   "metadata": {},
   "outputs": [],
   "source": [
    "issue=dt.datetime.strptime(str(tes_faciales.fecha_emision[0]),'%Y-%m-%d').date()"
   ]
  },
  {
   "cell_type": "code",
   "execution_count": 80,
   "metadata": {},
   "outputs": [
    {
     "name": "stdout",
     "output_type": "stream",
     "text": [
      "2012-10-12\n"
     ]
    }
   ],
   "source": [
    "#respuesta=issue + relativedelta(months=+1) \n",
    "respuesta=issue + relativedelta(years=0) +relativedelta(months=6) \n",
    "print(respuesta)"
   ]
  },
  {
   "cell_type": "code",
   "execution_count": null,
   "metadata": {},
   "outputs": [],
   "source": [
    "coupon_dates = np.array([issue + relativedelta(years=1,month=0) for x in range(int(flow))])"
   ]
  },
  {
   "cell_type": "code",
   "execution_count": 71,
   "metadata": {},
   "outputs": [],
   "source": [
    "from datetime import datetime"
   ]
  },
  {
   "cell_type": "code",
   "execution_count": 76,
   "metadata": {},
   "outputs": [
    {
     "ename": "ValueError",
     "evalue": "unconverted data remains:  23:18:22.913338",
     "output_type": "error",
     "traceback": [
      "\u001b[1;31m---------------------------------------------------------------------------\u001b[0m",
      "\u001b[1;31mValueError\u001b[0m                                Traceback (most recent call last)",
      "\u001b[1;32md:\\cursos\\Maestria finanzas\\S3_PySql rent fij\\Trabajo02\\Trabajo02_Laura_Edwin.ipynb Celda 24\u001b[0m in \u001b[0;36m<cell line: 2>\u001b[1;34m()\u001b[0m\n\u001b[0;32m      <a href='vscode-notebook-cell:/d%3A/cursos/Maestria%20finanzas/S3_PySql%20rent%20fij/Trabajo02/Trabajo02_Laura_Edwin.ipynb#X30sZmlsZQ%3D%3D?line=0'>1</a>\u001b[0m now \u001b[39m=\u001b[39m datetime\u001b[39m.\u001b[39mnow()\n\u001b[1;32m----> <a href='vscode-notebook-cell:/d%3A/cursos/Maestria%20finanzas/S3_PySql%20rent%20fij/Trabajo02/Trabajo02_Laura_Edwin.ipynb#X30sZmlsZQ%3D%3D?line=1'>2</a>\u001b[0m now \u001b[39m=\u001b[39m dt\u001b[39m.\u001b[39;49mdatetime\u001b[39m.\u001b[39;49mstrptime(\u001b[39mstr\u001b[39;49m(datetime\u001b[39m.\u001b[39;49mnow()),\u001b[39m'\u001b[39;49m\u001b[39m%\u001b[39;49m\u001b[39mY-\u001b[39;49m\u001b[39m%\u001b[39;49m\u001b[39mm-\u001b[39;49m\u001b[39m%d\u001b[39;49;00m\u001b[39m'\u001b[39;49m)\u001b[39m.\u001b[39mdate()\n\u001b[0;32m      <a href='vscode-notebook-cell:/d%3A/cursos/Maestria%20finanzas/S3_PySql%20rent%20fij/Trabajo02/Trabajo02_Laura_Edwin.ipynb#X30sZmlsZQ%3D%3D?line=2'>3</a>\u001b[0m \u001b[39mprint\u001b[39m(now)  \u001b[39m# 👉️ 2022-06-22 19:27:37.483564\u001b[39;00m\n\u001b[0;32m      <a href='vscode-notebook-cell:/d%3A/cursos/Maestria%20finanzas/S3_PySql%20rent%20fij/Trabajo02/Trabajo02_Laura_Edwin.ipynb#X30sZmlsZQ%3D%3D?line=4'>5</a>\u001b[0m result \u001b[39m=\u001b[39m now \u001b[39m+\u001b[39m relativedelta(months\u001b[39m=\u001b[39m\u001b[39m+\u001b[39m\u001b[39m3\u001b[39m)\n",
      "File \u001b[1;32mc:\\ProgramData\\Anaconda3\\lib\\_strptime.py:568\u001b[0m, in \u001b[0;36m_strptime_datetime\u001b[1;34m(cls, data_string, format)\u001b[0m\n\u001b[0;32m    565\u001b[0m \u001b[39mdef\u001b[39;00m \u001b[39m_strptime_datetime\u001b[39m(\u001b[39mcls\u001b[39m, data_string, \u001b[39mformat\u001b[39m\u001b[39m=\u001b[39m\u001b[39m\"\u001b[39m\u001b[39m%a\u001b[39;00m\u001b[39m \u001b[39m\u001b[39m%\u001b[39m\u001b[39mb \u001b[39m\u001b[39m%d\u001b[39;00m\u001b[39m \u001b[39m\u001b[39m%\u001b[39m\u001b[39mH:\u001b[39m\u001b[39m%\u001b[39m\u001b[39mM:\u001b[39m\u001b[39m%\u001b[39m\u001b[39mS \u001b[39m\u001b[39m%\u001b[39m\u001b[39mY\u001b[39m\u001b[39m\"\u001b[39m):\n\u001b[0;32m    566\u001b[0m     \u001b[39m\"\"\"Return a class cls instance based on the input string and the\u001b[39;00m\n\u001b[0;32m    567\u001b[0m \u001b[39m    format string.\"\"\"\u001b[39;00m\n\u001b[1;32m--> 568\u001b[0m     tt, fraction, gmtoff_fraction \u001b[39m=\u001b[39m _strptime(data_string, \u001b[39mformat\u001b[39;49m)\n\u001b[0;32m    569\u001b[0m     tzname, gmtoff \u001b[39m=\u001b[39m tt[\u001b[39m-\u001b[39m\u001b[39m2\u001b[39m:]\n\u001b[0;32m    570\u001b[0m     args \u001b[39m=\u001b[39m tt[:\u001b[39m6\u001b[39m] \u001b[39m+\u001b[39m (fraction,)\n",
      "File \u001b[1;32mc:\\ProgramData\\Anaconda3\\lib\\_strptime.py:352\u001b[0m, in \u001b[0;36m_strptime\u001b[1;34m(data_string, format)\u001b[0m\n\u001b[0;32m    349\u001b[0m     \u001b[39mraise\u001b[39;00m \u001b[39mValueError\u001b[39;00m(\u001b[39m\"\u001b[39m\u001b[39mtime data \u001b[39m\u001b[39m%r\u001b[39;00m\u001b[39m does not match format \u001b[39m\u001b[39m%r\u001b[39;00m\u001b[39m\"\u001b[39m \u001b[39m%\u001b[39m\n\u001b[0;32m    350\u001b[0m                      (data_string, \u001b[39mformat\u001b[39m))\n\u001b[0;32m    351\u001b[0m \u001b[39mif\u001b[39;00m \u001b[39mlen\u001b[39m(data_string) \u001b[39m!=\u001b[39m found\u001b[39m.\u001b[39mend():\n\u001b[1;32m--> 352\u001b[0m     \u001b[39mraise\u001b[39;00m \u001b[39mValueError\u001b[39;00m(\u001b[39m\"\u001b[39m\u001b[39munconverted data remains: \u001b[39m\u001b[39m%s\u001b[39;00m\u001b[39m\"\u001b[39m \u001b[39m%\u001b[39m\n\u001b[0;32m    353\u001b[0m                       data_string[found\u001b[39m.\u001b[39mend():])\n\u001b[0;32m    355\u001b[0m iso_year \u001b[39m=\u001b[39m year \u001b[39m=\u001b[39m \u001b[39mNone\u001b[39;00m\n\u001b[0;32m    356\u001b[0m month \u001b[39m=\u001b[39m day \u001b[39m=\u001b[39m \u001b[39m1\u001b[39m\n",
      "\u001b[1;31mValueError\u001b[0m: unconverted data remains:  23:18:22.913338"
     ]
    }
   ],
   "source": [
    "now = datetime.now()\n",
    "now = dt.datetime.strptime(str(datetime.now()),'%Y-%m-%d').date()\n",
    "print(now)  # 👉️ 2022-06-22 19:27:37.483564\n",
    "\n",
    "result = now + relativedelta(months=+3)\n",
    "\n",
    "print(result)  # 👉️ 2022-09-22 19:27:37.483564"
   ]
  },
  {
   "cell_type": "code",
   "execution_count": 112,
   "metadata": {},
   "outputs": [],
   "source": [
    "prueba=np.array([1,2,2])"
   ]
  },
  {
   "cell_type": "code",
   "execution_count": 113,
   "metadata": {},
   "outputs": [
    {
     "data": {
      "text/plain": [
       "(3,)"
      ]
     },
     "execution_count": 113,
     "metadata": {},
     "output_type": "execute_result"
    }
   ],
   "source": [
    "prueba.shape"
   ]
  },
  {
   "cell_type": "code",
   "execution_count": 116,
   "metadata": {},
   "outputs": [
    {
     "name": "stdout",
     "output_type": "stream",
     "text": [
      "Original Array :  [1 8 3 3 5]\n",
      "Array after appending :  [1 8 3 3 5 7]\n"
     ]
    }
   ],
   "source": [
    " \n",
    "# creating an array\n",
    "arr = np.array([1, 8, 3, 3, 5])\n",
    "print('Original Array : ', arr)\n",
    " \n",
    "# appending to the array\n",
    "arr = np.append(arr, [7])\n",
    "print('Array after appending : ', arr)"
   ]
  },
  {
   "cell_type": "code",
   "execution_count": 117,
   "metadata": {},
   "outputs": [
    {
     "data": {
      "text/plain": [
       "(6,)"
      ]
     },
     "execution_count": 117,
     "metadata": {},
     "output_type": "execute_result"
    }
   ],
   "source": [
    "arr.shape"
   ]
  },
  {
   "cell_type": "code",
   "execution_count": 118,
   "metadata": {},
   "outputs": [
    {
     "name": "stdout",
     "output_type": "stream",
     "text": [
      "Original Array :  []\n",
      "Array after appending :  [7.]\n"
     ]
    }
   ],
   "source": [
    "# creating an array\n",
    "arr = np.array([])\n",
    "print('Original Array : ', arr)\n",
    " \n",
    "# appending to the array\n",
    "arr = np.append(arr, [7])\n",
    "print('Array after appending : ', arr)"
   ]
  },
  {
   "cell_type": "code",
   "execution_count": null,
   "metadata": {},
   "outputs": [],
   "source": []
  }
 ],
 "metadata": {
  "kernelspec": {
   "display_name": "Python 3.9.12 ('base')",
   "language": "python",
   "name": "python3"
  },
  "language_info": {
   "codemirror_mode": {
    "name": "ipython",
    "version": 3
   },
   "file_extension": ".py",
   "mimetype": "text/x-python",
   "name": "python",
   "nbconvert_exporter": "python",
   "pygments_lexer": "ipython3",
   "version": "3.9.12"
  },
  "orig_nbformat": 4,
  "vscode": {
   "interpreter": {
    "hash": "ad2bdc8ecc057115af97d19610ffacc2b4e99fae6737bb82f5d7fb13d2f2c186"
   }
  }
 },
 "nbformat": 4,
 "nbformat_minor": 2
}
